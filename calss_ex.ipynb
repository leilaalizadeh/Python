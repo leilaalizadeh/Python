{
  "nbformat": 4,
  "nbformat_minor": 0,
  "metadata": {
    "colab": {
      "provenance": []
    },
    "kernelspec": {
      "name": "python3",
      "display_name": "Python 3"
    },
    "language_info": {
      "name": "python"
    }
  },
  "cells": [
    {
      "cell_type": "code",
      "execution_count": 34,
      "metadata": {
        "colab": {
          "base_uri": "https://localhost:8080/"
        },
        "id": "C9n4PH1dr-di",
        "outputId": "61cb9c39-fbeb-4854-f6bd-12e1f975cade"
      },
      "outputs": [
        {
          "output_type": "stream",
          "name": "stdout",
          "text": [
            "--------------------\n",
            "ID: 1\n",
            "Name: Leila Alizadeh\n",
            "Age: 30\n",
            "Phone: 00393510000000\n",
            "Address: Italy\n",
            "Gender: F\n",
            "--------------------\n",
            "ID: 1\n",
            "--------------------\n",
            "ID: 1\n",
            "Name: Neda Alizadeh\n",
            "Age: 30\n",
            "Phone: 00393510000000\n",
            "Address: Italy\n",
            "Gender: F\n",
            "--------------------\n",
            "<class '__main__.Person'>\n",
            "--------------------\n",
            "Name: Leila Alizadeh\n",
            "Age: 30\n",
            "Phone: 00393510000000\n",
            "Address: Italy\n",
            "Gender: F\n",
            "StudentId: 939393\n",
            "--------------------\n",
            "<class '__main__.Student'>\n"
          ]
        }
      ],
      "source": [
        "# __new__  create obj\n",
        "# __init__ initialize obj  not constructor\n",
        "# UpperCamelCase\n",
        "# \"Magic functions\" refer to functions that start with double underscores (__)\n",
        "\n",
        "# public : all self.id\n",
        "# protected: me and my children self._id\n",
        "# private: only me self.__id\n",
        "\n",
        "class Person:\n",
        "  def __init__(self,id,name,last_name,age,phone,address,gender):\n",
        "    self.name = name\n",
        "    self.last_name = last_name\n",
        "    self.age = age\n",
        "    self.phone = phone\n",
        "    self.address = address\n",
        "    self.gender = gender\n",
        "    self.__id = id\n",
        "  def show_info(self):\n",
        "    print(\"--------------------\")\n",
        "    print(\"ID: \" + self.__id)\n",
        "    print(\"Name: \" + self.name + \" \" + self.last_name)\n",
        "    print(\"Age: \" + str(self.age))\n",
        "    print(\"Phone: \" + self.phone)\n",
        "    print(\"Address: \" + self.address)\n",
        "    print(\"Gender: \" + self.gender)\n",
        "    print(\"--------------------\")\n",
        "  def get_id(self):\n",
        "    return self.__id\n",
        "\n",
        "emp1 = Person(\"1\",\"Leila\",\"Alizadeh\",30,\"00393510000000\",\"Italy\",\"F\")\n",
        "emp1.show_info()\n",
        "print(\"ID: \" + emp1.get_id() ) # show private\n",
        "\n",
        "emp1.name = \"Neda\"\n",
        "emp1.show_info()\n",
        "print(type(emp1))\n",
        "\n",
        "# del emp1.age\n",
        "\n",
        "class Student(Person):\n",
        "  def __init__(self,id, name,last_name,age,phone,address,gender,std_id):\n",
        "    Person.__init__(self,id, name,last_name,age,phone,address,gender)\n",
        "    super().__init__(id,name,last_name,age,phone,address,gender)\n",
        "    self._std_id = std_id\n",
        "  def show_info(self):\n",
        "    #Person.showInfo(self) we can show __id by this\n",
        "    #print(\"StudentId: \" + self._std_id)\n",
        "\n",
        "    print(\"--------------------\")\n",
        "    #print(\"ID: \" + self.__id) we cannot read because it is private\n",
        "    print(\"Name: \" + self.name + \" \" + self.last_name)\n",
        "    print(\"Age: \" + str(self.age))\n",
        "    print(\"Phone: \" + self.phone)\n",
        "    print(\"Address: \" + self.address)\n",
        "    print(\"Gender: \" + self.gender)\n",
        "    print(\"StudentId: \" + self._std_id)\n",
        "    print(\"--------------------\")\n",
        "\n",
        "\n",
        "\n",
        "std1 = Student(\"2\",\"Leila\",\"Alizadeh\",30,\"00393510000000\",\"Italy\",\"F\",\"939393\")\n",
        "std1.show_info()\n",
        "print(type(std1))\n"
      ]
    }
  ]
}