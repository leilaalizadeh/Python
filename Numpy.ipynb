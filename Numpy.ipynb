{
  "cells": [
    {
      "cell_type": "code",
      "execution_count": 2,
      "metadata": {
        "colab": {
          "base_uri": "https://localhost:8080/"
        },
        "id": "KWoS1ywyN43w",
        "outputId": "3ef9215f-fbaa-4790-e64d-1bf829bea3ad"
      },
      "outputs": [
        {
          "data": {
            "text/plain": [
              "[1, 2, 3]"
            ]
          },
          "execution_count": 2,
          "metadata": {},
          "output_type": "execute_result"
        }
      ],
      "source": [
        "# list\n",
        "print([1,2,3])\n",
        "# one dimentional array\n",
        "# array([1,2,3])\n"
      ]
    },
    {
      "cell_type": "code",
      "execution_count": 3,
      "metadata": {
        "colab": {
          "base_uri": "https://localhost:8080/"
        },
        "id": "3e9cwvj3Ohz1",
        "outputId": "8f5b1dc0-b5e3-41aa-8573-aeeafbba80b0"
      },
      "outputs": [
        {
          "data": {
            "text/plain": [
              "[[1, 2, 3], [4, 5, 6]]"
            ]
          },
          "execution_count": 3,
          "metadata": {},
          "output_type": "execute_result"
        }
      ],
      "source": [
        "#list of lists\n",
        "print([[1,2,3],[4,5,6]])\n",
        "# two diemntional array\n",
        "# array([[1,2,3],[4,5,6]])"
      ]
    },
    {
      "cell_type": "code",
      "execution_count": null,
      "metadata": {
        "id": "83pVZbsLPdmw"
      },
      "outputs": [],
      "source": [
        "# To install Numpy\n",
        "# pip install numpy"
      ]
    },
    {
      "cell_type": "code",
      "execution_count": 4,
      "metadata": {
        "id": "Bu7GJ2zYPnPo"
      },
      "outputs": [],
      "source": [
        "import numpy as np\n"
      ]
    },
    {
      "cell_type": "code",
      "execution_count": null,
      "metadata": {
        "colab": {
          "base_uri": "https://localhost:8080/"
        },
        "id": "szDIUTAUQjHV",
        "outputId": "e73f3eaf-5206-4a0d-b983-52df9b959bc1"
      },
      "outputs": [
        {
          "data": {
            "text/plain": [
              "array([1, 2, 3])"
            ]
          },
          "execution_count": 13,
          "metadata": {},
          "output_type": "execute_result"
        }
      ],
      "source": [
        "# 1_D array\n",
        "a = np.array([1,2,3])\n",
        "print(a)"
      ]
    },
    {
      "cell_type": "code",
      "execution_count": null,
      "metadata": {
        "colab": {
          "base_uri": "https://localhost:8080/"
        },
        "id": "wsI3Y60rQrSW",
        "outputId": "b0d6d6c6-ff0c-4d84-fd98-3a76848afd54"
      },
      "outputs": [
        {
          "data": {
            "text/plain": [
              "array([[1, 2, 3],\n",
              "       [4, 5, 6]])"
            ]
          },
          "execution_count": 14,
          "metadata": {},
          "output_type": "execute_result"
        }
      ],
      "source": [
        "# 2_D array\n",
        "a = np.array([[1,2,3],[4,5,6]])\n",
        "print(a)"
      ]
    },
    {
      "cell_type": "code",
      "execution_count": null,
      "metadata": {
        "colab": {
          "base_uri": "https://localhost:8080/"
        },
        "id": "GJ6pn9YyQz2r",
        "outputId": "1bc3fb64-f109-42e0-8f47-c9d4b02770ce"
      },
      "outputs": [
        {
          "data": {
            "text/plain": [
              "array([0., 0., 0., 0., 0.])"
            ]
          },
          "execution_count": 16,
          "metadata": {},
          "output_type": "execute_result"
        }
      ],
      "source": [
        "\n",
        "# Creating an array filled with zeros\n",
        "a = np.zeros(5)\n",
        "print(a)"
      ]
    },
    {
      "cell_type": "code",
      "execution_count": null,
      "metadata": {
        "colab": {
          "base_uri": "https://localhost:8080/"
        },
        "id": "LN_KXKI3Q94L",
        "outputId": "230be0f6-1290-4ec5-f572-41a0aa74dea3"
      },
      "outputs": [
        {
          "data": {
            "text/plain": [
              "array([1., 1., 1., 1., 1.])"
            ]
          },
          "execution_count": 17,
          "metadata": {},
          "output_type": "execute_result"
        }
      ],
      "source": [
        "# Creating an array filled with ones\n",
        "a = np.ones(5)\n",
        "print(a)"
      ]
    },
    {
      "cell_type": "code",
      "execution_count": null,
      "metadata": {
        "colab": {
          "base_uri": "https://localhost:8080/"
        },
        "id": "ThPPlBnORPkc",
        "outputId": "37acd418-069a-4a4d-d1a7-e2c707fb332e"
      },
      "outputs": [
        {
          "data": {
            "text/plain": [
              "array([[0.6333859 , 0.22633832, 0.77566884],\n",
              "       [0.85774802, 0.79923427, 0.90513013]])"
            ]
          },
          "execution_count": 22,
          "metadata": {},
          "output_type": "execute_result"
        }
      ],
      "source": [
        "\n",
        "# Creating an array of random values (shown as 2x3 matrix)\n",
        "a = np.random.random((2,3))\n",
        "print(a)"
      ]
    },
    {
      "cell_type": "code",
      "execution_count": 5,
      "metadata": {
        "colab": {
          "base_uri": "https://localhost:8080/"
        },
        "id": "IdD3KQEfRjyK",
        "outputId": "81569530-c4de-47c8-bb4a-2db6ae62d8d1"
      },
      "outputs": [
        {
          "name": "stdout",
          "output_type": "stream",
          "text": [
            "[10 10 10]\n",
            "[[10 10 10]\n",
            " [10 10 10]]\n"
          ]
        }
      ],
      "source": [
        "# Creating an array filled with given value (dimensions, value)\n",
        "a = np.full(3,10)\n",
        "print(a)\n",
        "a = np.full((2,3),10)\n",
        "print(a)"
      ]
    },
    {
      "cell_type": "code",
      "execution_count": null,
      "metadata": {
        "colab": {
          "base_uri": "https://localhost:8080/"
        },
        "id": "gGAjoYmqR3Vp",
        "outputId": "deed26c4-35a4-4286-a96d-0820c7e59936"
      },
      "outputs": [
        {
          "data": {
            "text/plain": [
              "array([[0.6333859 , 0.22633832, 0.77566884],\n",
              "       [0.85774802, 0.79923427, 0.90513013]])"
            ]
          },
          "execution_count": 28,
          "metadata": {},
          "output_type": "execute_result"
        }
      ],
      "source": [
        "\n",
        "# Creating an empty array (fills with arbitrary, un-initialized values)\n",
        "a = np.empty(2)\n",
        "print(a)\n",
        "a = np.empty((2,3))\n",
        "print(a)"
      ]
    },
    {
      "cell_type": "code",
      "execution_count": null,
      "metadata": {
        "colab": {
          "base_uri": "https://localhost:8080/"
        },
        "id": "6jcy-oE2S32G",
        "outputId": "b8cb2ef3-ed4d-4d65-c146-61aa5c5a4531"
      },
      "outputs": [
        {
          "data": {
            "text/plain": [
              "array([1, 2, 3, 4, 5, 6, 7, 8, 9])"
            ]
          },
          "execution_count": 33,
          "metadata": {},
          "output_type": "execute_result"
        }
      ],
      "source": [
        "# Creating an array of evenly spaced values (start, stop, step)\n",
        "# no include stop value\n",
        "a = np.arange(1,10,1)\n",
        "print(a)"
      ]
    },
    {
      "cell_type": "code",
      "execution_count": null,
      "metadata": {
        "colab": {
          "base_uri": "https://localhost:8080/"
        },
        "id": "Cj-j1xZHSHWw",
        "outputId": "c515a2c9-b5c6-4fc2-9973-d2bd562ecb94"
      },
      "outputs": [
        {
          "data": {
            "text/plain": [
              "array([ 1.,  2.,  3.,  4.,  5.,  6.,  7.,  8.,  9., 10.])"
            ]
          },
          "execution_count": 31,
          "metadata": {},
          "output_type": "execute_result"
        }
      ],
      "source": [
        "\n",
        "# Creating an array of evenly spaced values (low, high, num-values)\n",
        "# include stop value\n",
        "a = np.linspace(1,10,10)\n",
        "print(a)"
      ]
    },
    {
      "cell_type": "code",
      "execution_count": null,
      "metadata": {
        "id": "FKVl2SYbUW4x"
      },
      "outputs": [],
      "source": [
        "# Creating an array of random integers (low, high, size)\n",
        "a = np.random.randint(1,10,10)\n",
        "print(a)"
      ]
    },
    {
      "cell_type": "code",
      "execution_count": null,
      "metadata": {
        "colab": {
          "base_uri": "https://localhost:8080/"
        },
        "id": "C_WxMXiVTeUc",
        "outputId": "797f9a6d-ba19-44ed-d2f3-45983a966e23"
      },
      "outputs": [
        {
          "data": {
            "text/plain": [
              "array([ 0,  1,  2,  3,  4,  5,  6,  7,  8,  9, 10, 11, 12, 13, 14, 15, 16,\n",
              "       17, 18, 19])"
            ]
          },
          "execution_count": 58,
          "metadata": {},
          "output_type": "execute_result"
        }
      ],
      "source": [
        "my_1d_array = np.arange(0,20,1)\n",
        "print(my_1d_array)\n"
      ]
    },
    {
      "cell_type": "code",
      "execution_count": null,
      "metadata": {
        "colab": {
          "base_uri": "https://localhost:8080/"
        },
        "id": "oa-YiXhLT6ek",
        "outputId": "fada6ff4-540a-49a4-e729-1901ac84c15c"
      },
      "outputs": [
        {
          "name": "stdout",
          "output_type": "stream",
          "text": [
            "Max 19\n",
            "Min 0\n",
            "Mean 9.5\n",
            "Sum 190\n",
            "Std 5.766281297335398\n"
          ]
        }
      ],
      "source": [
        "print(\"Max\" , my_1d_array.max())\n",
        "\n",
        "print(\"Min\", my_1d_array.min())\n",
        "\n",
        "print(\"Mean\", my_1d_array.mean())\n",
        "\n",
        "print(\"Sum\", my_1d_array.sum())\n",
        "\n",
        "print(\"Std\", my_1d_array.std())"
      ]
    },
    {
      "cell_type": "code",
      "execution_count": null,
      "metadata": {
        "colab": {
          "base_uri": "https://localhost:8080/"
        },
        "id": "0CfGaEsjVQje",
        "outputId": "1d1aeb82-90bb-4d64-b0de-e22ec2400a47"
      },
      "outputs": [
        {
          "data": {
            "text/plain": [
              "array([10, 11, 12, 13, 14, 15, 16, 17, 18, 19, 20, 21, 22, 23, 24, 25, 26,\n",
              "       27, 28, 29])"
            ]
          },
          "execution_count": 60,
          "metadata": {},
          "output_type": "execute_result"
        }
      ],
      "source": [
        "a = my_1d_array + 10\n",
        "print(a)"
      ]
    },
    {
      "cell_type": "code",
      "execution_count": null,
      "metadata": {
        "colab": {
          "base_uri": "https://localhost:8080/"
        },
        "id": "1xp1ZG3kVXlu",
        "outputId": "e35ac350-9d84-42ad-bb8e-2424ba5932c2"
      },
      "outputs": [
        {
          "data": {
            "text/plain": [
              "array([-10,  -9,  -8,  -7,  -6,  -5,  -4,  -3,  -2,  -1,   0,   1,   2,\n",
              "         3,   4,   5,   6,   7,   8,   9])"
            ]
          },
          "execution_count": 61,
          "metadata": {},
          "output_type": "execute_result"
        }
      ],
      "source": [
        "a = my_1d_array - 10\n",
        "print(a)"
      ]
    },
    {
      "cell_type": "code",
      "execution_count": null,
      "metadata": {
        "colab": {
          "base_uri": "https://localhost:8080/"
        },
        "id": "RJQ4J2dTVbeP",
        "outputId": "1d8842b2-366e-431f-cbed-f0b7f98e7cf6"
      },
      "outputs": [
        {
          "data": {
            "text/plain": [
              "array([  0,  10,  20,  30,  40,  50,  60,  70,  80,  90, 100, 110, 120,\n",
              "       130, 140, 150, 160, 170, 180, 190])"
            ]
          },
          "execution_count": 62,
          "metadata": {},
          "output_type": "execute_result"
        }
      ],
      "source": [
        "a = my_1d_array * 10\n",
        "print(a)"
      ]
    },
    {
      "cell_type": "code",
      "execution_count": null,
      "metadata": {
        "colab": {
          "base_uri": "https://localhost:8080/"
        },
        "id": "uiFmv6k-Ve5_",
        "outputId": "e6ef0385-a515-4b3f-fa1b-7363362f6b3f"
      },
      "outputs": [
        {
          "data": {
            "text/plain": [
              "array([0. , 0.1, 0.2, 0.3, 0.4, 0.5, 0.6, 0.7, 0.8, 0.9, 1. , 1.1, 1.2,\n",
              "       1.3, 1.4, 1.5, 1.6, 1.7, 1.8, 1.9])"
            ]
          },
          "execution_count": 63,
          "metadata": {},
          "output_type": "execute_result"
        }
      ],
      "source": [
        "a = my_1d_array / 10\n",
        "print(a)"
      ]
    },
    {
      "cell_type": "code",
      "execution_count": null,
      "metadata": {
        "colab": {
          "base_uri": "https://localhost:8080/"
        },
        "id": "AnuYGNJjVmUW",
        "outputId": "1d8cfb2b-a624-4b43-ba01-a7427de4e923"
      },
      "outputs": [
        {
          "data": {
            "text/plain": [
              "array([  0,   1,   4,   9,  16,  25,  36,  49,  64,  81, 100, 121, 144,\n",
              "       169, 196, 225, 256, 289, 324, 361])"
            ]
          },
          "execution_count": 64,
          "metadata": {},
          "output_type": "execute_result"
        }
      ],
      "source": [
        "a = np.square(my_1d_array)\n",
        "print(a)"
      ]
    },
    {
      "cell_type": "code",
      "execution_count": null,
      "metadata": {
        "colab": {
          "base_uri": "https://localhost:8080/"
        },
        "id": "_P8ChV5JVvcW",
        "outputId": "82fdfdb9-9abf-40f6-f104-67ce14e74cac"
      },
      "outputs": [
        {
          "data": {
            "text/plain": [
              "array([0.        , 1.        , 1.41421356, 1.73205081, 2.        ,\n",
              "       2.23606798, 2.44948974, 2.64575131, 2.82842712, 3.        ,\n",
              "       3.16227766, 3.31662479, 3.46410162, 3.60555128, 3.74165739,\n",
              "       3.87298335, 4.        , 4.12310563, 4.24264069, 4.35889894])"
            ]
          },
          "execution_count": 65,
          "metadata": {},
          "output_type": "execute_result"
        }
      ],
      "source": [
        "a = np.sqrt(my_1d_array)\n",
        "print(a)"
      ]
    },
    {
      "cell_type": "code",
      "execution_count": null,
      "metadata": {
        "colab": {
          "base_uri": "https://localhost:8080/"
        },
        "id": "baRODuhsWCnA",
        "outputId": "a5043f44-148f-4b8d-bda7-abb823bbd37c"
      },
      "outputs": [
        {
          "data": {
            "text/plain": [
              "array([ 0.        ,  0.84147098,  0.90929743,  0.14112001, -0.7568025 ,\n",
              "       -0.95892427, -0.2794155 ,  0.6569866 ,  0.98935825,  0.41211849,\n",
              "       -0.54402111, -0.99999021, -0.53657292,  0.42016704,  0.99060736,\n",
              "        0.65028784, -0.28790332, -0.96139749, -0.75098725,  0.14987721])"
            ]
          },
          "execution_count": 66,
          "metadata": {},
          "output_type": "execute_result"
        }
      ],
      "source": [
        "a = np.sin(my_1d_array)\n",
        "print(a)"
      ]
    },
    {
      "cell_type": "code",
      "execution_count": null,
      "metadata": {
        "colab": {
          "base_uri": "https://localhost:8080/"
        },
        "id": "QZ5Fk7cBWG2s",
        "outputId": "c6b25411-c3af-4800-c48c-fba4d90a210e"
      },
      "outputs": [
        {
          "data": {
            "text/plain": [
              "array([ 1.        ,  0.54030231, -0.41614684, -0.9899925 , -0.65364362,\n",
              "        0.28366219,  0.96017029,  0.75390225, -0.14550003, -0.91113026,\n",
              "       -0.83907153,  0.0044257 ,  0.84385396,  0.90744678,  0.13673722,\n",
              "       -0.75968791, -0.95765948, -0.27516334,  0.66031671,  0.98870462])"
            ]
          },
          "execution_count": 67,
          "metadata": {},
          "output_type": "execute_result"
        }
      ],
      "source": [
        "a = np.cos(my_1d_array)\n",
        "print(a)"
      ]
    },
    {
      "cell_type": "code",
      "execution_count": null,
      "metadata": {
        "colab": {
          "base_uri": "https://localhost:8080/"
        },
        "id": "6nc2lRfnWoEC",
        "outputId": "bfb2f8ed-6d42-47d3-b794-f29e766c1853"
      },
      "outputs": [
        {
          "data": {
            "text/plain": [
              "array([ 0.00000000e+00,  1.55740772e+00, -2.18503986e+00, -1.42546543e-01,\n",
              "        1.15782128e+00, -3.38051501e+00, -2.91006191e-01,  8.71447983e-01,\n",
              "       -6.79971146e+00, -4.52315659e-01,  6.48360827e-01, -2.25950846e+02,\n",
              "       -6.35859929e-01,  4.63021133e-01,  7.24460662e+00, -8.55993401e-01,\n",
              "        3.00632242e-01,  3.49391565e+00, -1.13731371e+00,  1.51589471e-01])"
            ]
          },
          "execution_count": 68,
          "metadata": {},
          "output_type": "execute_result"
        }
      ],
      "source": [
        "a = np.tan(my_1d_array)\n",
        "print(a)"
      ]
    },
    {
      "cell_type": "code",
      "execution_count": null,
      "metadata": {
        "colab": {
          "base_uri": "https://localhost:8080/"
        },
        "id": "Aa5XDSimWsrT",
        "outputId": "a40d182c-5283-41bb-9f8d-ef722fa18e17"
      },
      "outputs": [
        {
          "data": {
            "text/plain": [
              "array([0, 1, 1, 1, 1, 1, 1, 1, 1, 1, 1, 1, 1, 1, 1, 1, 1, 1, 1, 1])"
            ]
          },
          "execution_count": 70,
          "metadata": {},
          "output_type": "execute_result"
        }
      ],
      "source": [
        "a = np.sign(my_1d_array)\n",
        "print(a)"
      ]
    },
    {
      "cell_type": "code",
      "execution_count": null,
      "metadata": {
        "colab": {
          "base_uri": "https://localhost:8080/"
        },
        "id": "2_Uog79bXxuI",
        "outputId": "18958dc5-faa2-40f3-bcd6-9bbdc11ebca0"
      },
      "outputs": [
        {
          "data": {
            "text/plain": [
              "0"
            ]
          },
          "execution_count": 87,
          "metadata": {},
          "output_type": "execute_result"
        }
      ],
      "source": [
        "a = my_1d_array[0]\n",
        "print(a)"
      ]
    },
    {
      "cell_type": "code",
      "execution_count": null,
      "metadata": {
        "colab": {
          "base_uri": "https://localhost:8080/"
        },
        "id": "phB50YLcX3J4",
        "outputId": "2abcab40-e534-44b7-d85a-e88c4aa350e1"
      },
      "outputs": [
        {
          "data": {
            "text/plain": [
              "array([0, 1, 2, 3, 4, 5])"
            ]
          },
          "execution_count": 89,
          "metadata": {},
          "output_type": "execute_result"
        }
      ],
      "source": [
        "a = my_1d_array[0:6]  # not include the last one\n",
        "print(a)"
      ]
    },
    {
      "cell_type": "code",
      "execution_count": null,
      "metadata": {
        "colab": {
          "base_uri": "https://localhost:8080/"
        },
        "id": "VW0YyxMqX_tQ",
        "outputId": "adb51bc7-741e-4c3e-b7fa-5e779e2ed83e"
      },
      "outputs": [
        {
          "data": {
            "text/plain": [
              "19"
            ]
          },
          "execution_count": 90,
          "metadata": {},
          "output_type": "execute_result"
        }
      ],
      "source": [
        "a = my_1d_array[-1]\n",
        "print(a)"
      ]
    },
    {
      "cell_type": "code",
      "execution_count": null,
      "metadata": {
        "colab": {
          "base_uri": "https://localhost:8080/"
        },
        "id": "fR5fN0g0UiqR",
        "outputId": "b76bf37e-0f58-452a-c150-00b069ff426e"
      },
      "outputs": [
        {
          "data": {
            "text/plain": [
              "array([[7, 2, 8],\n",
              "       [3, 2, 9]])"
            ]
          },
          "execution_count": 50,
          "metadata": {},
          "output_type": "execute_result"
        }
      ],
      "source": [
        "my_2d_array = np.random.randint(1,10,(2,3))\n",
        "\n",
        "print(my_2d_array)"
      ]
    },
    {
      "cell_type": "code",
      "execution_count": null,
      "metadata": {
        "colab": {
          "base_uri": "https://localhost:8080/"
        },
        "id": "a3lmVtunUrXB",
        "outputId": "61cb258f-cf09-404b-dace-97bfbfcae0fe"
      },
      "outputs": [
        {
          "name": "stdout",
          "output_type": "stream",
          "text": [
            "Max 9\n",
            "Max in column [7 2 9]\n",
            "Max in row [8 9]\n",
            "Min 2\n",
            "Mean 5.166666666666667\n",
            "Sum 31\n",
            "Std 2.9107081994288304\n"
          ]
        }
      ],
      "source": [
        "print(\"Max\" , my_2d_array.max())\n",
        "\n",
        "print(\"Max in column\" , my_2d_array.max(axis = 0))\n",
        "\n",
        "print(\"Max in row\" , my_2d_array.max(axis = 1))\n",
        "\n",
        "print(\"Min\", my_2d_array.min())\n",
        "\n",
        "print(\"Mean\", my_2d_array.mean())\n",
        "\n",
        "print(\"Sum\", my_2d_array.sum())\n",
        "\n",
        "print(\"Std\", my_2d_array.std())"
      ]
    },
    {
      "cell_type": "code",
      "execution_count": null,
      "metadata": {
        "colab": {
          "base_uri": "https://localhost:8080/"
        },
        "id": "smlDmteRVNYx",
        "outputId": "83a9cbd2-ea99-4c14-87fb-e3422d02882e"
      },
      "outputs": [
        {
          "name": "stdout",
          "output_type": "stream",
          "text": [
            "[1 2 3] [4 2 6]\n"
          ]
        }
      ],
      "source": [
        "b = np.array([1,2,3])\n",
        "c = np.array([4,2,6])\n",
        "print(\"b\", b)\n",
        "print(\"c\", c)"
      ]
    },
    {
      "cell_type": "code",
      "execution_count": null,
      "metadata": {
        "colab": {
          "base_uri": "https://localhost:8080/"
        },
        "id": "H2S_TalNXODI",
        "outputId": "ea85489f-8876-4c9b-d66b-4ab0403020d5"
      },
      "outputs": [
        {
          "data": {
            "text/plain": [
              "array([5, 4, 9])"
            ]
          },
          "execution_count": 80,
          "metadata": {},
          "output_type": "execute_result"
        }
      ],
      "source": [
        "a = np.add(b,c)\n",
        "print(a)"
      ]
    },
    {
      "cell_type": "code",
      "execution_count": null,
      "metadata": {
        "colab": {
          "base_uri": "https://localhost:8080/"
        },
        "id": "14ayK7YKXRhJ",
        "outputId": "534dfb48-28c3-433c-c46d-75e67f2e8e12"
      },
      "outputs": [
        {
          "data": {
            "text/plain": [
              "array([-3,  0, -3])"
            ]
          },
          "execution_count": 81,
          "metadata": {},
          "output_type": "execute_result"
        }
      ],
      "source": [
        "a = np.subtract(b,c)\n",
        "print(a)"
      ]
    },
    {
      "cell_type": "code",
      "execution_count": null,
      "metadata": {
        "colab": {
          "base_uri": "https://localhost:8080/"
        },
        "id": "dQVRIgtbXVq0",
        "outputId": "7329fb0a-bc3f-4137-9c56-ece811bf1e3c"
      },
      "outputs": [
        {
          "data": {
            "text/plain": [
              "array([ 4,  4, 18])"
            ]
          },
          "execution_count": 82,
          "metadata": {},
          "output_type": "execute_result"
        }
      ],
      "source": [
        "a = np.multiply(b,c)\n",
        "print(a)"
      ]
    },
    {
      "cell_type": "code",
      "execution_count": null,
      "metadata": {
        "colab": {
          "base_uri": "https://localhost:8080/"
        },
        "id": "uwbQqeYXXY_5",
        "outputId": "1ebee3d0-0c1b-4da2-b93c-46a982ff5eb6"
      },
      "outputs": [
        {
          "data": {
            "text/plain": [
              "array([0.25, 1.  , 0.5 ])"
            ]
          },
          "execution_count": 83,
          "metadata": {},
          "output_type": "execute_result"
        }
      ],
      "source": [
        "a = np.divide(b,c)\n",
        "print(a)"
      ]
    },
    {
      "cell_type": "code",
      "execution_count": null,
      "metadata": {
        "colab": {
          "base_uri": "https://localhost:8080/"
        },
        "id": "hxSuQz-SXcBS",
        "outputId": "881ac439-40d2-42d5-89bc-af6f0d33d261"
      },
      "outputs": [
        {
          "data": {
            "text/plain": [
              "26"
            ]
          },
          "execution_count": 84,
          "metadata": {},
          "output_type": "execute_result"
        }
      ],
      "source": [
        "a = np.dot(b,c)\n",
        "print(a)"
      ]
    },
    {
      "cell_type": "code",
      "execution_count": null,
      "metadata": {
        "colab": {
          "base_uri": "https://localhost:8080/"
        },
        "id": "GPu_A_71XgDo",
        "outputId": "041257b5-3d19-4caf-eab0-0fe1e3b14b4d"
      },
      "outputs": [
        {
          "data": {
            "text/plain": [
              "array([False,  True, False])"
            ]
          },
          "execution_count": 85,
          "metadata": {},
          "output_type": "execute_result"
        }
      ],
      "source": [
        "a = b == c\n",
        "print(a)"
      ]
    },
    {
      "cell_type": "code",
      "execution_count": null,
      "metadata": {
        "colab": {
          "base_uri": "https://localhost:8080/"
        },
        "id": "JiGpAeKLXowp",
        "outputId": "8a8f4fb4-2fea-4cd6-872c-714bb2e9d272"
      },
      "outputs": [
        {
          "data": {
            "text/plain": [
              "False"
            ]
          },
          "execution_count": 86,
          "metadata": {},
          "output_type": "execute_result"
        }
      ],
      "source": [
        "np.array_equal(a,b)"
      ]
    }
  ],
  "metadata": {
    "colab": {
      "provenance": []
    },
    "kernelspec": {
      "display_name": "Python 3",
      "name": "python3"
    },
    "language_info": {
      "codemirror_mode": {
        "name": "ipython",
        "version": 3
      },
      "file_extension": ".py",
      "mimetype": "text/x-python",
      "name": "python",
      "nbconvert_exporter": "python",
      "pygments_lexer": "ipython3",
      "version": "3.12.5"
    }
  },
  "nbformat": 4,
  "nbformat_minor": 0
}
