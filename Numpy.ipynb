{
  "cells": [
    {
      "cell_type": "code",
      "execution_count": 2,
      "metadata": {
        "colab": {
          "base_uri": "https://localhost:8080/"
        },
        "id": "KWoS1ywyN43w",
        "outputId": "a5380720-683b-4e3a-c051-4ebe299b47e0"
      },
      "outputs": [
        {
          "output_type": "stream",
          "name": "stdout",
          "text": [
            "[1, 2, 3]\n"
          ]
        }
      ],
      "source": [
        "# list\n",
        "print([1,2,3])\n",
        "# one dimentional array\n",
        "# array([1,2,3])\n"
      ]
    },
    {
      "cell_type": "code",
      "execution_count": 3,
      "metadata": {
        "colab": {
          "base_uri": "https://localhost:8080/"
        },
        "id": "3e9cwvj3Ohz1",
        "outputId": "8e93ce1d-85da-4e82-c141-0c582fbfa77d"
      },
      "outputs": [
        {
          "output_type": "stream",
          "name": "stdout",
          "text": [
            "[[1, 2, 3], [4, 5, 6]]\n"
          ]
        }
      ],
      "source": [
        "#list of lists\n",
        "print([[1,2,3],[4,5,6]])\n",
        "# two diemntional array\n",
        "# array([[1,2,3],[4,5,6]])"
      ]
    },
    {
      "cell_type": "code",
      "execution_count": 4,
      "metadata": {
        "id": "83pVZbsLPdmw"
      },
      "outputs": [],
      "source": [
        "# To install Numpy\n",
        "# pip install numpy"
      ]
    },
    {
      "cell_type": "code",
      "execution_count": 5,
      "metadata": {
        "id": "Bu7GJ2zYPnPo"
      },
      "outputs": [],
      "source": [
        "import numpy as np\n"
      ]
    },
    {
      "cell_type": "code",
      "execution_count": 6,
      "metadata": {
        "colab": {
          "base_uri": "https://localhost:8080/"
        },
        "id": "szDIUTAUQjHV",
        "outputId": "85e71f64-66b1-413a-e201-e83e80cb8c38"
      },
      "outputs": [
        {
          "output_type": "stream",
          "name": "stdout",
          "text": [
            "[1 2 3]\n"
          ]
        }
      ],
      "source": [
        "# 1_D array\n",
        "a = np.array([1,2,3])\n",
        "print(a)"
      ]
    },
    {
      "cell_type": "code",
      "execution_count": 7,
      "metadata": {
        "colab": {
          "base_uri": "https://localhost:8080/"
        },
        "id": "wsI3Y60rQrSW",
        "outputId": "d1bf9f0b-190b-415f-b079-e2c1fa046179"
      },
      "outputs": [
        {
          "output_type": "stream",
          "name": "stdout",
          "text": [
            "[[1 2 3]\n",
            " [4 5 6]]\n"
          ]
        }
      ],
      "source": [
        "# 2_D array\n",
        "a = np.array([[1,2,3],[4,5,6]])\n",
        "print(a)"
      ]
    },
    {
      "cell_type": "code",
      "execution_count": 8,
      "metadata": {
        "colab": {
          "base_uri": "https://localhost:8080/"
        },
        "id": "GJ6pn9YyQz2r",
        "outputId": "4542ee2f-3455-4d41-9d60-053fe74f1f52"
      },
      "outputs": [
        {
          "output_type": "stream",
          "name": "stdout",
          "text": [
            "[0. 0. 0. 0. 0.]\n"
          ]
        }
      ],
      "source": [
        "\n",
        "# Creating an array filled with zeros\n",
        "a = np.zeros(5)\n",
        "print(a)"
      ]
    },
    {
      "cell_type": "code",
      "execution_count": 9,
      "metadata": {
        "colab": {
          "base_uri": "https://localhost:8080/"
        },
        "id": "LN_KXKI3Q94L",
        "outputId": "62a4be2c-8cb0-4246-e6da-1b73278fefac"
      },
      "outputs": [
        {
          "output_type": "stream",
          "name": "stdout",
          "text": [
            "[1. 1. 1. 1. 1.]\n"
          ]
        }
      ],
      "source": [
        "# Creating an array filled with ones\n",
        "a = np.ones(5)\n",
        "print(a)"
      ]
    },
    {
      "cell_type": "code",
      "execution_count": 10,
      "metadata": {
        "colab": {
          "base_uri": "https://localhost:8080/"
        },
        "id": "ThPPlBnORPkc",
        "outputId": "c1bdcf64-153a-409e-93bb-c2d589802058"
      },
      "outputs": [
        {
          "output_type": "stream",
          "name": "stdout",
          "text": [
            "[[0.90273301 0.82934346 0.94341073]\n",
            " [0.78000602 0.51815677 0.19468576]]\n"
          ]
        }
      ],
      "source": [
        "\n",
        "# Creating an array of random values (shown as 2x3 matrix)\n",
        "a = np.random.random((2,3))\n",
        "print(a)"
      ]
    },
    {
      "cell_type": "code",
      "execution_count": 11,
      "metadata": {
        "colab": {
          "base_uri": "https://localhost:8080/"
        },
        "id": "IdD3KQEfRjyK",
        "outputId": "077c74a9-3dfa-4e32-87d0-816232073117"
      },
      "outputs": [
        {
          "output_type": "stream",
          "name": "stdout",
          "text": [
            "[10 10 10]\n",
            "[[10 10 10]\n",
            " [10 10 10]]\n"
          ]
        }
      ],
      "source": [
        "# Creating an array filled with given value (dimensions, value)\n",
        "a = np.full(3,10)\n",
        "print(a)\n",
        "a = np.full((2,3),10)\n",
        "print(a)"
      ]
    },
    {
      "cell_type": "code",
      "execution_count": 12,
      "metadata": {
        "colab": {
          "base_uri": "https://localhost:8080/"
        },
        "id": "gGAjoYmqR3Vp",
        "outputId": "bb50296a-adae-41e9-9618-e083fccff32f"
      },
      "outputs": [
        {
          "output_type": "stream",
          "name": "stdout",
          "text": [
            "[-2.0000000e+000  6.9525372e-310]\n",
            "[[0.90273301 0.82934346 0.94341073]\n",
            " [0.78000602 0.51815677 0.19468576]]\n"
          ]
        }
      ],
      "source": [
        "\n",
        "# Creating an empty array (fills with arbitrary, un-initialized values)\n",
        "a = np.empty(2)\n",
        "print(a)\n",
        "a = np.empty((2,3))\n",
        "print(a)"
      ]
    },
    {
      "cell_type": "code",
      "execution_count": 13,
      "metadata": {
        "colab": {
          "base_uri": "https://localhost:8080/"
        },
        "id": "6jcy-oE2S32G",
        "outputId": "b0ca6a76-1b1a-47d5-e539-84d59b4fa44f"
      },
      "outputs": [
        {
          "output_type": "stream",
          "name": "stdout",
          "text": [
            "[1 2 3 4 5 6 7 8 9]\n"
          ]
        }
      ],
      "source": [
        "# Creating an array of evenly spaced values (start, stop, step)\n",
        "# no include stop value\n",
        "a = np.arange(1,10,1)\n",
        "print(a)"
      ]
    },
    {
      "cell_type": "code",
      "execution_count": 14,
      "metadata": {
        "colab": {
          "base_uri": "https://localhost:8080/"
        },
        "id": "Cj-j1xZHSHWw",
        "outputId": "dcfa5e02-1eaa-4bfe-8c9e-081f4d4e8e52"
      },
      "outputs": [
        {
          "output_type": "stream",
          "name": "stdout",
          "text": [
            "[ 1.  2.  3.  4.  5.  6.  7.  8.  9. 10.]\n"
          ]
        }
      ],
      "source": [
        "\n",
        "# Creating an array of evenly spaced values (low, high, num-values)\n",
        "# include stop value\n",
        "a = np.linspace(1,10,10)\n",
        "print(a)"
      ]
    },
    {
      "cell_type": "code",
      "execution_count": 15,
      "metadata": {
        "id": "FKVl2SYbUW4x",
        "colab": {
          "base_uri": "https://localhost:8080/"
        },
        "outputId": "06258430-302c-4e31-d4f9-95248d2dfc6d"
      },
      "outputs": [
        {
          "output_type": "stream",
          "name": "stdout",
          "text": [
            "[7 8 6 7 8 5 2 9 8 5]\n"
          ]
        }
      ],
      "source": [
        "# Creating an array of random integers (low, high, size)\n",
        "a = np.random.randint(1,10,10)\n",
        "print(a)"
      ]
    },
    {
      "cell_type": "code",
      "execution_count": 16,
      "metadata": {
        "colab": {
          "base_uri": "https://localhost:8080/"
        },
        "id": "C_WxMXiVTeUc",
        "outputId": "92b82fd4-283d-4f8b-8ccc-1a2977cc86d5"
      },
      "outputs": [
        {
          "output_type": "stream",
          "name": "stdout",
          "text": [
            "[ 0  1  2  3  4  5  6  7  8  9 10 11 12 13 14 15 16 17 18 19]\n"
          ]
        }
      ],
      "source": [
        "my_1d_array = np.arange(0,20,1)\n",
        "print(my_1d_array)\n"
      ]
    },
    {
      "cell_type": "code",
      "execution_count": 17,
      "metadata": {
        "colab": {
          "base_uri": "https://localhost:8080/"
        },
        "id": "oa-YiXhLT6ek",
        "outputId": "380262b7-820a-473b-a6ee-6a4fcb710735"
      },
      "outputs": [
        {
          "output_type": "stream",
          "name": "stdout",
          "text": [
            "Max 19\n",
            "Min 0\n",
            "Mean 9.5\n",
            "Sum 190\n",
            "Std 5.766281297335398\n"
          ]
        }
      ],
      "source": [
        "print(\"Max\" , my_1d_array.max())\n",
        "\n",
        "print(\"Min\", my_1d_array.min())\n",
        "\n",
        "print(\"Mean\", my_1d_array.mean())\n",
        "\n",
        "print(\"Sum\", my_1d_array.sum())\n",
        "\n",
        "print(\"Std\", my_1d_array.std())"
      ]
    },
    {
      "cell_type": "code",
      "execution_count": 18,
      "metadata": {
        "colab": {
          "base_uri": "https://localhost:8080/"
        },
        "id": "0CfGaEsjVQje",
        "outputId": "65f2fca3-20c5-4938-8262-ccf856192828"
      },
      "outputs": [
        {
          "output_type": "stream",
          "name": "stdout",
          "text": [
            "[10 11 12 13 14 15 16 17 18 19 20 21 22 23 24 25 26 27 28 29]\n"
          ]
        }
      ],
      "source": [
        "a = my_1d_array + 10\n",
        "print(a)"
      ]
    },
    {
      "cell_type": "code",
      "execution_count": 19,
      "metadata": {
        "colab": {
          "base_uri": "https://localhost:8080/"
        },
        "id": "1xp1ZG3kVXlu",
        "outputId": "2844e95e-6e6f-4658-f751-ba26afc0e6c8"
      },
      "outputs": [
        {
          "output_type": "stream",
          "name": "stdout",
          "text": [
            "[-10  -9  -8  -7  -6  -5  -4  -3  -2  -1   0   1   2   3   4   5   6   7\n",
            "   8   9]\n"
          ]
        }
      ],
      "source": [
        "a = my_1d_array - 10\n",
        "print(a)"
      ]
    },
    {
      "cell_type": "code",
      "execution_count": 20,
      "metadata": {
        "colab": {
          "base_uri": "https://localhost:8080/"
        },
        "id": "RJQ4J2dTVbeP",
        "outputId": "e9d4a374-f561-4aa2-9f13-210ce7eae4a5"
      },
      "outputs": [
        {
          "output_type": "stream",
          "name": "stdout",
          "text": [
            "[  0  10  20  30  40  50  60  70  80  90 100 110 120 130 140 150 160 170\n",
            " 180 190]\n"
          ]
        }
      ],
      "source": [
        "a = my_1d_array * 10\n",
        "print(a)"
      ]
    },
    {
      "cell_type": "code",
      "execution_count": 21,
      "metadata": {
        "colab": {
          "base_uri": "https://localhost:8080/"
        },
        "id": "uiFmv6k-Ve5_",
        "outputId": "0995c034-3efa-4f2a-9750-41a2a6947ade"
      },
      "outputs": [
        {
          "output_type": "stream",
          "name": "stdout",
          "text": [
            "[0.  0.1 0.2 0.3 0.4 0.5 0.6 0.7 0.8 0.9 1.  1.1 1.2 1.3 1.4 1.5 1.6 1.7\n",
            " 1.8 1.9]\n"
          ]
        }
      ],
      "source": [
        "a = my_1d_array / 10\n",
        "print(a)"
      ]
    },
    {
      "cell_type": "code",
      "execution_count": 22,
      "metadata": {
        "colab": {
          "base_uri": "https://localhost:8080/"
        },
        "id": "AnuYGNJjVmUW",
        "outputId": "7529a122-d45d-4206-eb91-a07b5a9a964c"
      },
      "outputs": [
        {
          "output_type": "stream",
          "name": "stdout",
          "text": [
            "[  0   1   4   9  16  25  36  49  64  81 100 121 144 169 196 225 256 289\n",
            " 324 361]\n"
          ]
        }
      ],
      "source": [
        "a = np.square(my_1d_array)\n",
        "print(a)"
      ]
    },
    {
      "cell_type": "code",
      "execution_count": 23,
      "metadata": {
        "colab": {
          "base_uri": "https://localhost:8080/"
        },
        "id": "_P8ChV5JVvcW",
        "outputId": "c5b870f4-3692-4e8f-b1b1-12db74e16bc4"
      },
      "outputs": [
        {
          "output_type": "stream",
          "name": "stdout",
          "text": [
            "[0.         1.         1.41421356 1.73205081 2.         2.23606798\n",
            " 2.44948974 2.64575131 2.82842712 3.         3.16227766 3.31662479\n",
            " 3.46410162 3.60555128 3.74165739 3.87298335 4.         4.12310563\n",
            " 4.24264069 4.35889894]\n"
          ]
        }
      ],
      "source": [
        "a = np.sqrt(my_1d_array)\n",
        "print(a)"
      ]
    },
    {
      "cell_type": "code",
      "execution_count": 24,
      "metadata": {
        "colab": {
          "base_uri": "https://localhost:8080/"
        },
        "id": "baRODuhsWCnA",
        "outputId": "d1602f8e-9a49-4997-d413-a2f1f3fa3924"
      },
      "outputs": [
        {
          "output_type": "stream",
          "name": "stdout",
          "text": [
            "[ 0.          0.84147098  0.90929743  0.14112001 -0.7568025  -0.95892427\n",
            " -0.2794155   0.6569866   0.98935825  0.41211849 -0.54402111 -0.99999021\n",
            " -0.53657292  0.42016704  0.99060736  0.65028784 -0.28790332 -0.96139749\n",
            " -0.75098725  0.14987721]\n"
          ]
        }
      ],
      "source": [
        "a = np.sin(my_1d_array)\n",
        "print(a)"
      ]
    },
    {
      "cell_type": "code",
      "execution_count": 25,
      "metadata": {
        "colab": {
          "base_uri": "https://localhost:8080/"
        },
        "id": "QZ5Fk7cBWG2s",
        "outputId": "a23a7a9a-8319-4d60-cd64-6c8228292537"
      },
      "outputs": [
        {
          "output_type": "stream",
          "name": "stdout",
          "text": [
            "[ 1.          0.54030231 -0.41614684 -0.9899925  -0.65364362  0.28366219\n",
            "  0.96017029  0.75390225 -0.14550003 -0.91113026 -0.83907153  0.0044257\n",
            "  0.84385396  0.90744678  0.13673722 -0.75968791 -0.95765948 -0.27516334\n",
            "  0.66031671  0.98870462]\n"
          ]
        }
      ],
      "source": [
        "a = np.cos(my_1d_array)\n",
        "print(a)"
      ]
    },
    {
      "cell_type": "code",
      "execution_count": 26,
      "metadata": {
        "colab": {
          "base_uri": "https://localhost:8080/"
        },
        "id": "6nc2lRfnWoEC",
        "outputId": "0e1b6b8f-909c-4b02-ffae-449dc462790f"
      },
      "outputs": [
        {
          "output_type": "stream",
          "name": "stdout",
          "text": [
            "[ 0.00000000e+00  1.55740772e+00 -2.18503986e+00 -1.42546543e-01\n",
            "  1.15782128e+00 -3.38051501e+00 -2.91006191e-01  8.71447983e-01\n",
            " -6.79971146e+00 -4.52315659e-01  6.48360827e-01 -2.25950846e+02\n",
            " -6.35859929e-01  4.63021133e-01  7.24460662e+00 -8.55993401e-01\n",
            "  3.00632242e-01  3.49391565e+00 -1.13731371e+00  1.51589471e-01]\n"
          ]
        }
      ],
      "source": [
        "a = np.tan(my_1d_array)\n",
        "print(a)"
      ]
    },
    {
      "cell_type": "code",
      "execution_count": 27,
      "metadata": {
        "colab": {
          "base_uri": "https://localhost:8080/"
        },
        "id": "Aa5XDSimWsrT",
        "outputId": "c0e1644d-4ece-479e-bb67-65642f502c71"
      },
      "outputs": [
        {
          "output_type": "stream",
          "name": "stdout",
          "text": [
            "[0 1 1 1 1 1 1 1 1 1 1 1 1 1 1 1 1 1 1 1]\n"
          ]
        }
      ],
      "source": [
        "a = np.sign(my_1d_array)\n",
        "print(a)"
      ]
    },
    {
      "cell_type": "code",
      "execution_count": 28,
      "metadata": {
        "colab": {
          "base_uri": "https://localhost:8080/"
        },
        "id": "2_Uog79bXxuI",
        "outputId": "553a2db5-ac58-42ac-8815-a3908f32aaa1"
      },
      "outputs": [
        {
          "output_type": "stream",
          "name": "stdout",
          "text": [
            "0\n"
          ]
        }
      ],
      "source": [
        "a = my_1d_array[0]\n",
        "print(a)"
      ]
    },
    {
      "cell_type": "code",
      "execution_count": 29,
      "metadata": {
        "colab": {
          "base_uri": "https://localhost:8080/"
        },
        "id": "phB50YLcX3J4",
        "outputId": "2b3ed609-3e7b-440e-aec4-9b88ece50cfc"
      },
      "outputs": [
        {
          "output_type": "stream",
          "name": "stdout",
          "text": [
            "[0 1 2 3 4 5]\n"
          ]
        }
      ],
      "source": [
        "a = my_1d_array[0:6]  # not include the last one\n",
        "print(a)"
      ]
    },
    {
      "cell_type": "code",
      "execution_count": 30,
      "metadata": {
        "colab": {
          "base_uri": "https://localhost:8080/"
        },
        "id": "VW0YyxMqX_tQ",
        "outputId": "b1488841-c4c2-4b56-901a-01f5c54d4dd0"
      },
      "outputs": [
        {
          "output_type": "stream",
          "name": "stdout",
          "text": [
            "19\n"
          ]
        }
      ],
      "source": [
        "a = my_1d_array[-1]\n",
        "print(a)"
      ]
    },
    {
      "cell_type": "code",
      "source": [
        "a = my_1d_array.reshape(1,my_1d_array.size)\n",
        "print(a)"
      ],
      "metadata": {
        "colab": {
          "base_uri": "https://localhost:8080/"
        },
        "id": "KAASzZPXm89Q",
        "outputId": "d982cb83-fe26-4a03-8702-d249e5b72561"
      },
      "execution_count": 70,
      "outputs": [
        {
          "output_type": "stream",
          "name": "stdout",
          "text": [
            "[[ 0  1  2  3  4  5  6  7  8  9 10 11 12 13 14 15 16 17 18 19]]\n"
          ]
        }
      ]
    },
    {
      "cell_type": "code",
      "source": [
        "a = my_1d_array.reshape(my_1d_array.size,1)\n",
        "print(a)"
      ],
      "metadata": {
        "colab": {
          "base_uri": "https://localhost:8080/"
        },
        "id": "rJwMXybZsv03",
        "outputId": "6a77e7e0-b905-474d-ac83-41bafb46db9a"
      },
      "execution_count": 71,
      "outputs": [
        {
          "output_type": "stream",
          "name": "stdout",
          "text": [
            "[[ 0]\n",
            " [ 1]\n",
            " [ 2]\n",
            " [ 3]\n",
            " [ 4]\n",
            " [ 5]\n",
            " [ 6]\n",
            " [ 7]\n",
            " [ 8]\n",
            " [ 9]\n",
            " [10]\n",
            " [11]\n",
            " [12]\n",
            " [13]\n",
            " [14]\n",
            " [15]\n",
            " [16]\n",
            " [17]\n",
            " [18]\n",
            " [19]]\n"
          ]
        }
      ]
    },
    {
      "cell_type": "code",
      "execution_count": 31,
      "metadata": {
        "colab": {
          "base_uri": "https://localhost:8080/"
        },
        "id": "fR5fN0g0UiqR",
        "outputId": "b6862a34-a499-40fe-d706-b015f462207e"
      },
      "outputs": [
        {
          "output_type": "stream",
          "name": "stdout",
          "text": [
            "[[8 2 8]\n",
            " [6 9 5]]\n"
          ]
        }
      ],
      "source": [
        "my_2d_array = np.random.randint(1,10,(2,3))\n",
        "\n",
        "print(my_2d_array)"
      ]
    },
    {
      "cell_type": "code",
      "execution_count": 78,
      "metadata": {
        "colab": {
          "base_uri": "https://localhost:8080/"
        },
        "id": "a3lmVtunUrXB",
        "outputId": "d274e6b2-19a6-4055-ae99-c3685c65a274"
      },
      "outputs": [
        {
          "output_type": "stream",
          "name": "stdout",
          "text": [
            "Max 9\n",
            "Max in column [8 9 8]\n",
            "Max in row [8 9]\n",
            "Sum of coulmn [14 11 13]\n",
            "Sum of rows [18 20]\n",
            "Min 2\n",
            "Mean 6.333333333333333\n",
            "Sum 38\n",
            "Std 2.3570226039551585\n"
          ]
        }
      ],
      "source": [
        "print(\"Max\" , my_2d_array.max())\n",
        "\n",
        "print(\"Max in column\" , my_2d_array.max(axis = 0))\n",
        "\n",
        "print(\"Max in row\" , my_2d_array.max(axis = 1))\n",
        "\n",
        "print(\"Sum of coulmn\" , my_2d_array.sum(axis = 0))\n",
        "\n",
        "print(\"Sum of rows\" , my_2d_array.sum(axis = 1))\n",
        "\n",
        "print(\"Min\", my_2d_array.min())\n",
        "\n",
        "print(\"Mean\", my_2d_array.mean())\n",
        "\n",
        "print(\"Sum\", my_2d_array.sum())\n",
        "\n",
        "print(\"Std\", my_2d_array.std())"
      ]
    },
    {
      "cell_type": "code",
      "source": [
        "a = my_2d_array[0]\n",
        "print(a)"
      ],
      "metadata": {
        "colab": {
          "base_uri": "https://localhost:8080/"
        },
        "id": "M5yzhZ5LlTx1",
        "outputId": "0b66a1d3-dbd9-4850-b15d-ca97b26a19f6"
      },
      "execution_count": 34,
      "outputs": [
        {
          "output_type": "stream",
          "name": "stdout",
          "text": [
            "[8 2 8]\n"
          ]
        }
      ]
    },
    {
      "cell_type": "code",
      "source": [
        "a = my_2d_array[0][1]\n",
        "print(a)"
      ],
      "metadata": {
        "colab": {
          "base_uri": "https://localhost:8080/"
        },
        "id": "dkiMzz5slvQL",
        "outputId": "157f31de-1b34-4d5d-a205-4ae4c8ff52f4"
      },
      "execution_count": 37,
      "outputs": [
        {
          "output_type": "stream",
          "name": "stdout",
          "text": [
            "2\n"
          ]
        }
      ]
    },
    {
      "cell_type": "code",
      "source": [
        "# Re-shape (here to 3 rows & 2 columns)\n",
        "a = my_2d_array.reshape(3,2)\n",
        "print(my_2d_array)\n",
        "print(a)"
      ],
      "metadata": {
        "colab": {
          "base_uri": "https://localhost:8080/"
        },
        "id": "SLq5oR-qmBv7",
        "outputId": "29fddae3-6ba3-4e73-ac90-2be2c931547b"
      },
      "execution_count": 39,
      "outputs": [
        {
          "output_type": "stream",
          "name": "stdout",
          "text": [
            "[[8 2 8]\n",
            " [6 9 5]]\n",
            "[[8 2]\n",
            " [8 6]\n",
            " [9 5]]\n"
          ]
        }
      ]
    },
    {
      "cell_type": "code",
      "source": [
        "# Re-shape (here to a 1-Dimensional array)\n",
        "a = my_2d_array.flatten()\n",
        "print(a)\n",
        "\n",
        "a = my_2d_array.reshape(6)\n",
        "print(a)\n",
        "\n",
        "a = my_2d_array.ravel()\n",
        "print(a)"
      ],
      "metadata": {
        "colab": {
          "base_uri": "https://localhost:8080/"
        },
        "id": "_Jkq5wjcmXC5",
        "outputId": "cc7347d5-1501-4c4d-e310-c81be744aa9e"
      },
      "execution_count": 42,
      "outputs": [
        {
          "output_type": "stream",
          "name": "stdout",
          "text": [
            "[8 2 8 6 9 5]\n",
            "[8 2 8 6 9 5]\n",
            "[8 2 8 6 9 5]\n"
          ]
        }
      ]
    },
    {
      "cell_type": "code",
      "source": [
        "# Array Shape (length of each dimension)\n",
        "a = my_2d_array.shape\n",
        "print(a)"
      ],
      "metadata": {
        "colab": {
          "base_uri": "https://localhost:8080/"
        },
        "id": "v1toQZE3nuEf",
        "outputId": "3ad05bb9-895a-4720-d50b-6e0ab63a6cec"
      },
      "execution_count": 58,
      "outputs": [
        {
          "output_type": "stream",
          "name": "stdout",
          "text": [
            "(2, 3)\n"
          ]
        }
      ]
    },
    {
      "cell_type": "code",
      "source": [
        "# Number of dimensions\n",
        "a = my_2d_array.ndim\n",
        "print(a)"
      ],
      "metadata": {
        "colab": {
          "base_uri": "https://localhost:8080/"
        },
        "id": "JHoVqadMn6vu",
        "outputId": "da06e610-0dc4-4765-ca97-a732a3836c0d"
      },
      "execution_count": 59,
      "outputs": [
        {
          "output_type": "stream",
          "name": "stdout",
          "text": [
            "2\n"
          ]
        }
      ]
    },
    {
      "cell_type": "code",
      "source": [
        "# Number of elements\n",
        "a = my_2d_array.size\n",
        "print(a)"
      ],
      "metadata": {
        "colab": {
          "base_uri": "https://localhost:8080/"
        },
        "id": "k0lTLT8voDxM",
        "outputId": "366fa6b4-5855-4790-96b0-0959122fb64c"
      },
      "execution_count": 60,
      "outputs": [
        {
          "output_type": "stream",
          "name": "stdout",
          "text": [
            "6\n"
          ]
        }
      ]
    },
    {
      "cell_type": "code",
      "source": [
        "a = my_2d_array.dtype\n",
        "print(a)"
      ],
      "metadata": {
        "colab": {
          "base_uri": "https://localhost:8080/"
        },
        "id": "QYkRD__2rdi6",
        "outputId": "022ee1e9-ff11-41c6-86e4-826294d4968e"
      },
      "execution_count": 62,
      "outputs": [
        {
          "output_type": "stream",
          "name": "stdout",
          "text": [
            "int64\n"
          ]
        }
      ]
    },
    {
      "cell_type": "code",
      "execution_count": 46,
      "metadata": {
        "colab": {
          "base_uri": "https://localhost:8080/"
        },
        "id": "smlDmteRVNYx",
        "outputId": "9e99d9e8-fdf2-4165-abb1-f60d1afdcfdb"
      },
      "outputs": [
        {
          "output_type": "stream",
          "name": "stdout",
          "text": [
            "b [1 2 3]\n",
            "c [4 2 6]\n"
          ]
        }
      ],
      "source": [
        "b = np.array([1,2,3])\n",
        "c = np.array([4,2,6])\n",
        "print(\"b\", b)\n",
        "print(\"c\", c)"
      ]
    },
    {
      "cell_type": "code",
      "execution_count": 47,
      "metadata": {
        "colab": {
          "base_uri": "https://localhost:8080/"
        },
        "id": "H2S_TalNXODI",
        "outputId": "65aae8b1-9acc-463c-c8c5-fa3cdf852294"
      },
      "outputs": [
        {
          "output_type": "stream",
          "name": "stdout",
          "text": [
            "[5 4 9]\n"
          ]
        }
      ],
      "source": [
        "a = np.add(b,c)\n",
        "print(a)"
      ]
    },
    {
      "cell_type": "code",
      "execution_count": 48,
      "metadata": {
        "colab": {
          "base_uri": "https://localhost:8080/"
        },
        "id": "14ayK7YKXRhJ",
        "outputId": "18107f35-e593-4058-9da0-12bd8014a583"
      },
      "outputs": [
        {
          "output_type": "stream",
          "name": "stdout",
          "text": [
            "[-3  0 -3]\n"
          ]
        }
      ],
      "source": [
        "a = np.subtract(b,c)\n",
        "print(a)"
      ]
    },
    {
      "cell_type": "code",
      "execution_count": 49,
      "metadata": {
        "colab": {
          "base_uri": "https://localhost:8080/"
        },
        "id": "dQVRIgtbXVq0",
        "outputId": "789121df-49ef-41c0-edf8-9d4c4ba10a60"
      },
      "outputs": [
        {
          "output_type": "stream",
          "name": "stdout",
          "text": [
            "[ 4  4 18]\n"
          ]
        }
      ],
      "source": [
        "a = np.multiply(b,c)\n",
        "print(a)"
      ]
    },
    {
      "cell_type": "code",
      "execution_count": 50,
      "metadata": {
        "colab": {
          "base_uri": "https://localhost:8080/"
        },
        "id": "uwbQqeYXXY_5",
        "outputId": "12ea142b-6959-4287-8b4b-848fc1de0a66"
      },
      "outputs": [
        {
          "output_type": "stream",
          "name": "stdout",
          "text": [
            "[0.25 1.   0.5 ]\n"
          ]
        }
      ],
      "source": [
        "a = np.divide(b,c)\n",
        "print(a)"
      ]
    },
    {
      "cell_type": "code",
      "execution_count": 51,
      "metadata": {
        "colab": {
          "base_uri": "https://localhost:8080/"
        },
        "id": "hxSuQz-SXcBS",
        "outputId": "5680eb05-dc2d-46c6-9047-408b9f5cd9d5"
      },
      "outputs": [
        {
          "output_type": "stream",
          "name": "stdout",
          "text": [
            "26\n"
          ]
        }
      ],
      "source": [
        "a = np.dot(b,c)\n",
        "print(a)"
      ]
    },
    {
      "cell_type": "code",
      "execution_count": 52,
      "metadata": {
        "colab": {
          "base_uri": "https://localhost:8080/"
        },
        "id": "GPu_A_71XgDo",
        "outputId": "c5567257-008c-4737-c9e5-83000728d386"
      },
      "outputs": [
        {
          "output_type": "stream",
          "name": "stdout",
          "text": [
            "[False  True False]\n"
          ]
        }
      ],
      "source": [
        "a = (b == c)\n",
        "print(a)"
      ]
    },
    {
      "cell_type": "code",
      "execution_count": 53,
      "metadata": {
        "colab": {
          "base_uri": "https://localhost:8080/"
        },
        "id": "JiGpAeKLXowp",
        "outputId": "7d9b95e6-e1fe-4ff6-eb85-90322956e6d7"
      },
      "outputs": [
        {
          "output_type": "stream",
          "name": "stdout",
          "text": [
            "False\n"
          ]
        }
      ],
      "source": [
        "a = np.array_equal(a,b)\n",
        "print(a)"
      ]
    },
    {
      "cell_type": "code",
      "source": [
        "# Horizontal Stack\n",
        "# hstack concatenates arrays along axis 1\n",
        "a = np.hstack((b,c))\n",
        "print(a)\n",
        "print()\n",
        "a = np.concatenate((b,c))\n",
        "print(a)"
      ],
      "metadata": {
        "colab": {
          "base_uri": "https://localhost:8080/"
        },
        "id": "PTQX_0JmnFf_",
        "outputId": "26dfd010-736a-4940-97b3-0ff2465728cd"
      },
      "execution_count": 134,
      "outputs": [
        {
          "output_type": "stream",
          "name": "stdout",
          "text": [
            "[1 2 3 4 2 6]\n",
            "\n",
            "[1 2 3 4 2 6]\n"
          ]
        }
      ]
    },
    {
      "cell_type": "code",
      "source": [
        "# Vertical Stack\n",
        "# vstack concatenates arrays along axis 0\n",
        "a = np.vstack((b,c))\n",
        "print(a)\n",
        "print()\n",
        "\n",
        "x = np.array([[1,2],[3,4]])\n",
        "y = np.array([[5,6]])\n",
        "a = np.concatenate((x,y), axis = 0)\n",
        "a1 = np.vstack((x,y))\n",
        "print(a)\n",
        "print(a1)"
      ],
      "metadata": {
        "colab": {
          "base_uri": "https://localhost:8080/"
        },
        "id": "PBMhTkZInkkY",
        "outputId": "65bfb17c-3e73-486f-95d8-0248fc69cb1b"
      },
      "execution_count": 140,
      "outputs": [
        {
          "output_type": "stream",
          "name": "stdout",
          "text": [
            "[[1 2 3]\n",
            " [4 2 6]]\n",
            "\n",
            "[[1 2]\n",
            " [3 4]\n",
            " [5 6]]\n",
            "[[1 2]\n",
            " [3 4]\n",
            " [5 6]]\n"
          ]
        }
      ]
    },
    {
      "cell_type": "code",
      "source": [
        "p = np.pi\n",
        "print(p)"
      ],
      "metadata": {
        "colab": {
          "base_uri": "https://localhost:8080/"
        },
        "id": "87XwtrebrPF6",
        "outputId": "80424ea9-432f-48cc-d59f-9ae37e5197ac"
      },
      "execution_count": 61,
      "outputs": [
        {
          "output_type": "stream",
          "name": "stdout",
          "text": [
            "3.141592653589793\n"
          ]
        }
      ]
    },
    {
      "cell_type": "code",
      "source": [
        "a = np.array([1,2,3], dtype = np.float32)\n",
        "print(a)"
      ],
      "metadata": {
        "colab": {
          "base_uri": "https://localhost:8080/"
        },
        "id": "bLx8SsHero87",
        "outputId": "c6d3f8b7-8c63-4c47-8a3e-546c48d66c14"
      },
      "execution_count": 63,
      "outputs": [
        {
          "output_type": "stream",
          "name": "stdout",
          "text": [
            "[1. 2. 3.]\n"
          ]
        }
      ]
    },
    {
      "cell_type": "code",
      "source": [
        "#Return a 2-D array with ones on the diagonal and zero elsewhere\n",
        "a = np.eye(3) # with 3 column\n",
        "print(a)"
      ],
      "metadata": {
        "colab": {
          "base_uri": "https://localhost:8080/"
        },
        "id": "ysU0paRWr4qp",
        "outputId": "73a390e0-ada7-440b-f40d-98834fbf0061"
      },
      "execution_count": 67,
      "outputs": [
        {
          "output_type": "stream",
          "name": "stdout",
          "text": [
            "[[1. 0. 0.]\n",
            " [0. 1. 0.]\n",
            " [0. 0. 1.]]\n"
          ]
        }
      ]
    },
    {
      "cell_type": "code",
      "source": [
        "a = np.arange(12).reshape(2,2,3)\n",
        "print(a)"
      ],
      "metadata": {
        "colab": {
          "base_uri": "https://localhost:8080/"
        },
        "id": "tamhihQYs6A_",
        "outputId": "aed8f6ed-4f0b-4841-d376-29fae5b217bc"
      },
      "execution_count": 74,
      "outputs": [
        {
          "output_type": "stream",
          "name": "stdout",
          "text": [
            "[[[ 0  1  2]\n",
            "  [ 3  4  5]]\n",
            "\n",
            " [[ 6  7  8]\n",
            "  [ 9 10 11]]]\n"
          ]
        }
      ]
    },
    {
      "cell_type": "code",
      "source": [
        "# Arrays can be transposed using the .T attribute\n",
        "a = my_1d_array.T\n",
        "a1 = my_1d_array.transpose()\n",
        "print(a)\n",
        "print(a1)"
      ],
      "metadata": {
        "colab": {
          "base_uri": "https://localhost:8080/"
        },
        "id": "ypjvDq8htWLs",
        "outputId": "c05d68d2-f6ee-42c4-ee83-64fb00a25be9"
      },
      "execution_count": 147,
      "outputs": [
        {
          "output_type": "stream",
          "name": "stdout",
          "text": [
            "[ 0  1  2  3  4  5  6  7  8  9 10 11 12 13 14 15 16 17 18 19]\n",
            "[ 0  1  2  3  4  5  6  7  8  9 10 11 12 13 14 15 16 17 18 19]\n"
          ]
        }
      ]
    },
    {
      "cell_type": "code",
      "source": [
        "#Numpy also provides a set of element-wise functions that can be applied to all elements of an array, creating a new array\n",
        "a = np.array([[1,2,3],[4,5,6]])\n",
        "a1 = np.exp(a)\n",
        "print(a1)\n",
        "a2 = np.log(a)\n",
        "print(a2)"
      ],
      "metadata": {
        "colab": {
          "base_uri": "https://localhost:8080/"
        },
        "id": "07JLIuxNuuh3",
        "outputId": "5f9492bf-9ddc-410f-918f-dcca6ef81996"
      },
      "execution_count": 79,
      "outputs": [
        {
          "output_type": "stream",
          "name": "stdout",
          "text": [
            "[[  2.71828183   7.3890561   20.08553692]\n",
            " [ 54.59815003 148.4131591  403.42879349]]\n",
            "[[0.         0.69314718 1.09861229]\n",
            " [1.38629436 1.60943791 1.79175947]]\n"
          ]
        }
      ]
    },
    {
      "cell_type": "code",
      "source": [
        "# execution time\n",
        "s = 0\n",
        "N = 10000000\n",
        "x = np.arange(N)\n",
        "for i in x:\n",
        "  s += i"
      ],
      "metadata": {
        "id": "4ju-52zQvCYm"
      },
      "execution_count": 80,
      "outputs": []
    },
    {
      "cell_type": "code",
      "source": [
        "# execution time\n",
        "N = 10000000\n",
        "x = np.arange(N)\n",
        "s = x.sum()"
      ],
      "metadata": {
        "id": "OANnI6flvRIj"
      },
      "execution_count": 81,
      "outputs": []
    },
    {
      "cell_type": "code",
      "source": [
        "x = np.arange(15).reshape(3,5)\n",
        "print(x)\n",
        "\n",
        "print()\n",
        "a = x[1, 0:3]\n",
        "print(a)\n",
        "\n",
        "print()\n",
        "a = x[0:2, 0:2]\n",
        "print(a)\n",
        "\n",
        "print()\n",
        "idx = np.array([0, 0, 2])\n",
        "#means \"select the rows of x indexed by idx and all columns (: means all columns).\"\n",
        "a = x[idx, :]\n",
        "print(a)\n",
        "\n",
        "print()\n",
        "#means \"select all rows (:) and the columns of x indexed by idx.\"\n",
        "a = x[ :,idx]\n",
        "print(a)\n",
        "\n",
        "print()\n",
        "idx = np.array([0,2]) # rows\n",
        "jdx = np.array([1,3]) # columns\n",
        "a = x[idx, :][:,jdx]\n",
        "print(a)\n",
        "\n",
        "print()\n",
        "#_ix allows you to create a 2D array by selecting all combinations of rows in idx and columns in jdx\n",
        "a = x[np.ix_(idx, jdx)] # generates two 2D arrays that can be used to index the original array x:\n",
        "print(a)\n",
        "\n",
        "print()\n",
        "xMask = x > 5\n",
        "print(xMask)\n",
        "\n",
        "print()\n",
        "a = x[xMask]\n",
        "print(a)\n",
        "\n",
        "print()\n",
        "z = np.array([1,0,1], dtype= np.bool_)\n",
        "print(z)\n",
        "a = x[z] # z = [True, False, True] -> x[z] = first row and second row\n",
        "print(a)"
      ],
      "metadata": {
        "colab": {
          "base_uri": "https://localhost:8080/"
        },
        "id": "3YpYyp9GvqPF",
        "outputId": "6a373b5d-bb29-4a82-cfbb-ba406eb2eb05"
      },
      "execution_count": 104,
      "outputs": [
        {
          "output_type": "stream",
          "name": "stdout",
          "text": [
            "[[ 0  1  2  3  4]\n",
            " [ 5  6  7  8  9]\n",
            " [10 11 12 13 14]]\n",
            "\n",
            "[5 6 7]\n",
            "\n",
            "[[0 1]\n",
            " [5 6]]\n",
            "\n",
            "[[ 0  1  2  3  4]\n",
            " [ 0  1  2  3  4]\n",
            " [10 11 12 13 14]]\n",
            "\n",
            "[[ 0  0  2]\n",
            " [ 5  5  7]\n",
            " [10 10 12]]\n",
            "\n",
            "[[ 1  3]\n",
            " [11 13]]\n",
            "\n",
            "[[ 1  3]\n",
            " [11 13]]\n",
            "\n",
            "[[False False False False False]\n",
            " [False  True  True  True  True]\n",
            " [ True  True  True  True  True]]\n",
            "\n",
            "[ 6  7  8  9 10 11 12 13 14]\n",
            "\n",
            "[ True False  True]\n",
            "[[ 0  1  2  3  4]\n",
            " [10 11 12 13 14]]\n"
          ]
        }
      ]
    },
    {
      "cell_type": "code",
      "source": [
        "x = np.zeros(6)\n",
        "print(x)\n",
        "x[::2] = 3\n",
        "print(x)\n"
      ],
      "metadata": {
        "colab": {
          "base_uri": "https://localhost:8080/"
        },
        "id": "ffG_POYy4dA5",
        "outputId": "0ea6c83c-bcf1-442a-972e-b14ffdf6b5da"
      },
      "execution_count": 110,
      "outputs": [
        {
          "output_type": "stream",
          "name": "stdout",
          "text": [
            "[0. 0. 0. 0. 0. 0.]\n",
            "[3. 0. 3. 0. 3. 0.]\n"
          ]
        }
      ]
    },
    {
      "cell_type": "code",
      "source": [
        "x[np.array([True, False, True, True, True, False],dtype=np.bool_)] = np.arange(4)\n",
        "# [0,2,3,4] = [1,2,3,4]\n",
        "print(x)"
      ],
      "metadata": {
        "colab": {
          "base_uri": "https://localhost:8080/"
        },
        "id": "t0R-wWJM5WRJ",
        "outputId": "224670de-3302-4ef4-aa29-208e39cb07c3"
      },
      "execution_count": 111,
      "outputs": [
        {
          "output_type": "stream",
          "name": "stdout",
          "text": [
            "[0. 0. 1. 2. 3. 0.]\n"
          ]
        }
      ]
    },
    {
      "cell_type": "code",
      "source": [
        "# copy of the data\n",
        "x = np.arange(6)\n",
        "a = x.flags.owndata\n",
        "print(a)\n",
        "\n",
        "# view of the data\n",
        "a = x[:3]\n",
        "print(a.flags.owndata)\n"
      ],
      "metadata": {
        "colab": {
          "base_uri": "https://localhost:8080/"
        },
        "id": "dD3YO0jW5hLm",
        "outputId": "45ece911-032b-448e-dad3-c68b23f3e4f8"
      },
      "execution_count": 113,
      "outputs": [
        {
          "output_type": "stream",
          "name": "stdout",
          "text": [
            "True\n",
            "False\n"
          ]
        }
      ]
    },
    {
      "cell_type": "code",
      "source": [
        "#Array m is broadcasted to a shape (1, 4), and then replicated along axis 0\n",
        "x = np.zeros((3,4))\n",
        "print(x)\n",
        "print()\n",
        "\n",
        "m = np.arange(4)\n",
        "print(m)\n",
        "print()\n",
        "\n",
        "a = x + m\n",
        "print(a)"
      ],
      "metadata": {
        "colab": {
          "base_uri": "https://localhost:8080/"
        },
        "id": "rMydxETj2QQI",
        "outputId": "134cd7af-518a-46b9-9cae-7bfe33150b3a"
      },
      "execution_count": 116,
      "outputs": [
        {
          "output_type": "stream",
          "name": "stdout",
          "text": [
            "[[0. 0. 0. 0.]\n",
            " [0. 0. 0. 0.]\n",
            " [0. 0. 0. 0.]]\n",
            "\n",
            "[0 1 2 3]\n",
            "\n",
            "[[0. 1. 2. 3.]\n",
            " [0. 1. 2. 3.]\n",
            " [0. 1. 2. 3.]]\n"
          ]
        }
      ]
    },
    {
      "cell_type": "code",
      "source": [
        "# Array m already has the same number of dimensions as x, and gets replicated along axis 0\n",
        "x = np.zeros((3,4))\n",
        "print(x)\n",
        "print()\n",
        "\n",
        "m = np.arange(4).reshape((1,4))\n",
        "print(m)\n",
        "print()\n",
        "\n",
        "a = x + m\n",
        "print(a)"
      ],
      "metadata": {
        "colab": {
          "base_uri": "https://localhost:8080/"
        },
        "id": "Xa8r50u065P8",
        "outputId": "53ddda9f-32c4-45a3-d50e-94806ddb4a6d"
      },
      "execution_count": 117,
      "outputs": [
        {
          "output_type": "stream",
          "name": "stdout",
          "text": [
            "[[0. 0. 0. 0.]\n",
            " [0. 0. 0. 0.]\n",
            " [0. 0. 0. 0.]]\n",
            "\n",
            "[[0 1 2 3]]\n",
            "\n",
            "[[0. 1. 2. 3.]\n",
            " [0. 1. 2. 3.]\n",
            " [0. 1. 2. 3.]]\n"
          ]
        }
      ]
    },
    {
      "cell_type": "code",
      "source": [
        "#Array m already has the same number of dimensions as x, and gets replicated along axis 1\n",
        "x = np.zeros((3,4))\n",
        "print(x)\n",
        "print()\n",
        "\n",
        "m = np.arange(3).reshape((3,1))\n",
        "print(m)\n",
        "print()\n",
        "\n",
        "a = x + m\n",
        "print(a)"
      ],
      "metadata": {
        "colab": {
          "base_uri": "https://localhost:8080/"
        },
        "id": "eUk3u5O27Dmw",
        "outputId": "c7015105-ce7e-4cb3-c35a-b8a4cd472f93"
      },
      "execution_count": 118,
      "outputs": [
        {
          "output_type": "stream",
          "name": "stdout",
          "text": [
            "[[0. 0. 0. 0.]\n",
            " [0. 0. 0. 0.]\n",
            " [0. 0. 0. 0.]]\n",
            "\n",
            "[[0]\n",
            " [1]\n",
            " [2]]\n",
            "\n",
            "[[0. 0. 0. 0.]\n",
            " [1. 1. 1. 1.]\n",
            " [2. 2. 2. 2.]]\n"
          ]
        }
      ]
    },
    {
      "cell_type": "code",
      "source": [
        "# linear algebra functions\n",
        "# compute the eigenvalue decomposition of a 2-D array\n",
        "x = np.arange(9).reshape(3,3)\n",
        "a = np.linalg.eig(x)\n",
        "print(a)"
      ],
      "metadata": {
        "colab": {
          "base_uri": "https://localhost:8080/"
        },
        "id": "g-ap73gd7SdY",
        "outputId": "b1181ebe-2948-4387-81e2-5b4cfe1a0dd3"
      },
      "execution_count": 126,
      "outputs": [
        {
          "output_type": "stream",
          "name": "stdout",
          "text": [
            "EigResult(eigenvalues=array([ 1.33484692e+01, -1.34846923e+00, -2.48477279e-16]), eigenvectors=array([[ 0.16476382,  0.79969966,  0.40824829],\n",
            "       [ 0.50577448,  0.10420579, -0.81649658],\n",
            "       [ 0.84678513, -0.59128809,  0.40824829]]))\n"
          ]
        }
      ]
    },
    {
      "cell_type": "code",
      "source": [
        "x = np.array([99,1,109,-1])\n",
        "print(x)\n",
        "print()\n",
        "\n",
        "a = np.argsort(x) # index of the sorted array\n",
        "print(a)\n",
        "print()\n",
        "\n",
        "a = np.sort(x)\n",
        "print(a)\n",
        "print()"
      ],
      "metadata": {
        "colab": {
          "base_uri": "https://localhost:8080/"
        },
        "id": "NbyrO4eK9IkE",
        "outputId": "62b52126-e7c7-4650-eb7d-2a1a8a7d9bfa"
      },
      "execution_count": 133,
      "outputs": [
        {
          "output_type": "stream",
          "name": "stdout",
          "text": [
            "[ 99   1 109  -1]\n",
            "\n",
            "[3 1 0 2]\n",
            "\n",
            "[ -1   1  99 109]\n",
            "\n"
          ]
        }
      ]
    },
    {
      "cell_type": "code",
      "source": [
        "x = np.array([99,2,109,-1])\n",
        "print(x[x>100])\n",
        "print(x[(x>100) | (x < 0)])\n",
        "print(x[(x % 2) == 0 ])"
      ],
      "metadata": {
        "colab": {
          "base_uri": "https://localhost:8080/"
        },
        "id": "dJbbaPphAY75",
        "outputId": "8206143d-9406-4bad-bb2a-ae887d5b2745"
      },
      "execution_count": 146,
      "outputs": [
        {
          "output_type": "stream",
          "name": "stdout",
          "text": [
            "[109]\n",
            "[109  -1]\n",
            "[2]\n"
          ]
        }
      ]
    },
    {
      "cell_type": "code",
      "source": [
        "x = np.array([99,2,109,-1])\n",
        "print(x)\n",
        "a = np.flip(x)\n",
        "print(a)"
      ],
      "metadata": {
        "colab": {
          "base_uri": "https://localhost:8080/"
        },
        "id": "WzLlJB37AZf0",
        "outputId": "eb65afc7-b7c9-440d-f5b4-11950002b543"
      },
      "execution_count": 149,
      "outputs": [
        {
          "output_type": "stream",
          "name": "stdout",
          "text": [
            "[ 99   2 109  -1]\n",
            "[ -1 109   2  99]\n"
          ]
        }
      ]
    },
    {
      "cell_type": "code",
      "source": [
        "x = np.array([[1,2,3],[4,5,6]])\n",
        "print(x)\n",
        "print()\n",
        "\n",
        "a = np.flip(x)\n",
        "print(a)\n",
        "print()\n",
        "\n",
        "a1 = np.flip(x, axis=0) #column\n",
        "print(a1)\n",
        "print()\n",
        "\n",
        "a2 = np.flip(x, axis=1) #row\n",
        "print(a2)\n",
        "print()"
      ],
      "metadata": {
        "colab": {
          "base_uri": "https://localhost:8080/"
        },
        "id": "T5fakLQMBMHK",
        "outputId": "5f8cecd6-67f1-4778-ae4d-68a191d74cd0"
      },
      "execution_count": 152,
      "outputs": [
        {
          "output_type": "stream",
          "name": "stdout",
          "text": [
            "[[1 2 3]\n",
            " [4 5 6]]\n",
            "\n",
            "[[6 5 4]\n",
            " [3 2 1]]\n",
            "\n",
            "[[4 5 6]\n",
            " [1 2 3]]\n",
            "\n",
            "[[3 2 1]\n",
            " [6 5 4]]\n",
            "\n"
          ]
        }
      ]
    },
    {
      "cell_type": "code",
      "source": [
        "#save array in a file\n",
        "#np.save('filename' , array)\n",
        "\n",
        "#load file\n",
        "#np.load('filename.py')\n"
      ],
      "metadata": {
        "id": "jz3OrPili7Le"
      },
      "execution_count": null,
      "outputs": []
    },
    {
      "cell_type": "code",
      "source": [],
      "metadata": {
        "id": "eb2EhW-Bi6Z2"
      },
      "execution_count": null,
      "outputs": []
    }
  ],
  "metadata": {
    "colab": {
      "provenance": []
    },
    "kernelspec": {
      "display_name": "Python 3",
      "name": "python3"
    },
    "language_info": {
      "codemirror_mode": {
        "name": "ipython",
        "version": 3
      },
      "file_extension": ".py",
      "mimetype": "text/x-python",
      "name": "python",
      "nbconvert_exporter": "python",
      "pygments_lexer": "ipython3",
      "version": "3.12.5"
    }
  },
  "nbformat": 4,
  "nbformat_minor": 0
}