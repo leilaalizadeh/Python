{
  "cells": [
    {
      "cell_type": "code",
      "execution_count": 1,
      "metadata": {
        "id": "9gaDVsPRyhb6"
      },
      "outputs": [],
      "source": [
        "import pandas as pd"
      ]
    },
    {
      "cell_type": "code",
      "execution_count": 3,
      "metadata": {
        "id": "V6GNtBYBynuw"
      },
      "outputs": [],
      "source": [
        "df = pd.read_csv('files/sales.csv')\n",
        "#second param\n",
        "# skiprows = 5 not read the fifth first rows\n",
        "# nrows = 10 just read first 10  rows\n",
        "# skip_blank_rows = True\n",
        "# error_bad_lines = True\n",
        "# warn_bad_lines = True\n"
      ]
    },
    {
      "cell_type": "code",
      "execution_count": null,
      "metadata": {
        "colab": {
          "base_uri": "https://localhost:8080/"
        },
        "id": "c6IV80bXzdwl",
        "outputId": "7d935b51-aac6-4796-d851-c416331ab223"
      },
      "outputs": [
        {
          "name": "stdout",
          "output_type": "stream",
          "text": [
            "     Product     Company   Category  Units Sold  Revenue  Cost of Goods Sold  \\\n",
            "0     Coffee   Coca-Cola     Coffee         151     2141                4956   \n",
            "1     Coffee   Coca-Cola     Coffee         624     1620                1156   \n",
            "2       Wine   Coca-Cola  Alcoholic         853     9978                1030   \n",
            "3  Green Tea  Dr. Pepper        Tea         962     5974                5279   \n",
            "4      Vodka  Dr. Pepper  Alcoholic         719     3928                2828   \n",
            "\n",
            "   Profit Purchase Date    Customer Name Customer State      Customer City  \\\n",
            "0   -2815    2020-07-04    Angela Wilson     California  East Danielleview   \n",
            "1     464    2021-04-09  Zachary Wheeler      Wisconsin  New Kimberlyshire   \n",
            "2    8948    2022-03-10    Jeremy Arroyo  Massachusetts        Vickieshire   \n",
            "3     695    2023-05-10   Andrew Fleming        Arizona         Albertberg   \n",
            "4    1100    2020-11-19   Caroline Smith        Indiana        Johnsonstad   \n",
            "\n",
            "   Customer Zip Code       Order ID  \n",
            "0              35273  1-143-51064-X  \n",
            "1              55509  1-163-25655-2  \n",
            "2              93236  0-345-30366-0  \n",
            "3              34895  1-4844-8219-0  \n",
            "4              90201  1-85816-387-0  \n"
          ]
        }
      ],
      "source": [
        "#first 5 rows\n",
        "a = df.head()\n",
        "print(a)"
      ]
    },
    {
      "cell_type": "code",
      "execution_count": 14,
      "metadata": {
        "colab": {
          "base_uri": "https://localhost:8080/"
        },
        "id": "kb61s_z0zlts",
        "outputId": "9536bf31-b841-43e1-badd-5273d977e187"
      },
      "outputs": [
        {
          "name": "stdout",
          "output_type": "stream",
          "text": [
            "  Product    Company Category  Units Sold  Revenue  Cost of Goods Sold  \\\n",
            "0  Coffee  Coca-Cola   Coffee         151     2141                4956   \n",
            "1  Coffee  Coca-Cola   Coffee         624     1620                1156   \n",
            "\n",
            "   Profit Purchase Date    Customer Name Customer State      Customer City  \\\n",
            "0   -2815      7/4/2020    Angela Wilson     California  East Danielleview   \n",
            "1     464      4/9/2021  Zachary Wheeler      Wisconsin  New Kimberlyshire   \n",
            "\n",
            "   Customer Zip Code       Order ID  \n",
            "0              35273  1-143-51064-X  \n",
            "1              55509  1-163-25655-2  \n"
          ]
        }
      ],
      "source": [
        "#first n rows\n",
        "a = df.head(2)\n",
        "print(a)"
      ]
    },
    {
      "cell_type": "code",
      "execution_count": 15,
      "metadata": {
        "colab": {
          "base_uri": "https://localhost:8080/"
        },
        "id": "4JH1nt0uzy2r",
        "outputId": "aaeef958-483e-4a04-f688-8e1ba721d2f8"
      },
      "outputs": [
        {
          "name": "stdout",
          "output_type": "stream",
          "text": [
            "        Product     Company   Category  Units Sold  Revenue  \\\n",
            "994   Black Tea       Pepsi        Tea         642     1570   \n",
            "995        Beer  Dr. Pepper  Alcoholic         672     6919   \n",
            "996        Wine  Dr. Pepper  Alcoholic         625     1826   \n",
            "997       Vodka   Coca-Cola  Alcoholic         105     5486   \n",
            "998  Herbal Tea   Coca-Cola        Tea         121     7678   \n",
            "\n",
            "     Cost of Goods Sold  Profit Purchase Date     Customer Name  \\\n",
            "994                4167   -2597      9/3/2020   Kristin Delgado   \n",
            "995                7733    -814     10/2/2021  Louis Washington   \n",
            "996                4386   -2560      9/9/2022   Richard Edwards   \n",
            "997                1514    3972     5/16/2023       Kayla Glenn   \n",
            "998                2518    5160    12/26/2020    Nancy Williams   \n",
            "\n",
            "    Customer State     Customer City  Customer Zip Code       Order ID  \n",
            "994     Washington        Andrewport              21445  1-125-33353-7  \n",
            "995         Hawaii    Lake Cassandra              73027  0-7698-9702-9  \n",
            "996    Mississippi  South Brucehaven               2811  0-89284-129-X  \n",
            "997         Kansas      New Davebury              84246  1-361-93891-9  \n",
            "998      Minnesota        Robertstad              35475  1-291-01435-7  \n"
          ]
        }
      ],
      "source": [
        "# last 5 rows\n",
        "a = df .tail()\n",
        "print(a)"
      ]
    },
    {
      "cell_type": "code",
      "execution_count": 16,
      "metadata": {
        "colab": {
          "base_uri": "https://localhost:8080/"
        },
        "id": "ujpEBzlPz7Wr",
        "outputId": "1f0bd647-c2f4-4fca-8002-ea01eb1e32bb"
      },
      "outputs": [
        {
          "name": "stdout",
          "output_type": "stream",
          "text": [
            "        Product    Company Category  Units Sold  Revenue  Cost of Goods Sold  \\\n",
            "998  Herbal Tea  Coca-Cola      Tea         121     7678                2518   \n",
            "\n",
            "     Profit Purchase Date   Customer Name Customer State Customer City  \\\n",
            "998    5160    12/26/2020  Nancy Williams      Minnesota    Robertstad   \n",
            "\n",
            "     Customer Zip Code       Order ID  \n",
            "998              35475  1-291-01435-7  \n"
          ]
        }
      ],
      "source": [
        "# last n rows\n",
        "a = df .tail(1)\n",
        "print(a)"
      ]
    },
    {
      "cell_type": "code",
      "execution_count": null,
      "metadata": {
        "id": "c2Qm5_4FzZbr"
      },
      "outputs": [],
      "source": [
        "# numpy -> ndarray\n",
        "# pandas -> series(one column), dataframe (more than one column)"
      ]
    },
    {
      "cell_type": "code",
      "execution_count": 17,
      "metadata": {
        "colab": {
          "base_uri": "https://localhost:8080/"
        },
        "id": "4KtSjKSS54DK",
        "outputId": "0db1799c-7fdd-407a-a210-79004b630a6e"
      },
      "outputs": [
        {
          "name": "stdout",
          "output_type": "stream",
          "text": [
            "0          Coffee\n",
            "1          Coffee\n",
            "2            Wine\n",
            "3       Green Tea\n",
            "4           Vodka\n",
            "          ...    \n",
            "994     Black Tea\n",
            "995          Beer\n",
            "996          Wine\n",
            "997         Vodka\n",
            "998    Herbal Tea\n",
            "Name: Product, Length: 999, dtype: object\n"
          ]
        }
      ],
      "source": [
        "product = df[\"Product\"]\n",
        "print(product)"
      ]
    },
    {
      "cell_type": "code",
      "execution_count": 18,
      "metadata": {
        "colab": {
          "base_uri": "https://localhost:8080/"
        },
        "id": "zrsTZuFO6G3H",
        "outputId": "0465b9a2-c340-4bc8-e058-8d1b1c75390a"
      },
      "outputs": [
        {
          "name": "stdout",
          "output_type": "stream",
          "text": [
            "0          Coffee\n",
            "1          Coffee\n",
            "2            Wine\n",
            "3       Green Tea\n",
            "4           Vodka\n",
            "          ...    \n",
            "994     Black Tea\n",
            "995          Beer\n",
            "996          Wine\n",
            "997         Vodka\n",
            "998    Herbal Tea\n",
            "Name: Product, Length: 999, dtype: object\n"
          ]
        }
      ],
      "source": [
        "product = df.Product\n",
        "print(product)"
      ]
    },
    {
      "cell_type": "code",
      "execution_count": 19,
      "metadata": {
        "colab": {
          "base_uri": "https://localhost:8080/"
        },
        "id": "D8bfrWb16KBW",
        "outputId": "c1c8309a-875c-4456-fdaa-17d96ad9ae4e"
      },
      "outputs": [
        {
          "name": "stdout",
          "output_type": "stream",
          "text": [
            "<class 'pandas.core.frame.DataFrame'>\n"
          ]
        }
      ],
      "source": [
        "a = type(df)\n",
        "print(a)"
      ]
    },
    {
      "cell_type": "code",
      "execution_count": 20,
      "metadata": {
        "colab": {
          "base_uri": "https://localhost:8080/"
        },
        "id": "BhtE800w6RjW",
        "outputId": "9dd26c4a-dee9-4e2d-c4b8-0e2d0386f170"
      },
      "outputs": [
        {
          "name": "stdout",
          "output_type": "stream",
          "text": [
            "        Units Sold      Revenue  Cost of Goods Sold       Profit  \\\n",
            "count   999.000000   999.000000          999.000000   999.000000   \n",
            "mean    527.492492  5524.408408         4070.573574  1453.834835   \n",
            "std     266.905952  2637.230147         2178.203728  3427.595727   \n",
            "min     101.000000  1001.000000          508.000000 -6828.000000   \n",
            "25%     291.000000  3186.500000         2245.500000 -1040.500000   \n",
            "50%     512.000000  5610.000000         3977.000000  1335.000000   \n",
            "75%     753.500000  7833.000000         5986.500000  3929.500000   \n",
            "max    1000.000000  9991.000000         7983.000000  9391.000000   \n",
            "\n",
            "       Customer Zip Code  \n",
            "count         999.000000  \n",
            "mean        51476.641642  \n",
            "std         30634.323792  \n",
            "min          1198.000000  \n",
            "25%         25851.500000  \n",
            "50%         54538.000000  \n",
            "75%         79752.000000  \n",
            "max         99906.000000  \n"
          ]
        }
      ],
      "source": [
        "a = df.describe()\n",
        "print(a)"
      ]
    },
    {
      "cell_type": "code",
      "execution_count": 21,
      "metadata": {
        "colab": {
          "base_uri": "https://localhost:8080/"
        },
        "id": "hLEsRQbp6m8t",
        "outputId": "e762c966-75ec-4e6e-a129-824d3807814d"
      },
      "outputs": [
        {
          "name": "stdout",
          "output_type": "stream",
          "text": [
            "                    count          mean           std     min      25%  \\\n",
            "Units Sold          999.0    527.492492    266.905952   101.0    291.0   \n",
            "Revenue             999.0   5524.408408   2637.230147  1001.0   3186.5   \n",
            "Cost of Goods Sold  999.0   4070.573574   2178.203728   508.0   2245.5   \n",
            "Profit              999.0   1453.834835   3427.595727 -6828.0  -1040.5   \n",
            "Customer Zip Code   999.0  51476.641642  30634.323792  1198.0  25851.5   \n",
            "\n",
            "                        50%      75%      max  \n",
            "Units Sold            512.0    753.5   1000.0  \n",
            "Revenue              5610.0   7833.0   9991.0  \n",
            "Cost of Goods Sold   3977.0   5986.5   7983.0  \n",
            "Profit               1335.0   3929.5   9391.0  \n",
            "Customer Zip Code   54538.0  79752.0  99906.0  \n"
          ]
        }
      ],
      "source": [
        "a = df.describe().T\n",
        "print(a)"
      ]
    },
    {
      "cell_type": "code",
      "execution_count": 22,
      "metadata": {
        "colab": {
          "base_uri": "https://localhost:8080/"
        },
        "id": "fH7RR5fY6u08",
        "outputId": "84089637-e292-44b0-e986-f51f6dbb58a6"
      },
      "outputs": [
        {
          "name": "stdout",
          "output_type": "stream",
          "text": [
            "<bound method DataFrame.info of         Product     Company   Category  Units Sold  Revenue  \\\n",
            "0        Coffee   Coca-Cola     Coffee         151     2141   \n",
            "1        Coffee   Coca-Cola     Coffee         624     1620   \n",
            "2          Wine   Coca-Cola  Alcoholic         853     9978   \n",
            "3     Green Tea  Dr. Pepper        Tea         962     5974   \n",
            "4         Vodka  Dr. Pepper  Alcoholic         719     3928   \n",
            "..          ...         ...        ...         ...      ...   \n",
            "994   Black Tea       Pepsi        Tea         642     1570   \n",
            "995        Beer  Dr. Pepper  Alcoholic         672     6919   \n",
            "996        Wine  Dr. Pepper  Alcoholic         625     1826   \n",
            "997       Vodka   Coca-Cola  Alcoholic         105     5486   \n",
            "998  Herbal Tea   Coca-Cola        Tea         121     7678   \n",
            "\n",
            "     Cost of Goods Sold  Profit Purchase Date     Customer Name  \\\n",
            "0                  4956   -2815      7/4/2020     Angela Wilson   \n",
            "1                  1156     464      4/9/2021   Zachary Wheeler   \n",
            "2                  1030    8948     3/10/2022     Jeremy Arroyo   \n",
            "3                  5279     695     5/10/2023    Andrew Fleming   \n",
            "4                  2828    1100    11/19/2020    Caroline Smith   \n",
            "..                  ...     ...           ...               ...   \n",
            "994                4167   -2597      9/3/2020   Kristin Delgado   \n",
            "995                7733    -814     10/2/2021  Louis Washington   \n",
            "996                4386   -2560      9/9/2022   Richard Edwards   \n",
            "997                1514    3972     5/16/2023       Kayla Glenn   \n",
            "998                2518    5160    12/26/2020    Nancy Williams   \n",
            "\n",
            "    Customer State      Customer City  Customer Zip Code       Order ID  \n",
            "0       California  East Danielleview              35273  1-143-51064-X  \n",
            "1        Wisconsin  New Kimberlyshire              55509  1-163-25655-2  \n",
            "2    Massachusetts        Vickieshire              93236  0-345-30366-0  \n",
            "3          Arizona         Albertberg              34895  1-4844-8219-0  \n",
            "4          Indiana        Johnsonstad              90201  1-85816-387-0  \n",
            "..             ...                ...                ...            ...  \n",
            "994     Washington         Andrewport              21445  1-125-33353-7  \n",
            "995         Hawaii     Lake Cassandra              73027  0-7698-9702-9  \n",
            "996    Mississippi   South Brucehaven               2811  0-89284-129-X  \n",
            "997         Kansas       New Davebury              84246  1-361-93891-9  \n",
            "998      Minnesota         Robertstad              35475  1-291-01435-7  \n",
            "\n",
            "[999 rows x 13 columns]>\n"
          ]
        }
      ],
      "source": [
        "a = df.info\n",
        "print(a)"
      ]
    },
    {
      "cell_type": "code",
      "execution_count": 23,
      "metadata": {
        "colab": {
          "base_uri": "https://localhost:8080/"
        },
        "id": "29Y21BzY6zHM",
        "outputId": "978a1c9f-3b7c-43ef-a254-532350b5e54a"
      },
      "outputs": [
        {
          "name": "stdout",
          "output_type": "stream",
          "text": [
            "Index(['Product', 'Company', 'Category', 'Units Sold', 'Revenue',\n",
            "       'Cost of Goods Sold', 'Profit', 'Purchase Date', 'Customer Name',\n",
            "       'Customer State', 'Customer City', 'Customer Zip Code', 'Order ID'],\n",
            "      dtype='object')\n"
          ]
        }
      ],
      "source": [
        "a = df.columns\n",
        "print(a)"
      ]
    },
    {
      "cell_type": "code",
      "execution_count": 24,
      "metadata": {
        "colab": {
          "base_uri": "https://localhost:8080/"
        },
        "id": "eNuuUZ1o6-T-",
        "outputId": "93f56d55-b45d-471c-87aa-6c316cae6f3f"
      },
      "outputs": [
        {
          "name": "stdout",
          "output_type": "stream",
          "text": [
            "Product\n",
            "Beer            111\n",
            "Vodka           108\n",
            "Wine            107\n",
            "Herbal Tea      104\n",
            "Cola            101\n",
            "Green Tea        97\n",
            "Coffee           96\n",
            "Energy Drink     96\n",
            "Black Tea        94\n",
            "Lemonade         85\n",
            "Name: count, dtype: int64\n"
          ]
        }
      ],
      "source": [
        "a = df.Product.value_counts()\n",
        "print(a)"
      ]
    },
    {
      "cell_type": "code",
      "execution_count": 25,
      "metadata": {
        "colab": {
          "base_uri": "https://localhost:8080/"
        },
        "id": "cqPvfOef7OFT",
        "outputId": "78d23a2e-edd7-4c0a-f871-cc22a548818c"
      },
      "outputs": [
        {
          "name": "stdout",
          "output_type": "stream",
          "text": [
            "Product                10\n",
            "Company                 3\n",
            "Category                4\n",
            "Units Sold            592\n",
            "Revenue               953\n",
            "Cost of Goods Sold    943\n",
            "Profit                965\n",
            "Purchase Date         697\n",
            "Customer Name         988\n",
            "Customer State         50\n",
            "Customer City         960\n",
            "Customer Zip Code     987\n",
            "Order ID              999\n",
            "dtype: int64\n"
          ]
        }
      ],
      "source": [
        "a = df.nunique()\n",
        "print(a)"
      ]
    },
    {
      "cell_type": "code",
      "execution_count": 26,
      "metadata": {
        "colab": {
          "base_uri": "https://localhost:8080/"
        },
        "id": "eC7CrfGp7aFT",
        "outputId": "eae952ba-711a-4e8e-dd3b-0edff31647d9"
      },
      "outputs": [
        {
          "name": "stdout",
          "output_type": "stream",
          "text": [
            "['Coffee' 'Wine' 'Green Tea' 'Vodka' 'Lemonade' 'Cola' 'Energy Drink'\n",
            " 'Herbal Tea' 'Beer' 'Black Tea']\n"
          ]
        }
      ],
      "source": [
        "a = df.Product.unique()\n",
        "print(a)"
      ]
    },
    {
      "cell_type": "code",
      "execution_count": 27,
      "metadata": {
        "colab": {
          "base_uri": "https://localhost:8080/"
        },
        "id": "bBLYaqO57hxK",
        "outputId": "11e5f5dd-657e-4a07-8fbd-c62b619661e1"
      },
      "outputs": [
        {
          "name": "stdout",
          "output_type": "stream",
          "text": [
            "10\n"
          ]
        }
      ],
      "source": [
        "a = len(df.Product.unique())\n",
        "print(a)"
      ]
    },
    {
      "cell_type": "code",
      "execution_count": 28,
      "metadata": {
        "colab": {
          "base_uri": "https://localhost:8080/"
        },
        "id": "DvGofMSA7oK6",
        "outputId": "73136c52-4ee2-47ce-8889-0041a757c02f"
      },
      "outputs": [
        {
          "name": "stdout",
          "output_type": "stream",
          "text": [
            "['Product', 'Company', 'Category', 'Units Sold', 'Revenue', 'Cost of Goods Sold', 'Profit', 'Purchase Date', 'Customer Name', 'Customer State', 'Customer City', 'Customer Zip Code', 'Order ID']\n"
          ]
        }
      ],
      "source": [
        "a = list(df.columns)\n",
        "print(a)"
      ]
    },
    {
      "cell_type": "code",
      "execution_count": 32,
      "metadata": {
        "colab": {
          "base_uri": "https://localhost:8080/"
        },
        "id": "llgTLW1n76hp",
        "outputId": "051fac85-eec6-4d55-db23-07b1560936e4"
      },
      "outputs": [
        {
          "name": "stdout",
          "output_type": "stream",
          "text": [
            "['Coca-Cola' 'Dr. Pepper' 'Pepsi']\n"
          ]
        }
      ],
      "source": [
        "a = df.Company.unique()\n",
        "print(a)"
      ]
    },
    {
      "cell_type": "code",
      "execution_count": 33,
      "metadata": {
        "colab": {
          "base_uri": "https://localhost:8080/"
        },
        "id": "VlQEyqnO8yA2",
        "outputId": "1369a9e1-9ecf-4fe3-b7aa-cbf550c6f64d"
      },
      "outputs": [
        {
          "name": "stdout",
          "output_type": "stream",
          "text": [
            "        Product     Company\n",
            "0        Coffee   Coca-Cola\n",
            "1        Coffee   Coca-Cola\n",
            "2          Wine   Coca-Cola\n",
            "3     Green Tea  Dr. Pepper\n",
            "4         Vodka  Dr. Pepper\n",
            "..          ...         ...\n",
            "994   Black Tea       Pepsi\n",
            "995        Beer  Dr. Pepper\n",
            "996        Wine  Dr. Pepper\n",
            "997       Vodka   Coca-Cola\n",
            "998  Herbal Tea   Coca-Cola\n",
            "\n",
            "[999 rows x 2 columns]\n"
          ]
        }
      ],
      "source": [
        "a = df[[\"Product\",\"Company\"]]\n",
        "print(a)"
      ]
    },
    {
      "cell_type": "code",
      "execution_count": 34,
      "metadata": {
        "colab": {
          "base_uri": "https://localhost:8080/"
        },
        "id": "TdQrJtky88ql",
        "outputId": "2ad274fa-6e3e-442e-b488-b021579906c9"
      },
      "outputs": [
        {
          "name": "stdout",
          "output_type": "stream",
          "text": [
            "0      False\n",
            "1      False\n",
            "2      False\n",
            "3      False\n",
            "4      False\n",
            "       ...  \n",
            "994     True\n",
            "995    False\n",
            "996    False\n",
            "997    False\n",
            "998    False\n",
            "Name: Company, Length: 999, dtype: bool\n"
          ]
        }
      ],
      "source": [
        "# return True or False\n",
        "print(df.Company == \"Pepsi\")"
      ]
    },
    {
      "cell_type": "code",
      "execution_count": 35,
      "metadata": {
        "colab": {
          "base_uri": "https://localhost:8080/"
        },
        "id": "xLX6wKK39Hzd",
        "outputId": "c801d128-6876-40fe-963e-121aafb0daec"
      },
      "outputs": [
        {
          "name": "stdout",
          "output_type": "stream",
          "text": [
            "        Product Company    Category  Units Sold  Revenue  Cost of Goods Sold  \\\n",
            "6        Coffee   Pepsi      Coffee         101     1398                 955   \n",
            "14         Cola   Pepsi  Soft Drink         526     3082                7115   \n",
            "20         Wine   Pepsi   Alcoholic         351     3724                2359   \n",
            "24   Herbal Tea   Pepsi         Tea         234     6508                6474   \n",
            "28         Beer   Pepsi   Alcoholic         871     2724                1045   \n",
            "..          ...     ...         ...         ...      ...                 ...   \n",
            "985   Green Tea   Pepsi         Tea         219     8937                7664   \n",
            "986        Cola   Pepsi  Soft Drink         222     8110                5614   \n",
            "990        Beer   Pepsi   Alcoholic         192     3488                2906   \n",
            "991        Beer   Pepsi   Alcoholic         822     9798                6797   \n",
            "994   Black Tea   Pepsi         Tea         642     1570                4167   \n",
            "\n",
            "     Profit Purchase Date       Customer Name  Customer State  Customer City  \\\n",
            "6       443     2/25/2021      Monica Mercado  North Carolina  Whitakershire   \n",
            "14    -4033     7/29/2020         Jose Murphy        Maryland  South Amyview   \n",
            "20     1365    11/24/2022  Christopher Miller        Missouri  Sheilachester   \n",
            "24       34     3/28/2021        Sophia Woods        Missouri    Michaelfurt   \n",
            "28     1679     2/19/2023     Jennifer Vaughn      Washington    Tranchester   \n",
            "..      ...           ...                 ...             ...            ...   \n",
            "985    1273      5/6/2023        Lisa Francis          Oregon     Barronview   \n",
            "986    2496      3/7/2022       Kurt Mitchell        Colorado      Tapiafurt   \n",
            "990     582      1/5/2022          Melvin Lee       Tennessee   North Thomas   \n",
            "991    3001     7/12/2022           Janet Lee          Hawaii     Vargasside   \n",
            "994   -2597      9/3/2020     Kristin Delgado      Washington     Andrewport   \n",
            "\n",
            "     Customer Zip Code       Order ID  \n",
            "6                12974  1-4807-1762-2  \n",
            "14               84534  1-230-47174-X  \n",
            "20               67752  1-4940-8694-8  \n",
            "24               68009  1-966180-26-8  \n",
            "28               68104  1-69698-646-X  \n",
            "..                 ...            ...  \n",
            "985              82479  0-913244-73-2  \n",
            "986               8211  1-5093-2669-3  \n",
            "990              91219  1-372-99981-7  \n",
            "991              70233  0-405-24222-0  \n",
            "994              21445  1-125-33353-7  \n",
            "\n",
            "[336 rows x 13 columns]\n"
          ]
        }
      ],
      "source": [
        "# return dataframe\n",
        "print(df[df.Company == \"Pepsi\"])"
      ]
    },
    {
      "cell_type": "code",
      "execution_count": 36,
      "metadata": {
        "colab": {
          "base_uri": "https://localhost:8080/"
        },
        "id": "8h6PPSlK9l5s",
        "outputId": "ac38d14b-8b6f-4ed0-e8b8-fd0683e4b13c"
      },
      "outputs": [
        {
          "name": "stdout",
          "output_type": "stream",
          "text": [
            "    Product     Company    Category  Units Sold  Revenue  Cost of Goods Sold  \\\n",
            "7      Cola  Dr. Pepper  Soft Drink         472     6069                4533   \n",
            "8      Cola   Coca-Cola  Soft Drink         562     9883                7180   \n",
            "14     Cola       Pepsi  Soft Drink         526     3082                7115   \n",
            "15     Cola  Dr. Pepper  Soft Drink         671     5743                4554   \n",
            "33     Cola       Pepsi  Soft Drink         146     5483                5354   \n",
            "..      ...         ...         ...         ...      ...                 ...   \n",
            "964    Cola   Coca-Cola  Soft Drink         614     1893                3652   \n",
            "971    Cola  Dr. Pepper  Soft Drink         705     8543                7778   \n",
            "978    Cola  Dr. Pepper  Soft Drink         519     2451                6994   \n",
            "986    Cola       Pepsi  Soft Drink         222     8110                5614   \n",
            "989    Cola   Coca-Cola  Soft Drink         948     4264                4227   \n",
            "\n",
            "     Profit Purchase Date       Customer Name Customer State  \\\n",
            "7      1536    12/17/2020  Katherine Robinson         Oregon   \n",
            "8      2703    12/21/2021       James Salazar           Iowa   \n",
            "14    -4033     7/29/2020         Jose Murphy       Maryland   \n",
            "15     1189    11/17/2022         Hunter Hall         Nevada   \n",
            "33      129     2/13/2023       Angela Molina       Colorado   \n",
            "..      ...           ...                 ...            ...   \n",
            "964   -1759     6/10/2021        Susan Hebert        Arizona   \n",
            "971     765      5/4/2023          Eric Lewis         Kansas   \n",
            "978   -4543     5/26/2022     Charles Andrews   North Dakota   \n",
            "986    2496      3/7/2022       Kurt Mitchell       Colorado   \n",
            "989      37     2/14/2020         Dustin Reed      Tennessee   \n",
            "\n",
            "         Customer City  Customer Zip Code       Order ID  \n",
            "7           New Teresa              52603  1-86050-751-4  \n",
            "8       New Jessicaton              19798  1-55729-850-5  \n",
            "14       South Amyview              84534  1-230-47174-X  \n",
            "15      North Nicholas               5244  0-320-91549-2  \n",
            "33          Jensenstad              83573  0-243-91336-2  \n",
            "..                 ...                ...            ...  \n",
            "964       North Robert              71649  0-637-23215-1  \n",
            "971     South Johnview              98514  1-01-686938-X  \n",
            "978          Edwinland               6119  0-223-24689-1  \n",
            "986          Tapiafurt               8211  1-5093-2669-3  \n",
            "989  Lake Jessicamouth              63168  0-684-54277-3  \n",
            "\n",
            "[101 rows x 13 columns]\n"
          ]
        }
      ],
      "source": [
        "print(df.loc[df.Product == \"Cola\"])"
      ]
    },
    {
      "cell_type": "code",
      "execution_count": 37,
      "metadata": {
        "colab": {
          "base_uri": "https://localhost:8080/"
        },
        "id": "XmSKmtK39wkr",
        "outputId": "96cc4052-2ab0-4b2b-d422-9ca98cc19a4a"
      },
      "outputs": [
        {
          "name": "stdout",
          "output_type": "stream",
          "text": [
            "['Dr. Pepper' 'Coca-Cola' 'Pepsi']\n"
          ]
        }
      ],
      "source": [
        "print((df.loc[df.Product == \"Cola\"][\"Company\"]).unique())"
      ]
    },
    {
      "cell_type": "code",
      "execution_count": 38,
      "metadata": {
        "colab": {
          "base_uri": "https://localhost:8080/"
        },
        "id": "TP-Z3dl3965j",
        "outputId": "c0587004-8c38-4397-a8f0-e114dda8536e"
      },
      "outputs": [
        {
          "name": "stdout",
          "output_type": "stream",
          "text": [
            "        Company    Category\n",
            "7    Dr. Pepper  Soft Drink\n",
            "8     Coca-Cola  Soft Drink\n",
            "14        Pepsi  Soft Drink\n",
            "15   Dr. Pepper  Soft Drink\n",
            "33        Pepsi  Soft Drink\n",
            "..          ...         ...\n",
            "964   Coca-Cola  Soft Drink\n",
            "971  Dr. Pepper  Soft Drink\n",
            "978  Dr. Pepper  Soft Drink\n",
            "986       Pepsi  Soft Drink\n",
            "989   Coca-Cola  Soft Drink\n",
            "\n",
            "[101 rows x 2 columns]\n"
          ]
        }
      ],
      "source": [
        "print(df.loc[df.Product == \"Cola\"][[\"Company\",\"Category\"]])"
      ]
    },
    {
      "cell_type": "code",
      "execution_count": 39,
      "metadata": {
        "colab": {
          "base_uri": "https://localhost:8080/"
        },
        "id": "-nup6-Va-SVb",
        "outputId": "212c647a-1d4d-4de4-f7c7-a6744e911b53"
      },
      "outputs": [
        {
          "name": "stdout",
          "output_type": "stream",
          "text": [
            "1000\n"
          ]
        }
      ],
      "source": [
        "print(df[\"Units Sold\"].max())"
      ]
    },
    {
      "cell_type": "code",
      "execution_count": 40,
      "metadata": {
        "colab": {
          "base_uri": "https://localhost:8080/"
        },
        "id": "d99qeSg9-Yoa",
        "outputId": "22df1410-476f-4b8d-b6cb-9122c5d16a22"
      },
      "outputs": [
        {
          "name": "stdout",
          "output_type": "stream",
          "text": [
            "      Product  Units Sold\n",
            "41  Black Tea        1000\n"
          ]
        }
      ],
      "source": [
        "print(df[df[\"Units Sold\"] == df[\"Units Sold\"].max()][[\"Product\",\"Units Sold\"]])"
      ]
    },
    {
      "cell_type": "code",
      "execution_count": 41,
      "metadata": {
        "colab": {
          "base_uri": "https://localhost:8080/"
        },
        "id": "a_G3-AWU-xwn",
        "outputId": "42def6ee-2db8-48c9-d077-ea814cba2df9"
      },
      "outputs": [
        {
          "name": "stdout",
          "output_type": "stream",
          "text": [
            "        Product     Company   Category  Units Sold  Revenue  \\\n",
            "153      Coffee   Coca-Cola     Coffee         529     8446   \n",
            "746        Wine  Dr. Pepper  Alcoholic         435     9749   \n",
            "972  Herbal Tea       Pepsi        Tea         198     5753   \n",
            "504        Beer   Coca-Cola  Alcoholic         588     9716   \n",
            "209        Wine  Dr. Pepper  Alcoholic         784     2135   \n",
            "\n",
            "     Cost of Goods Sold  Profit Purchase Date   Customer Name Customer State  \\\n",
            "153                3180    5266     2/23/2022  Judith Coleman          Texas   \n",
            "746                 835    8914     11/9/2022     Sarah Scott         Hawaii   \n",
            "972                3387    2366     7/26/2023   Craig Jackson       Oklahoma   \n",
            "504                2145    7571     8/16/2021     Mindy Foley         Kansas   \n",
            "209                4394   -2259      9/8/2021    Anita Hudson    Mississippi   \n",
            "\n",
            "           Customer City  Customer Zip Code       Order ID  \n",
            "153             Alantown              79550  1-86939-947-1  \n",
            "746    East Bradleyburgh               6110  0-7485-0970-4  \n",
            "972  East Alexandriaport              72907  1-225-62268-9  \n",
            "504           Taylorport              37944  0-401-84274-6  \n",
            "209          Ronaldmouth              19817  0-485-12147-6  \n"
          ]
        }
      ],
      "source": [
        "a = df.sample(5)\n",
        "print(a)"
      ]
    },
    {
      "cell_type": "code",
      "execution_count": 42,
      "metadata": {
        "colab": {
          "base_uri": "https://localhost:8080/"
        },
        "id": "r8stkQOP--sP",
        "outputId": "930a0ee8-0f4a-4ff6-baa6-540a8e5746e5"
      },
      "outputs": [
        {
          "name": "stdout",
          "output_type": "stream",
          "text": [
            "          Product     Company    Category  Units Sold  Revenue  \\\n",
            "229    Herbal Tea   Coca-Cola         Tea         224     5549   \n",
            "51       Lemonade   Coca-Cola  Soft Drink         133     2066   \n",
            "508  Energy Drink       Pepsi  Soft Drink         497     7033   \n",
            "576      Lemonade   Coca-Cola  Soft Drink         126     3781   \n",
            "760  Energy Drink  Dr. Pepper  Soft Drink         563     7301   \n",
            "..            ...         ...         ...         ...      ...   \n",
            "701          Beer  Dr. Pepper   Alcoholic         143     7244   \n",
            "131  Energy Drink   Coca-Cola  Soft Drink         519     9973   \n",
            "282          Wine  Dr. Pepper   Alcoholic         406     4348   \n",
            "424          Wine       Pepsi   Alcoholic         511     8728   \n",
            "749        Coffee  Dr. Pepper      Coffee         181     4687   \n",
            "\n",
            "     Cost of Goods Sold  Profit Purchase Date        Customer Name  \\\n",
            "229                 703    4846      6/2/2022         Bethany Hale   \n",
            "51                 4850   -2784     4/21/2023           Lynn Jones   \n",
            "508                3793    3240     1/24/2022           Erin Eaton   \n",
            "576                5122   -1341     9/12/2022        Rhonda Miller   \n",
            "760                3602    3699     9/24/2020         Henry Wilcox   \n",
            "..                  ...     ...           ...                  ...   \n",
            "701                5952    1292      3/9/2021      Daniel Morrison   \n",
            "131                 844    9129     7/27/2020     Brandon Anderson   \n",
            "282                1978    2370     7/12/2021  Hunter Hernandez MD   \n",
            "424                4511    4217     7/27/2023    Sandra Torres DDS   \n",
            "749                1360    3327     4/13/2020       Hannah Coleman   \n",
            "\n",
            "    Customer State      Customer City  Customer Zip Code       Order ID  \n",
            "229      Tennessee        Matthewfurt              28734  1-63124-884-7  \n",
            "51     Connecticut          Noahmouth              87107  0-8113-5464-4  \n",
            "508         Hawaii    Lake Zacharyton              22732  0-7866-1010-7  \n",
            "576          Texas       Tracyborough              89726  0-398-10465-4  \n",
            "760       Arkansas  North Derrickfurt              21843  1-05-467914-2  \n",
            "..             ...                ...                ...            ...  \n",
            "701       New York  South Anthonytown               5127  1-65107-623-5  \n",
            "131  New Hampshire        Harveyhaven              73095  1-226-73625-4  \n",
            "282       Illinois      Lake Patricia               3783  0-640-11891-7  \n",
            "424         Nevada      East Jonathan              72924  1-367-17955-6  \n",
            "749      Tennessee  Port Jamesborough              89299  0-593-09751-3  \n",
            "\n",
            "[500 rows x 13 columns]\n"
          ]
        }
      ],
      "source": [
        "# 50% from df\n",
        "a = df.sample(frac = 0.5)\n",
        "print(a)"
      ]
    },
    {
      "cell_type": "code",
      "execution_count": 43,
      "metadata": {
        "colab": {
          "base_uri": "https://localhost:8080/"
        },
        "id": "MOQL-_8w_JGH",
        "outputId": "e8e8d8c4-47c3-4645-9ed1-1c395d1323d4"
      },
      "outputs": [
        {
          "name": "stdout",
          "output_type": "stream",
          "text": [
            "          Product     Company    Category  Units Sold  Revenue  \\\n",
            "748          Wine       Pepsi   Alcoholic         263     1508   \n",
            "286     Black Tea   Coca-Cola         Tea         417     2834   \n",
            "176     Black Tea       Pepsi         Tea         259     6997   \n",
            "238     Green Tea  Dr. Pepper         Tea         209     6976   \n",
            "382  Energy Drink       Pepsi  Soft Drink         445     5255   \n",
            "..            ...         ...         ...         ...      ...   \n",
            "300          Wine       Pepsi   Alcoholic         648     9631   \n",
            "772    Herbal Tea       Pepsi         Tea         107     9351   \n",
            "793         Vodka  Dr. Pepper   Alcoholic         301     8541   \n",
            "616  Energy Drink       Pepsi  Soft Drink         154     8417   \n",
            "676     Green Tea       Pepsi         Tea         769     3697   \n",
            "\n",
            "     Cost of Goods Sold  Profit Purchase Date    Customer Name  \\\n",
            "748                3983   -2475      5/7/2020     Edwin Bender   \n",
            "286                2517     317      2/3/2020     James Jordan   \n",
            "176                5274    1723     4/16/2023   Taylor Coleman   \n",
            "238                7508    -532     6/29/2023  Tiffany Wiggins   \n",
            "382                7897   -2642     5/24/2023    Donna Hartman   \n",
            "..                  ...     ...           ...              ...   \n",
            "300                2631    7000    11/15/2022    Elizabeth Cox   \n",
            "772                5688    3663    11/11/2020    Amanda Walker   \n",
            "793                6243    2298      2/5/2023    Steven Walker   \n",
            "616                5724    2693      7/4/2023       Mark Smith   \n",
            "676                6634   -2937      9/4/2022     Sharon Lynch   \n",
            "\n",
            "     Customer State    Customer City  Customer Zip Code       Order ID  \n",
            "748       Tennessee       Lake Wendy               2199  1-60357-438-7  \n",
            "286  South Carolina      Michaelbury              37011  1-371-17159-9  \n",
            "176       Minnesota       Lake David              50027  0-18-233701-4  \n",
            "238      New Mexico    South Jessica              66244  0-8128-0797-9  \n",
            "382         Alabama       New Steven              64321  0-03-196358-7  \n",
            "..              ...              ...                ...            ...  \n",
            "300          Hawaii       Brendastad              31989  0-13-703823-2  \n",
            "772       Minnesota      Brookehaven              20036  1-139-88902-8  \n",
            "793         Florida  South Adammouth              68033  1-01-367454-5  \n",
            "616    Pennsylvania      Marychester              98648  0-308-84539-0  \n",
            "676      New Mexico         New Chad              21045  1-279-65665-4  \n",
            "\n",
            "[500 rows x 13 columns]\n"
          ]
        }
      ],
      "source": [
        "# Include all the databases, but in a different order than before.\n",
        "a = df.sample(frac = 0.5)\n",
        "print(a)"
      ]
    },
    {
      "cell_type": "code",
      "execution_count": 44,
      "metadata": {
        "colab": {
          "base_uri": "https://localhost:8080/"
        },
        "id": "fY1QXtZ7_XAY",
        "outputId": "3e893c59-e787-4260-a9c6-9d81dfa0f566"
      },
      "outputs": [
        {
          "name": "stdout",
          "output_type": "stream",
          "text": [
            "Product\n",
            "Beer          111\n",
            "Vodka         108\n",
            "Wine          107\n",
            "Herbal Tea    104\n",
            "Name: count, dtype: int64\n"
          ]
        }
      ],
      "source": [
        "a = df.Product.value_counts()[:4]\n",
        "print(a)"
      ]
    },
    {
      "cell_type": "code",
      "execution_count": 45,
      "metadata": {
        "colab": {
          "base_uri": "https://localhost:8080/"
        },
        "id": "c_k7Nm9S_j0P",
        "outputId": "a3744ac2-09b2-4c81-a4a8-ad748be97130"
      },
      "outputs": [
        {
          "name": "stdout",
          "output_type": "stream",
          "text": [
            "0          Coffee\n",
            "1          Coffee\n",
            "2            Wine\n",
            "3       Green Tea\n",
            "4           Vodka\n",
            "          ...    \n",
            "994     Black Tea\n",
            "995          Beer\n",
            "996          Wine\n",
            "997         Vodka\n",
            "998    Herbal Tea\n",
            "Name: Product, Length: 999, dtype: object\n"
          ]
        }
      ],
      "source": [
        "a = df[df[\"Units Sold\"] >= 100][\"Product\"]\n",
        "print(a)"
      ]
    },
    {
      "cell_type": "code",
      "execution_count": 46,
      "metadata": {
        "colab": {
          "base_uri": "https://localhost:8080/"
        },
        "id": "prpyx1P2_1DF",
        "outputId": "26ef496f-5040-4b23-bee3-1837a0e4fe7c"
      },
      "outputs": [
        {
          "name": "stdout",
          "output_type": "stream",
          "text": [
            "Product               999\n",
            "Company               999\n",
            "Category              999\n",
            "Units Sold            999\n",
            "Revenue               999\n",
            "Cost of Goods Sold    999\n",
            "Profit                999\n",
            "Purchase Date         999\n",
            "Customer Name         999\n",
            "Customer State        999\n",
            "Customer City         999\n",
            "Customer Zip Code     999\n",
            "Order ID              999\n",
            "dtype: int64\n"
          ]
        }
      ],
      "source": [
        "a = df[df[\"Units Sold\"] >= 100].count()\n",
        "print(a)"
      ]
    },
    {
      "cell_type": "code",
      "execution_count": 47,
      "metadata": {
        "colab": {
          "base_uri": "https://localhost:8080/"
        },
        "id": "uH7D87ctAxGL",
        "outputId": "12ad1699-1cf5-443d-fb0b-b757dcc05e61"
      },
      "outputs": [
        {
          "name": "stdout",
          "output_type": "stream",
          "text": [
            "5524.408408408409\n"
          ]
        }
      ],
      "source": [
        "a = df[df[\"Units Sold\"] >= 1].Revenue.mean()\n",
        "print(a)"
      ]
    },
    {
      "cell_type": "code",
      "execution_count": 48,
      "metadata": {
        "colab": {
          "base_uri": "https://localhost:8080/"
        },
        "id": "dwHvAz7zA9mU",
        "outputId": "216b54b8-04f2-4d99-ef8b-1dee716683a6"
      },
      "outputs": [
        {
          "name": "stdout",
          "output_type": "stream",
          "text": [
            "1\n"
          ]
        }
      ],
      "source": [
        "a = df[df[\"Revenue\"] == df[\"Revenue\"].max()][\"Units Sold\"].value_counts().max()\n",
        "print(a)"
      ]
    },
    {
      "cell_type": "code",
      "execution_count": 49,
      "metadata": {
        "colab": {
          "base_uri": "https://localhost:8080/"
        },
        "id": "zBt3AgqL3Zk8",
        "outputId": "ddc7448b-08cf-4960-a200-911dbffe1483"
      },
      "outputs": [
        {
          "name": "stdout",
          "output_type": "stream",
          "text": [
            "Product\n",
            "Beer            62592\n",
            "Black Tea       45995\n",
            "Coffee          52018\n",
            "Cola            54754\n",
            "Energy Drink    48204\n",
            "Green Tea       53940\n",
            "Herbal Tea      53905\n",
            "Lemonade        42457\n",
            "Vodka           55717\n",
            "Wine            57383\n",
            "Name: Units Sold, dtype: int64\n"
          ]
        }
      ],
      "source": [
        "a = df.groupby('Product').sum()[\"Units Sold\"]\n",
        "print(a)"
      ]
    },
    {
      "cell_type": "code",
      "execution_count": 50,
      "metadata": {
        "colab": {
          "base_uri": "https://localhost:8080/"
        },
        "id": "5MBqahD04E2g",
        "outputId": "8a7afc39-0527-4cd3-f5f0-f77a249d3965"
      },
      "outputs": [
        {
          "name": "stdout",
          "output_type": "stream",
          "text": [
            "Category\n",
            "Alcoholic     9978\n",
            "Coffee        9909\n",
            "Soft Drink    9984\n",
            "Tea           9991\n",
            "Name: Revenue, dtype: int64\n"
          ]
        }
      ],
      "source": [
        "a = df.groupby('Category').max()[\"Revenue\"]\n",
        "print(a)"
      ]
    },
    {
      "cell_type": "code",
      "execution_count": 51,
      "metadata": {
        "colab": {
          "base_uri": "https://localhost:8080/"
        },
        "id": "LFA4oJCf4yIW",
        "outputId": "3ee457f1-bf9b-4e23-aafd-77a1d43dfbac"
      },
      "outputs": [
        {
          "name": "stdout",
          "output_type": "stream",
          "text": [
            "Product       Category  \n",
            "Beer          Alcoholic     618460\n",
            "Black Tea     Tea           531806\n",
            "Coffee        Coffee        551226\n",
            "Cola          Soft Drink    551112\n",
            "Energy Drink  Soft Drink    518466\n",
            "Green Tea     Tea           541745\n",
            "Herbal Tea    Tea           567167\n",
            "Lemonade      Soft Drink    430372\n",
            "Vodka         Alcoholic     617266\n",
            "Wine          Alcoholic     591264\n",
            "Name: Revenue, dtype: int64\n"
          ]
        }
      ],
      "source": [
        "a = df.groupby(['Product','Category']).sum()[\"Revenue\"]\n",
        "print(a)"
      ]
    },
    {
      "cell_type": "code",
      "execution_count": 52,
      "metadata": {
        "colab": {
          "base_uri": "https://localhost:8080/"
        },
        "id": "ndPkzIDI4-al",
        "outputId": "b20d8277-a6f8-4e9a-e227-fd7b566ca76c"
      },
      "outputs": [
        {
          "name": "stdout",
          "output_type": "stream",
          "text": [
            "0    618460\n",
            "1    531806\n",
            "2    551226\n",
            "3    551112\n",
            "4    518466\n",
            "5    541745\n",
            "6    567167\n",
            "7    430372\n",
            "8    617266\n",
            "9    591264\n",
            "Name: Revenue, dtype: int64\n"
          ]
        }
      ],
      "source": [
        "a = df.groupby(['Product','Category'],as_index = False).sum()[\"Revenue\"]\n",
        "print(a)"
      ]
    },
    {
      "cell_type": "code",
      "execution_count": 53,
      "metadata": {
        "colab": {
          "base_uri": "https://localhost:8080/"
        },
        "id": "fRgrbF0I5PFj",
        "outputId": "06bffe48-31b5-4d72-d802-47e51365e19c"
      },
      "outputs": [
        {
          "name": "stdout",
          "output_type": "stream",
          "text": [
            "                            sum   max   min\n",
            "Product      Category                      \n",
            "Beer         Alcoholic   618460  9942  1078\n",
            "Black Tea    Tea         531806  9895  1270\n",
            "Coffee       Coffee      551226  9909  1047\n",
            "Cola         Soft Drink  551112  9984  1153\n",
            "Energy Drink Soft Drink  518466  9973  1314\n",
            "Green Tea    Tea         541745  9991  1321\n",
            "Herbal Tea   Tea         567167  9958  1001\n",
            "Lemonade     Soft Drink  430372  9886  1010\n",
            "Vodka        Alcoholic   617266  9827  1024\n",
            "Wine         Alcoholic   591264  9978  1016\n"
          ]
        }
      ],
      "source": [
        "a = df.groupby(['Product','Category']).agg(['sum', 'max','min'])[\"Revenue\"]\n",
        "print(a)"
      ]
    },
    {
      "cell_type": "code",
      "execution_count": 54,
      "metadata": {
        "colab": {
          "base_uri": "https://localhost:8080/"
        },
        "id": "oVKJIE5hNt88",
        "outputId": "44d2dfd1-cdb2-43cb-a812-359ce3f7cdc6"
      },
      "outputs": [
        {
          "name": "stdout",
          "output_type": "stream",
          "text": [
            "\n",
            "     Profit Profit-status\n",
            "0     -2815           bad\n",
            "14    -4033           bad\n",
            "32    -4358           bad\n",
            "37    -5308           bad\n",
            "38    -2962           bad\n",
            "..      ...           ...\n",
            "951   -3594           bad\n",
            "960   -6058           bad\n",
            "978   -4543           bad\n",
            "979   -2866           bad\n",
            "980   -4639           bad\n",
            "\n",
            "[120 rows x 2 columns]\n",
            "\n",
            "     Profit Profit-status\n",
            "1       464        normal\n",
            "3       695        normal\n",
            "4      1100        normal\n",
            "5        89        normal\n",
            "6       443        normal\n",
            "..      ...           ...\n",
            "992     536        normal\n",
            "993    1278        normal\n",
            "994   -2597        normal\n",
            "995    -814        normal\n",
            "996   -2560        normal\n",
            "\n",
            "[376 rows x 2 columns]\n",
            "\n",
            "     Profit Profit-status\n",
            "7      1536          good\n",
            "8      2703          good\n",
            "13     2598          good\n",
            "17     2621          good\n",
            "18     5075          good\n",
            "..      ...           ...\n",
            "984    1704          good\n",
            "986    2496          good\n",
            "991    3001          good\n",
            "997    3972          good\n",
            "998    5160          good\n",
            "\n",
            "[360 rows x 2 columns]\n",
            "\n",
            "     Profit Profit-status\n",
            "2      8948     very good\n",
            "9      6908     very good\n",
            "21     6103     very good\n",
            "27     6409     very good\n",
            "36     6815     very good\n",
            "..      ...           ...\n",
            "952    7071     very good\n",
            "965    8567     very good\n",
            "970    5626     very good\n",
            "975    8090     very good\n",
            "988    6004     very good\n",
            "\n",
            "[143 rows x 2 columns]\n"
          ]
        }
      ],
      "source": [
        "# If a column with this name exists, its values are updated; otherwise, a new column is created.\n",
        "\n",
        "df['Profit-status'] = pd.cut(df.Profit.sort_values(), labels = ['bad' , 'normal', 'good','very good'],bins = 4)\n",
        "print()\n",
        "\n",
        "bad = df[df[\"Profit-status\"] == \"bad\"][[\"Profit\",\"Profit-status\"]]\n",
        "print(bad)\n",
        "print()\n",
        "\n",
        "normal = df[df[\"Profit-status\"] == \"normal\"][[\"Profit\",\"Profit-status\"]]\n",
        "print(normal)\n",
        "print()\n",
        "\n",
        "good = df[df[\"Profit-status\"] == \"good\"][[\"Profit\",\"Profit-status\"]]\n",
        "print(good)\n",
        "print()\n",
        "\n",
        "veryGood = df[df[\"Profit-status\"] == \"very good\"][[\"Profit\",\"Profit-status\"]]\n",
        "print(veryGood)\n"
      ]
    },
    {
      "cell_type": "code",
      "execution_count": 55,
      "metadata": {
        "colab": {
          "base_uri": "https://localhost:8080/"
        },
        "id": "FZZQqCOUPsRt",
        "outputId": "3e511230-1a44-445b-a9bb-0d49a29c3dd0"
      },
      "outputs": [
        {
          "name": "stdout",
          "output_type": "stream",
          "text": [
            "\n",
            "     Profit Profit-status\n",
            "0     -2815           bad\n",
            "11    -2437           bad\n",
            "12     -439           bad\n",
            "14    -4033           bad\n",
            "19    -2610           bad\n",
            "..      ...           ...\n",
            "980   -4639           bad\n",
            "981   -2069           bad\n",
            "994   -2597           bad\n",
            "995    -814           bad\n",
            "996   -2560           bad\n",
            "\n",
            "[329 rows x 2 columns]\n",
            "\n",
            "     Profit Profit-status\n",
            "1       464          good\n",
            "3       695          good\n",
            "5        89          good\n",
            "6       443          good\n",
            "10      630          good\n",
            "..      ...           ...\n",
            "971     765          good\n",
            "987     806          good\n",
            "989      37          good\n",
            "990     582          good\n",
            "992     536          good\n",
            "\n",
            "[124 rows x 2 columns]\n",
            "\n",
            "     Profit Profit-status\n",
            "4      1100        normal\n",
            "7      1536        normal\n",
            "15     1189        normal\n",
            "20     1365        normal\n",
            "25     1662        normal\n",
            "..      ...           ...\n",
            "942    1205        normal\n",
            "953    1106        normal\n",
            "984    1704        normal\n",
            "985    1273        normal\n",
            "993    1278        normal\n",
            "\n",
            "[119 rows x 2 columns]\n",
            "\n",
            "     Profit Profit-status\n",
            "2      8948     very good\n",
            "8      2703     very good\n",
            "9      6908     very good\n",
            "13     2598     very good\n",
            "17     2621     very good\n",
            "..      ...           ...\n",
            "986    2496     very good\n",
            "988    6004     very good\n",
            "991    3001     very good\n",
            "997    3972     very good\n",
            "998    5160     very good\n",
            "\n",
            "[427 rows x 2 columns]\n"
          ]
        }
      ],
      "source": [
        "df['Profit-status'] = pd.cut(df.Profit.sort_values(),\n",
        "                             labels = ['bad' , 'good', 'normal','very good'],\n",
        "                             bins = [-float(\"inf\"), 0 , 1000, 2000,float(\"inf\") ])\n",
        "print()\n",
        "\n",
        "bad = df[df[\"Profit-status\"] == \"bad\"][[\"Profit\",\"Profit-status\"]]\n",
        "print(bad)\n",
        "print()\n",
        "\n",
        "good = df[df[\"Profit-status\"] == \"good\"][[\"Profit\",\"Profit-status\"]]\n",
        "print(good)\n",
        "print()\n",
        "\n",
        "normal = df[df[\"Profit-status\"] == \"normal\"][[\"Profit\",\"Profit-status\"]]\n",
        "print(normal)\n",
        "print()\n",
        "\n",
        "veryGood = df[df[\"Profit-status\"] == \"very good\"][[\"Profit\",\"Profit-status\"]]\n",
        "print(veryGood)"
      ]
    },
    {
      "cell_type": "code",
      "execution_count": 56,
      "metadata": {
        "colab": {
          "base_uri": "https://localhost:8080/"
        },
        "id": "MTFnKWV1RaNY",
        "outputId": "af1f5574-d3d8-435b-b1eb-3b717d1ed611"
      },
      "outputs": [
        {
          "name": "stdout",
          "output_type": "stream",
          "text": [
            "     index  Profit Profit_Status\n",
            "0      452   -6828           Bad\n",
            "1      564   -6719           Bad\n",
            "2      658   -6534           Bad\n",
            "3      595   -6397           Bad\n",
            "4      662   -6387           Bad\n",
            "..     ...     ...           ...\n",
            "994      2    8948     Very Good\n",
            "995    932    9038     Very Good\n",
            "996    470    9114     Very Good\n",
            "997    131    9129     Very Good\n",
            "998    798    9391     Very Good\n",
            "\n",
            "[999 rows x 3 columns]\n",
            "\n"
          ]
        }
      ],
      "source": [
        "def checkProfit(profit):\n",
        "  if profit <= 0:\n",
        "    ret = \"Bad\"\n",
        "  elif profit > 0 and profit <= 1000:\n",
        "    ret = \"Good\"\n",
        "  elif profit > 1000 and profit <= 3000:\n",
        "    ret = \"Normal\"\n",
        "  else:\n",
        "    ret = \"Very Good\"\n",
        "  return ret\n",
        "\n",
        "df[\"Profit_Status\"] = df.Profit.apply(checkProfit)\n",
        "\n",
        "a = df[[\"Profit\",\"Profit_Status\"]].sort_values(by = \"Profit\").reset_index()\n",
        "print(a)\n",
        "print()\n"
      ]
    },
    {
      "cell_type": "code",
      "execution_count": 63,
      "metadata": {
        "colab": {
          "base_uri": "https://localhost:8080/",
          "height": 632
        },
        "id": "yWCz9kS4dgPT",
        "outputId": "3377888c-32bf-4734-cf97-7ffbb9c80e93"
      },
      "outputs": [
        {
          "name": "stdout",
          "output_type": "stream",
          "text": [
            "Axes(0.125,0.11;0.775x0.77)\n"
          ]
        },
        {
          "data": {
            "image/png": "[encoded data removed]",
            "text/plain": [
              "<Figure size 640x480 with 1 Axes>"
            ]
          },
          "metadata": {},
          "output_type": "display_data"
        }
      ],
      "source": [
        "a = df.groupby(['Product','Category']).agg(['max'])[\"Revenue\"].plot(kind=\"bar\")\n",
        "print(a)"
      ]
    },
    {
      "cell_type": "code",
      "execution_count": 64,
      "metadata": {
        "colab": {
          "base_uri": "https://localhost:8080/",
          "height": 470
        },
        "id": "NaqjdxePQoFa",
        "outputId": "e474a657-5da8-4935-9c76-018667beefe0"
      },
      "outputs": [
        {
          "name": "stdout",
          "output_type": "stream",
          "text": [
            "[[<Axes: title={'center': 'max'}>]]\n"
          ]
        },
        {
          "data": {
            "image/png": "[encoded data removed]",
            "text/plain": [
              "<Figure size 640x480 with 1 Axes>"
            ]
          },
          "metadata": {},
          "output_type": "display_data"
        }
      ],
      "source": [
        "a = df.groupby(['Product','Category']).agg(['max'])[\"Revenue\"].hist()\n",
        "print(a)"
      ]
    },
    {
      "cell_type": "code",
      "execution_count": null,
      "metadata": {
        "id": "U94vgxtKd7BB"
      },
      "outputs": [],
      "source": []
    }
  ],
  "metadata": {
    "colab": {
      "provenance": []
    },
    "kernelspec": {
      "display_name": "Python 3",
      "name": "python3"
    },
    "language_info": {
      "codemirror_mode": {
        "name": "ipython",
        "version": 3
      },
      "file_extension": ".py",
      "mimetype": "text/x-python",
      "name": "python",
      "nbconvert_exporter": "python",
      "pygments_lexer": "ipython3",
      "version": "3.12.5"
    }
  },
  "nbformat": 4,
  "nbformat_minor": 0
}
