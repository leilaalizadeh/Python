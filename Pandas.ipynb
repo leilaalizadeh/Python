{
  "cells": [
    {
      "cell_type": "code",
      "execution_count": 1,
      "metadata": {
        "id": "9gaDVsPRyhb6"
      },
      "outputs": [],
      "source": [
        "import pandas as pd"
      ]
    },
    {
      "cell_type": "code",
      "execution_count": 3,
      "metadata": {
        "id": "V6GNtBYBynuw"
      },
      "outputs": [],
      "source": [
        "df = pd.read_csv('/files/sales.csv')\n",
        "#second param\n",
        "# skiprows = 5 not read the fifth first rows\n",
        "# nrows = 10 just read first 10  rows\n",
        "# skip_blank_rows = True\n",
        "# error_bad_lines = True\n",
        "# warn_bad_lines = True\n"
      ]
    },
    {
      "cell_type": "code",
      "execution_count": 4,
      "metadata": {
        "colab": {
          "base_uri": "https://localhost:8080/"
        },
        "id": "c6IV80bXzdwl",
        "outputId": "7d935b51-aac6-4796-d851-c416331ab223"
      },
      "outputs": [
        {
          "name": "stdout",
          "output_type": "stream",
          "text": [
            "     Product     Company   Category  Units Sold  Revenue  Cost of Goods Sold  \\\n",
            "0     Coffee   Coca-Cola     Coffee         151     2141                4956   \n",
            "1     Coffee   Coca-Cola     Coffee         624     1620                1156   \n",
            "2       Wine   Coca-Cola  Alcoholic         853     9978                1030   \n",
            "3  Green Tea  Dr. Pepper        Tea         962     5974                5279   \n",
            "4      Vodka  Dr. Pepper  Alcoholic         719     3928                2828   \n",
            "\n",
            "   Profit Purchase Date    Customer Name Customer State      Customer City  \\\n",
            "0   -2815    2020-07-04    Angela Wilson     California  East Danielleview   \n",
            "1     464    2021-04-09  Zachary Wheeler      Wisconsin  New Kimberlyshire   \n",
            "2    8948    2022-03-10    Jeremy Arroyo  Massachusetts        Vickieshire   \n",
            "3     695    2023-05-10   Andrew Fleming        Arizona         Albertberg   \n",
            "4    1100    2020-11-19   Caroline Smith        Indiana        Johnsonstad   \n",
            "\n",
            "   Customer Zip Code       Order ID  \n",
            "0              35273  1-143-51064-X  \n",
            "1              55509  1-163-25655-2  \n",
            "2              93236  0-345-30366-0  \n",
            "3              34895  1-4844-8219-0  \n",
            "4              90201  1-85816-387-0  \n"
          ]
        }
      ],
      "source": [
        "#first 5 rows\n",
        "a = df.head()\n",
        "print(a)"
      ]
    },
    {
      "cell_type": "code",
      "execution_count": 6,
      "metadata": {
        "colab": {
          "base_uri": "https://localhost:8080/"
        },
        "id": "kb61s_z0zlts",
        "outputId": "a4c4ffe5-95fb-494d-a700-33270de1b1fe"
      },
      "outputs": [
        {
          "name": "stdout",
          "output_type": "stream",
          "text": [
            "  Product    Company Category  Units Sold  Revenue  Cost of Goods Sold  \\\n",
            "0  Coffee  Coca-Cola   Coffee         151     2141                4956   \n",
            "1  Coffee  Coca-Cola   Coffee         624     1620                1156   \n",
            "\n",
            "   Profit Purchase Date    Customer Name Customer State      Customer City  \\\n",
            "0   -2815    2020-07-04    Angela Wilson     California  East Danielleview   \n",
            "1     464    2021-04-09  Zachary Wheeler      Wisconsin  New Kimberlyshire   \n",
            "\n",
            "   Customer Zip Code       Order ID  \n",
            "0              35273  1-143-51064-X  \n",
            "1              55509  1-163-25655-2  \n"
          ]
        }
      ],
      "source": [
        "#first n rows\n",
        "a = df.head(2)\n",
        "print(a)"
      ]
    },
    {
      "cell_type": "code",
      "execution_count": 7,
      "metadata": {
        "colab": {
          "base_uri": "https://localhost:8080/"
        },
        "id": "4JH1nt0uzy2r",
        "outputId": "6f457575-9f6e-4780-b927-1a62016fa943"
      },
      "outputs": [
        {
          "name": "stdout",
          "output_type": "stream",
          "text": [
            "           Product     Company    Category  Units Sold  Revenue  \\\n",
            "9995          Wine  Dr. Pepper   Alcoholic         337     6676   \n",
            "9996     Green Tea   Coca-Cola         Tea         745     1096   \n",
            "9997  Energy Drink       Pepsi  Soft Drink         728     4703   \n",
            "9998          Cola   Coca-Cola  Soft Drink         142     3655   \n",
            "9999      Lemonade   Coca-Cola  Soft Drink         703     7202   \n",
            "\n",
            "      Cost of Goods Sold  Profit Purchase Date      Customer Name  \\\n",
            "9995                1932    4744    2020-02-15        Kyle Morris   \n",
            "9996                1603    -507    2023-02-02  Jacqueline Mendez   \n",
            "9997                5135    -432    2020-01-14    Taylor Robinson   \n",
            "9998                6436   -2781    2022-10-28    Sierra Morrison   \n",
            "9999                5593    1609    2021-10-09      Joanna Mendez   \n",
            "\n",
            "     Customer State      Customer City  Customer Zip Code       Order ID  \n",
            "9995     New Mexico        Heatherbury              80789  0-7733-9949-6  \n",
            "9996      Tennessee      South Charles              42497  0-13-801494-9  \n",
            "9997       Virginia  West Susanchester              13202  1-893420-14-0  \n",
            "9998        Montana          Perezfort              66758  1-5413-2685-7  \n",
            "9999           Utah           Leonbury              64499  0-03-548200-1  \n"
          ]
        }
      ],
      "source": [
        "# last 5 rows\n",
        "a = df .tail()\n",
        "print(a)"
      ]
    },
    {
      "cell_type": "code",
      "execution_count": 8,
      "metadata": {
        "colab": {
          "base_uri": "https://localhost:8080/"
        },
        "id": "ujpEBzlPz7Wr",
        "outputId": "df9487cb-96d8-4cc9-9f72-c385f9b3c35b"
      },
      "outputs": [
        {
          "name": "stdout",
          "output_type": "stream",
          "text": [
            "       Product    Company    Category  Units Sold  Revenue  \\\n",
            "9999  Lemonade  Coca-Cola  Soft Drink         703     7202   \n",
            "\n",
            "      Cost of Goods Sold  Profit Purchase Date  Customer Name Customer State  \\\n",
            "9999                5593    1609    2021-10-09  Joanna Mendez           Utah   \n",
            "\n",
            "     Customer City  Customer Zip Code       Order ID  \n",
            "9999      Leonbury              64499  0-03-548200-1  \n"
          ]
        }
      ],
      "source": [
        "# last n rows\n",
        "a = df .tail(1)\n",
        "print(a)"
      ]
    },
    {
      "cell_type": "code",
      "execution_count": null,
      "metadata": {
        "id": "c2Qm5_4FzZbr"
      },
      "outputs": [],
      "source": [
        "# numpy -> ndarray\n",
        "# pandas -> series(one column), dataframe (more than one column)"
      ]
    },
    {
      "cell_type": "code",
      "execution_count": 10,
      "metadata": {
        "colab": {
          "base_uri": "https://localhost:8080/"
        },
        "id": "4KtSjKSS54DK",
        "outputId": "e0afacc3-4bfb-4f1c-d49b-5829ad209f70"
      },
      "outputs": [
        {
          "name": "stdout",
          "output_type": "stream",
          "text": [
            "0             Coffee\n",
            "1             Coffee\n",
            "2               Wine\n",
            "3          Green Tea\n",
            "4              Vodka\n",
            "            ...     \n",
            "9995            Wine\n",
            "9996       Green Tea\n",
            "9997    Energy Drink\n",
            "9998            Cola\n",
            "9999        Lemonade\n",
            "Name: Product, Length: 10000, dtype: object\n"
          ]
        }
      ],
      "source": [
        "product = df[\"Product\"]\n",
        "print(product)"
      ]
    },
    {
      "cell_type": "code",
      "execution_count": 11,
      "metadata": {
        "colab": {
          "base_uri": "https://localhost:8080/"
        },
        "id": "zrsTZuFO6G3H",
        "outputId": "89fad405-aa4e-4771-9eef-b10aca041aa5"
      },
      "outputs": [
        {
          "name": "stdout",
          "output_type": "stream",
          "text": [
            "0             Coffee\n",
            "1             Coffee\n",
            "2               Wine\n",
            "3          Green Tea\n",
            "4              Vodka\n",
            "            ...     \n",
            "9995            Wine\n",
            "9996       Green Tea\n",
            "9997    Energy Drink\n",
            "9998            Cola\n",
            "9999        Lemonade\n",
            "Name: Product, Length: 10000, dtype: object\n"
          ]
        }
      ],
      "source": [
        "product = df.Product\n",
        "print(product)"
      ]
    },
    {
      "cell_type": "code",
      "execution_count": 14,
      "metadata": {
        "colab": {
          "base_uri": "https://localhost:8080/"
        },
        "id": "D8bfrWb16KBW",
        "outputId": "90bbf356-b550-4bb8-fbe7-6faf6cb970d3"
      },
      "outputs": [
        {
          "name": "stdout",
          "output_type": "stream",
          "text": [
            "<class 'pandas.core.frame.DataFrame'>\n"
          ]
        }
      ],
      "source": [
        "a = type(df)\n",
        "print(a)"
      ]
    },
    {
      "cell_type": "code",
      "execution_count": 15,
      "metadata": {
        "colab": {
          "base_uri": "https://localhost:8080/"
        },
        "id": "BhtE800w6RjW",
        "outputId": "0b807f00-54bd-4530-e67b-e53f7584e198"
      },
      "outputs": [
        {
          "name": "stdout",
          "output_type": "stream",
          "text": [
            "         Units Sold       Revenue  Cost of Goods Sold        Profit  \\\n",
            "count  10000.000000  10000.000000        10000.000000  10000.000000   \n",
            "mean     547.162400   5507.824100         4244.766500   1263.057600   \n",
            "std      260.392451   2591.286638         2158.872391   3344.636747   \n",
            "min      100.000000   1000.000000          500.000000  -6961.000000   \n",
            "25%      323.000000   3283.250000         2380.500000  -1177.250000   \n",
            "50%      541.000000   5517.000000         4268.000000   1243.500000   \n",
            "75%      772.250000   7757.500000         6095.000000   3659.000000   \n",
            "max     1000.000000   9999.000000         8000.000000   9461.000000   \n",
            "\n",
            "       Customer Zip Code  \n",
            "count       10000.000000  \n",
            "mean        50240.881500  \n",
            "std         30165.679293  \n",
            "min          1008.000000  \n",
            "25%         24303.250000  \n",
            "50%         50993.000000  \n",
            "75%         77537.750000  \n",
            "max         99950.000000  \n"
          ]
        }
      ],
      "source": [
        "a = df.describe()\n",
        "print(a)"
      ]
    },
    {
      "cell_type": "code",
      "execution_count": 16,
      "metadata": {
        "colab": {
          "base_uri": "https://localhost:8080/"
        },
        "id": "hLEsRQbp6m8t",
        "outputId": "c22319c7-ba1e-434a-dacb-412cc6a33476"
      },
      "outputs": [
        {
          "name": "stdout",
          "output_type": "stream",
          "text": [
            "                      count        mean           std     min       25%  \\\n",
            "Units Sold          10000.0    547.1624    260.392451   100.0    323.00   \n",
            "Revenue             10000.0   5507.8241   2591.286638  1000.0   3283.25   \n",
            "Cost of Goods Sold  10000.0   4244.7665   2158.872391   500.0   2380.50   \n",
            "Profit              10000.0   1263.0576   3344.636747 -6961.0  -1177.25   \n",
            "Customer Zip Code   10000.0  50240.8815  30165.679293  1008.0  24303.25   \n",
            "\n",
            "                        50%       75%      max  \n",
            "Units Sold            541.0    772.25   1000.0  \n",
            "Revenue              5517.0   7757.50   9999.0  \n",
            "Cost of Goods Sold   4268.0   6095.00   8000.0  \n",
            "Profit               1243.5   3659.00   9461.0  \n",
            "Customer Zip Code   50993.0  77537.75  99950.0  \n"
          ]
        }
      ],
      "source": [
        "a = df.describe().T\n",
        "print(a)"
      ]
    },
    {
      "cell_type": "code",
      "execution_count": 17,
      "metadata": {
        "colab": {
          "base_uri": "https://localhost:8080/"
        },
        "id": "fH7RR5fY6u08",
        "outputId": "ca3f17c4-c6a8-4d84-cbcf-8ea5c7b4c3ba"
      },
      "outputs": [
        {
          "name": "stdout",
          "output_type": "stream",
          "text": [
            "<bound method DataFrame.info of            Product     Company    Category  Units Sold  Revenue  \\\n",
            "0           Coffee   Coca-Cola      Coffee         151     2141   \n",
            "1           Coffee   Coca-Cola      Coffee         624     1620   \n",
            "2             Wine   Coca-Cola   Alcoholic         853     9978   \n",
            "3        Green Tea  Dr. Pepper         Tea         962     5974   \n",
            "4            Vodka  Dr. Pepper   Alcoholic         719     3928   \n",
            "...            ...         ...         ...         ...      ...   \n",
            "9995          Wine  Dr. Pepper   Alcoholic         337     6676   \n",
            "9996     Green Tea   Coca-Cola         Tea         745     1096   \n",
            "9997  Energy Drink       Pepsi  Soft Drink         728     4703   \n",
            "9998          Cola   Coca-Cola  Soft Drink         142     3655   \n",
            "9999      Lemonade   Coca-Cola  Soft Drink         703     7202   \n",
            "\n",
            "      Cost of Goods Sold  Profit Purchase Date      Customer Name  \\\n",
            "0                   4956   -2815    2020-07-04      Angela Wilson   \n",
            "1                   1156     464    2021-04-09    Zachary Wheeler   \n",
            "2                   1030    8948    2022-03-10      Jeremy Arroyo   \n",
            "3                   5279     695    2023-05-10     Andrew Fleming   \n",
            "4                   2828    1100    2020-11-19     Caroline Smith   \n",
            "...                  ...     ...           ...                ...   \n",
            "9995                1932    4744    2020-02-15        Kyle Morris   \n",
            "9996                1603    -507    2023-02-02  Jacqueline Mendez   \n",
            "9997                5135    -432    2020-01-14    Taylor Robinson   \n",
            "9998                6436   -2781    2022-10-28    Sierra Morrison   \n",
            "9999                5593    1609    2021-10-09      Joanna Mendez   \n",
            "\n",
            "     Customer State      Customer City  Customer Zip Code       Order ID  \n",
            "0        California  East Danielleview              35273  1-143-51064-X  \n",
            "1         Wisconsin  New Kimberlyshire              55509  1-163-25655-2  \n",
            "2     Massachusetts        Vickieshire              93236  0-345-30366-0  \n",
            "3           Arizona         Albertberg              34895  1-4844-8219-0  \n",
            "4           Indiana        Johnsonstad              90201  1-85816-387-0  \n",
            "...             ...                ...                ...            ...  \n",
            "9995     New Mexico        Heatherbury              80789  0-7733-9949-6  \n",
            "9996      Tennessee      South Charles              42497  0-13-801494-9  \n",
            "9997       Virginia  West Susanchester              13202  1-893420-14-0  \n",
            "9998        Montana          Perezfort              66758  1-5413-2685-7  \n",
            "9999           Utah           Leonbury              64499  0-03-548200-1  \n",
            "\n",
            "[10000 rows x 13 columns]>\n"
          ]
        }
      ],
      "source": [
        "a = df.info\n",
        "print(a)"
      ]
    },
    {
      "cell_type": "code",
      "execution_count": 18,
      "metadata": {
        "colab": {
          "base_uri": "https://localhost:8080/"
        },
        "id": "29Y21BzY6zHM",
        "outputId": "2dee6397-de7a-48c1-fefa-2ee0e0eba1cb"
      },
      "outputs": [
        {
          "name": "stdout",
          "output_type": "stream",
          "text": [
            "Index(['Product', 'Company', 'Category', 'Units Sold', 'Revenue',\n",
            "       'Cost of Goods Sold', 'Profit', 'Purchase Date', 'Customer Name',\n",
            "       'Customer State', 'Customer City', 'Customer Zip Code', 'Order ID'],\n",
            "      dtype='object')\n"
          ]
        }
      ],
      "source": [
        "a = df.columns\n",
        "print(a)"
      ]
    },
    {
      "cell_type": "code",
      "execution_count": 21,
      "metadata": {
        "colab": {
          "base_uri": "https://localhost:8080/"
        },
        "id": "eNuuUZ1o6-T-",
        "outputId": "c07966a8-e25f-4e7c-b264-03075e29d0b5"
      },
      "outputs": [
        {
          "name": "stdout",
          "output_type": "stream",
          "text": [
            "Product\n",
            "Herbal Tea      1043\n",
            "Wine            1036\n",
            "Green Tea       1016\n",
            "Coffee          1014\n",
            "Beer            1009\n",
            "Vodka           1000\n",
            "Cola             992\n",
            "Lemonade         989\n",
            "Energy Drink     966\n",
            "Black Tea        935\n",
            "Name: count, dtype: int64\n"
          ]
        }
      ],
      "source": [
        "a = df.Product.value_counts()\n",
        "print(a)"
      ]
    },
    {
      "cell_type": "code",
      "execution_count": 22,
      "metadata": {
        "colab": {
          "base_uri": "https://localhost:8080/"
        },
        "id": "cqPvfOef7OFT",
        "outputId": "1d1189c3-57a9-45c8-ff4d-236b92cd62fa"
      },
      "outputs": [
        {
          "name": "stdout",
          "output_type": "stream",
          "text": [
            "Product                  10\n",
            "Company                   3\n",
            "Category                  4\n",
            "Units Sold              901\n",
            "Revenue                6042\n",
            "Cost of Goods Sold     5495\n",
            "Profit                 6956\n",
            "Purchase Date          1306\n",
            "Customer Name          9335\n",
            "Customer State           50\n",
            "Customer City          7769\n",
            "Customer Zip Code      8789\n",
            "Order ID              10000\n",
            "dtype: int64\n"
          ]
        }
      ],
      "source": [
        "a = df.nunique()\n",
        "print(a)"
      ]
    },
    {
      "cell_type": "code",
      "execution_count": 23,
      "metadata": {
        "colab": {
          "base_uri": "https://localhost:8080/"
        },
        "id": "eC7CrfGp7aFT",
        "outputId": "198935c6-fd06-4066-ae96-e42dc2ad4ddf"
      },
      "outputs": [
        {
          "name": "stdout",
          "output_type": "stream",
          "text": [
            "['Coffee' 'Wine' 'Green Tea' 'Vodka' 'Lemonade' 'Cola' 'Energy Drink'\n",
            " 'Herbal Tea' 'Beer' 'Black Tea']\n"
          ]
        }
      ],
      "source": [
        "a = df.Product.unique()\n",
        "print(a)"
      ]
    },
    {
      "cell_type": "code",
      "execution_count": 24,
      "metadata": {
        "colab": {
          "base_uri": "https://localhost:8080/"
        },
        "id": "bBLYaqO57hxK",
        "outputId": "faadf8a6-ebce-47d0-9625-c7269cebd6b1"
      },
      "outputs": [
        {
          "name": "stdout",
          "output_type": "stream",
          "text": [
            "10\n"
          ]
        }
      ],
      "source": [
        "a = len(df.Product.unique())\n",
        "print(a)"
      ]
    },
    {
      "cell_type": "code",
      "execution_count": 25,
      "metadata": {
        "colab": {
          "base_uri": "https://localhost:8080/"
        },
        "id": "DvGofMSA7oK6",
        "outputId": "51263128-8e1d-436d-cd9f-9ee9ad10cdc7"
      },
      "outputs": [
        {
          "name": "stdout",
          "output_type": "stream",
          "text": [
            "['Product', 'Company', 'Category', 'Units Sold', 'Revenue', 'Cost of Goods Sold', 'Profit', 'Purchase Date', 'Customer Name', 'Customer State', 'Customer City', 'Customer Zip Code', 'Order ID']\n"
          ]
        }
      ],
      "source": [
        "a = list(df.columns)\n",
        "print(a)"
      ]
    },
    {
      "cell_type": "code",
      "execution_count": 26,
      "metadata": {
        "colab": {
          "base_uri": "https://localhost:8080/"
        },
        "id": "llgTLW1n76hp",
        "outputId": "8dd2020a-7759-4d49-91ec-b7bbb7dfbb13"
      },
      "outputs": [
        {
          "name": "stdout",
          "output_type": "stream",
          "text": [
            "['Coca-Cola' 'Coca-Cola' 'Coca-Cola' ... 'Pepsi' 'Coca-Cola' 'Coca-Cola']\n"
          ]
        }
      ],
      "source": [
        "a = df.Company.values\n",
        "print(a)"
      ]
    },
    {
      "cell_type": "code",
      "execution_count": 28,
      "metadata": {
        "colab": {
          "base_uri": "https://localhost:8080/"
        },
        "id": "VlQEyqnO8yA2",
        "outputId": "73e604ee-e3c4-40dc-8203-fd4cfa687b08"
      },
      "outputs": [
        {
          "name": "stdout",
          "output_type": "stream",
          "text": [
            "           Product     Company\n",
            "0           Coffee   Coca-Cola\n",
            "1           Coffee   Coca-Cola\n",
            "2             Wine   Coca-Cola\n",
            "3        Green Tea  Dr. Pepper\n",
            "4            Vodka  Dr. Pepper\n",
            "...            ...         ...\n",
            "9995          Wine  Dr. Pepper\n",
            "9996     Green Tea   Coca-Cola\n",
            "9997  Energy Drink       Pepsi\n",
            "9998          Cola   Coca-Cola\n",
            "9999      Lemonade   Coca-Cola\n",
            "\n",
            "[10000 rows x 2 columns]\n"
          ]
        }
      ],
      "source": [
        "a = df[[\"Product\",\"Company\"]]\n",
        "print(a)"
      ]
    },
    {
      "cell_type": "code",
      "execution_count": 29,
      "metadata": {
        "colab": {
          "base_uri": "https://localhost:8080/"
        },
        "id": "TdQrJtky88ql",
        "outputId": "291da389-4589-4b93-849d-097a04f991ee"
      },
      "outputs": [
        {
          "name": "stdout",
          "output_type": "stream",
          "text": [
            "0       False\n",
            "1       False\n",
            "2       False\n",
            "3       False\n",
            "4       False\n",
            "        ...  \n",
            "9995    False\n",
            "9996    False\n",
            "9997     True\n",
            "9998    False\n",
            "9999    False\n",
            "Name: Company, Length: 10000, dtype: bool\n"
          ]
        }
      ],
      "source": [
        "# return True or False\n",
        "print(df.Company == \"Pepsi\")"
      ]
    },
    {
      "cell_type": "code",
      "execution_count": 30,
      "metadata": {
        "colab": {
          "base_uri": "https://localhost:8080/"
        },
        "id": "xLX6wKK39Hzd",
        "outputId": "09e86f94-4189-4dc5-bf08-8eba14d6935b"
      },
      "outputs": [
        {
          "name": "stdout",
          "output_type": "stream",
          "text": [
            "           Product Company    Category  Units Sold  Revenue  \\\n",
            "6           Coffee   Pepsi      Coffee         101     1398   \n",
            "14            Cola   Pepsi  Soft Drink         526     3082   \n",
            "20            Wine   Pepsi   Alcoholic         351     3724   \n",
            "24      Herbal Tea   Pepsi         Tea         234     6508   \n",
            "28            Beer   Pepsi   Alcoholic         871     2724   \n",
            "...            ...     ...         ...         ...      ...   \n",
            "9985    Herbal Tea   Pepsi         Tea         131     5460   \n",
            "9987         Vodka   Pepsi   Alcoholic         566     1310   \n",
            "9991         Vodka   Pepsi   Alcoholic         669     5032   \n",
            "9992         Vodka   Pepsi   Alcoholic         459     8283   \n",
            "9997  Energy Drink   Pepsi  Soft Drink         728     4703   \n",
            "\n",
            "      Cost of Goods Sold  Profit Purchase Date       Customer Name  \\\n",
            "6                    955     443    2021-02-25      Monica Mercado   \n",
            "14                  7115   -4033    2020-07-29         Jose Murphy   \n",
            "20                  2359    1365    2022-11-24  Christopher Miller   \n",
            "24                  6474      34    2021-03-28        Sophia Woods   \n",
            "28                  1045    1679    2023-02-19     Jennifer Vaughn   \n",
            "...                  ...     ...           ...                 ...   \n",
            "9985                4520     940    2022-02-25     Jennifer Torres   \n",
            "9987                7041   -5731    2020-10-12    Michael Robinson   \n",
            "9991                4440     592    2022-11-04       Felicia Evans   \n",
            "9992                2180    6103    2022-10-09        Stephen York   \n",
            "9997                5135    -432    2020-01-14     Taylor Robinson   \n",
            "\n",
            "      Customer State      Customer City  Customer Zip Code       Order ID  \n",
            "6     North Carolina      Whitakershire              12974  1-4807-1762-2  \n",
            "14          Maryland      South Amyview              84534  1-230-47174-X  \n",
            "20          Missouri      Sheilachester              67752  1-4940-8694-8  \n",
            "24          Missouri        Michaelfurt              68009  1-966180-26-8  \n",
            "28        Washington        Tranchester              68104  1-69698-646-X  \n",
            "...              ...                ...                ...            ...  \n",
            "9985        Arkansas      South Melanie              88135  0-7731-4278-9  \n",
            "9987           Idaho   Port Melanieside              31779  0-946984-33-6  \n",
            "9991           Maine       Lake Kenneth              68079  0-656-44989-6  \n",
            "9992  North Carolina          Shaneside              40635  1-09-972805-3  \n",
            "9997        Virginia  West Susanchester              13202  1-893420-14-0  \n",
            "\n",
            "[3317 rows x 13 columns]\n"
          ]
        }
      ],
      "source": [
        "# return dataframe\n",
        "print(df[df.Company == \"Pepsi\"])"
      ]
    },
    {
      "cell_type": "code",
      "execution_count": 31,
      "metadata": {
        "colab": {
          "base_uri": "https://localhost:8080/"
        },
        "id": "8h6PPSlK9l5s",
        "outputId": "00c80a52-9d13-401a-818c-b0351522eff1"
      },
      "outputs": [
        {
          "name": "stdout",
          "output_type": "stream",
          "text": [
            "     Product     Company    Category  Units Sold  Revenue  Cost of Goods Sold  \\\n",
            "7       Cola  Dr. Pepper  Soft Drink         472     6069                4533   \n",
            "8       Cola   Coca-Cola  Soft Drink         562     9883                7180   \n",
            "14      Cola       Pepsi  Soft Drink         526     3082                7115   \n",
            "15      Cola  Dr. Pepper  Soft Drink         671     5743                4554   \n",
            "33      Cola       Pepsi  Soft Drink         146     5483                5354   \n",
            "...      ...         ...         ...         ...      ...                 ...   \n",
            "9922    Cola       Pepsi  Soft Drink         669     9341                2669   \n",
            "9949    Cola   Coca-Cola  Soft Drink         438     6373                2579   \n",
            "9968    Cola   Coca-Cola  Soft Drink         841     1814                2319   \n",
            "9978    Cola   Coca-Cola  Soft Drink         650     8371                5202   \n",
            "9998    Cola   Coca-Cola  Soft Drink         142     3655                6436   \n",
            "\n",
            "      Profit Purchase Date       Customer Name Customer State  \\\n",
            "7       1536    2020-12-17  Katherine Robinson         Oregon   \n",
            "8       2703    2021-12-21       James Salazar           Iowa   \n",
            "14     -4033    2020-07-29         Jose Murphy       Maryland   \n",
            "15      1189    2022-11-17         Hunter Hall         Nevada   \n",
            "33       129    2023-02-13       Angela Molina       Colorado   \n",
            "...      ...           ...                 ...            ...   \n",
            "9922    6672    2022-09-15         Terry Berry           Utah   \n",
            "9949    3794    2021-03-10   Jennifer Thompson       Colorado   \n",
            "9968    -505    2020-05-25        Jessica Cruz          Maine   \n",
            "9978    3169    2022-06-02        Cody Benitez        Alabama   \n",
            "9998   -2781    2022-10-28     Sierra Morrison        Montana   \n",
            "\n",
            "         Customer City  Customer Zip Code       Order ID  \n",
            "7           New Teresa              52603  1-86050-751-4  \n",
            "8       New Jessicaton              19798  1-55729-850-5  \n",
            "14       South Amyview              84534  1-230-47174-X  \n",
            "15      North Nicholas               5244  0-320-91549-2  \n",
            "33          Jensenstad              83573  0-243-91336-2  \n",
            "...                ...                ...            ...  \n",
            "9922   North Sarahstad              28161  0-201-90943-X  \n",
            "9949     New Kellyberg              96817  1-219-52804-8  \n",
            "9968         Clarkstad              98118  1-5017-6536-1  \n",
            "9978  East Andrewmouth              34095  0-7700-1563-8  \n",
            "9998         Perezfort              66758  1-5413-2685-7  \n",
            "\n",
            "[992 rows x 13 columns]\n"
          ]
        }
      ],
      "source": [
        "print(df.loc[df.Product == \"Cola\"])"
      ]
    },
    {
      "cell_type": "code",
      "execution_count": 32,
      "metadata": {
        "colab": {
          "base_uri": "https://localhost:8080/"
        },
        "id": "XmSKmtK39wkr",
        "outputId": "6a0be8e4-d562-4efe-fdc5-eb94f9fea5a2"
      },
      "outputs": [
        {
          "name": "stdout",
          "output_type": "stream",
          "text": [
            "['Dr. Pepper' 'Coca-Cola' 'Pepsi']\n"
          ]
        }
      ],
      "source": [
        "print((df.loc[df.Product == \"Cola\"][\"Company\"]).unique())"
      ]
    },
    {
      "cell_type": "code",
      "execution_count": 36,
      "metadata": {
        "colab": {
          "base_uri": "https://localhost:8080/"
        },
        "id": "TP-Z3dl3965j",
        "outputId": "3ea54ea8-8022-4ea7-a882-82b3bd2823cf"
      },
      "outputs": [
        {
          "name": "stdout",
          "output_type": "stream",
          "text": [
            "         Company    Category\n",
            "7     Dr. Pepper  Soft Drink\n",
            "8      Coca-Cola  Soft Drink\n",
            "14         Pepsi  Soft Drink\n",
            "15    Dr. Pepper  Soft Drink\n",
            "33         Pepsi  Soft Drink\n",
            "...          ...         ...\n",
            "9922       Pepsi  Soft Drink\n",
            "9949   Coca-Cola  Soft Drink\n",
            "9968   Coca-Cola  Soft Drink\n",
            "9978   Coca-Cola  Soft Drink\n",
            "9998   Coca-Cola  Soft Drink\n",
            "\n",
            "[992 rows x 2 columns]\n"
          ]
        }
      ],
      "source": [
        "print(df.loc[df.Product == \"Cola\"][[\"Company\",\"Category\"]])"
      ]
    },
    {
      "cell_type": "code",
      "execution_count": 41,
      "metadata": {
        "colab": {
          "base_uri": "https://localhost:8080/"
        },
        "id": "-nup6-Va-SVb",
        "outputId": "d5681bb8-9b31-43de-bde4-a9fe87b60d32"
      },
      "outputs": [
        {
          "name": "stdout",
          "output_type": "stream",
          "text": [
            "1000\n"
          ]
        }
      ],
      "source": [
        "print(df[\"Units Sold\"].max())"
      ]
    },
    {
      "cell_type": "code",
      "execution_count": 44,
      "metadata": {
        "colab": {
          "base_uri": "https://localhost:8080/"
        },
        "id": "d99qeSg9-Yoa",
        "outputId": "2efe8092-2bb3-4f05-aa00-5c879ac874ef"
      },
      "outputs": [
        {
          "name": "stdout",
          "output_type": "stream",
          "text": [
            "         Product  Units Sold\n",
            "41     Black Tea        1000\n",
            "1128   Green Tea        1000\n",
            "2187      Coffee        1000\n",
            "2508   Black Tea        1000\n",
            "3588       Vodka        1000\n",
            "4611      Coffee        1000\n",
            "5080       Vodka        1000\n",
            "5524        Beer        1000\n",
            "6214   Black Tea        1000\n",
            "6843        Beer        1000\n",
            "7477       Vodka        1000\n",
            "7608        Wine        1000\n",
            "8515  Herbal Tea        1000\n",
            "8599        Cola        1000\n",
            "9318        Beer        1000\n"
          ]
        }
      ],
      "source": [
        "print(df[df[\"Units Sold\"] == df[\"Units Sold\"].max()][[\"Product\",\"Units Sold\"]])"
      ]
    },
    {
      "cell_type": "code",
      "execution_count": 45,
      "metadata": {
        "colab": {
          "base_uri": "https://localhost:8080/"
        },
        "id": "a_G3-AWU-xwn",
        "outputId": "2bf9642d-462f-48e2-cd54-44e92887ce74"
      },
      "outputs": [
        {
          "name": "stdout",
          "output_type": "stream",
          "text": [
            "        Product     Company    Category  Units Sold  Revenue  \\\n",
            "9577  Green Tea   Coca-Cola         Tea         927     3374   \n",
            "6014  Black Tea       Pepsi         Tea         220     5216   \n",
            "3725   Lemonade       Pepsi  Soft Drink         173     7255   \n",
            "3216       Wine   Coca-Cola   Alcoholic         543     9130   \n",
            "8151       Wine  Dr. Pepper   Alcoholic         180     6794   \n",
            "\n",
            "      Cost of Goods Sold  Profit Purchase Date     Customer Name  \\\n",
            "9577                3284      90    2021-07-17   Denise Mcintyre   \n",
            "6014                5242     -26    2022-07-20  Justin Rodriguez   \n",
            "3725                7291     -36    2022-03-09      Hannah Myers   \n",
            "3216                4855    4275    2022-12-19       Brian White   \n",
            "8151                2780    4014    2021-06-20        Frank Mann   \n",
            "\n",
            "     Customer State    Customer City  Customer Zip Code       Order ID  \n",
            "9577           Ohio        Erinshire              49617  0-427-77081-5  \n",
            "6014       Kentucky     Fergusonland              24394  1-85319-387-9  \n",
            "3725       Nebraska  South Lindatown              56068  0-231-29779-3  \n",
            "3216       Missouri       Port Laura              72651  0-420-35182-5  \n",
            "8151           Iowa   West Josehaven              59261  0-9720058-9-7  \n"
          ]
        }
      ],
      "source": [
        "a = df.sample(5)\n",
        "print(a)"
      ]
    },
    {
      "cell_type": "code",
      "execution_count": 47,
      "metadata": {
        "colab": {
          "base_uri": "https://localhost:8080/"
        },
        "id": "r8stkQOP--sP",
        "outputId": "29d89879-70f2-4a1c-86dc-a9f9e77ffb72"
      },
      "outputs": [
        {
          "name": "stdout",
          "output_type": "stream",
          "text": [
            "        Product     Company    Category  Units Sold  Revenue  \\\n",
            "6158       Wine   Coca-Cola   Alcoholic         258     4492   \n",
            "9329       Wine       Pepsi   Alcoholic         617     4967   \n",
            "6871       Wine  Dr. Pepper   Alcoholic         314     8020   \n",
            "8780       Beer       Pepsi   Alcoholic         611     6270   \n",
            "3042  Green Tea   Coca-Cola         Tea         467     8894   \n",
            "...         ...         ...         ...         ...      ...   \n",
            "725        Cola       Pepsi  Soft Drink         669     3792   \n",
            "7531  Green Tea   Coca-Cola         Tea         796     9884   \n",
            "4250       Cola  Dr. Pepper  Soft Drink         462     9243   \n",
            "4766       Cola   Coca-Cola  Soft Drink         829     1722   \n",
            "6967       Beer   Coca-Cola   Alcoholic         105     6518   \n",
            "\n",
            "      Cost of Goods Sold  Profit Purchase Date       Customer Name  \\\n",
            "6158                1415    3077    2022-10-23    Charles Hamilton   \n",
            "9329                1265    3702    2020-11-22      Matthew Rangel   \n",
            "6871                1333    6687    2021-12-17         Brian Lewis   \n",
            "8780                6703    -433    2022-04-03  Mrs. Amanda Fuller   \n",
            "3042                1256    7638    2023-01-28        Julie Henson   \n",
            "...                  ...     ...           ...                 ...   \n",
            "725                 3404     388    2020-12-07    Melissa Phillips   \n",
            "7531                1522    8362    2021-10-06    Charles Peterson   \n",
            "4250                3012    6231    2021-08-25        Frances Ross   \n",
            "4766                7928   -6206    2022-06-12        Stephen Hill   \n",
            "6967                7433    -915    2020-03-26    Jacqueline Evans   \n",
            "\n",
            "     Customer State     Customer City  Customer Zip Code       Order ID  \n",
            "6158       Kentucky     Lake Johntown              55785  1-4528-6559-0  \n",
            "9329       Missouri         East John              28483  0-902106-57-0  \n",
            "6871       Missouri  East Melissaview              95585  0-8096-7169-7  \n",
            "8780      Minnesota       Michaelview              19466  1-370-72406-3  \n",
            "3042    Connecticut        New Ashley              84027  1-70969-524-2  \n",
            "...             ...               ...                ...            ...  \n",
            "725      New Mexico        Riverafurt              83705  0-474-69966-8  \n",
            "7531     New Jersey    Port Brianside              83434  0-488-95002-3  \n",
            "4250         Hawaii         Lewisberg              89068  1-925394-27-1  \n",
            "4766       Nebraska        South Tina              71199  0-298-31902-0  \n",
            "6967   Pennsylvania           Annstad               3164  0-659-26448-X  \n",
            "\n",
            "[5000 rows x 13 columns]\n"
          ]
        }
      ],
      "source": [
        "# 50% from df\n",
        "a = df.sample(frac = 0.5)\n",
        "print(a)"
      ]
    },
    {
      "cell_type": "code",
      "execution_count": 48,
      "metadata": {
        "colab": {
          "base_uri": "https://localhost:8080/"
        },
        "id": "MOQL-_8w_JGH",
        "outputId": "f44e8d5b-2063-4958-d417-93d5a7bdae4d"
      },
      "outputs": [
        {
          "name": "stdout",
          "output_type": "stream",
          "text": [
            "        Product     Company    Category  Units Sold  Revenue  \\\n",
            "9586      Vodka   Coca-Cola   Alcoholic         469     4462   \n",
            "5291       Wine       Pepsi   Alcoholic         278     9570   \n",
            "3417       Wine   Coca-Cola   Alcoholic         589     8562   \n",
            "2258   Lemonade  Dr. Pepper  Soft Drink         163     3258   \n",
            "3675  Green Tea       Pepsi         Tea         887     1219   \n",
            "...         ...         ...         ...         ...      ...   \n",
            "5117       Wine  Dr. Pepper   Alcoholic         128     5110   \n",
            "1711   Lemonade  Dr. Pepper  Soft Drink         708     1855   \n",
            "960       Vodka  Dr. Pepper   Alcoholic         667     1343   \n",
            "1447       Wine       Pepsi   Alcoholic         504     9689   \n",
            "9585       Cola  Dr. Pepper  Soft Drink         298     5625   \n",
            "\n",
            "      Cost of Goods Sold  Profit Purchase Date   Customer Name  \\\n",
            "9586                3784     678    2022-07-13   Joseph Coffey   \n",
            "5291                 829    8741    2020-05-15   Haley Padilla   \n",
            "3417                2624    5938    2023-05-19   Joshua Larson   \n",
            "2258                2647     611    2023-03-10  Lisa Wilkinson   \n",
            "3675                6897   -5678    2021-09-04    Lauren Kelly   \n",
            "...                  ...     ...           ...             ...   \n",
            "5117                3236    1874    2021-03-14  Taylor Higgins   \n",
            "1711                4219   -2364    2022-10-07   Carolyn Nunez   \n",
            "960                 7401   -6058    2021-11-29     Justin Bass   \n",
            "1447                2126    7563    2021-07-29       Gary Kemp   \n",
            "9585                3548    2077    2021-05-12     Drew Wilson   \n",
            "\n",
            "      Customer State        Customer City  Customer Zip Code       Order ID  \n",
            "9586        Maryland            Lake Tina               8367  0-7803-7372-3  \n",
            "5291         Alabama        East Marybury              47884  0-399-42645-0  \n",
            "3417        Virginia         Stantonshire              16240  0-352-13065-2  \n",
            "2258    Pennsylvania        Delacruzville              53005  1-4989-4011-0  \n",
            "3675       Minnesota  South Jennifermouth              99593  0-88727-457-9  \n",
            "...              ...                  ...                ...            ...  \n",
            "5117           Texas          Danielville              25169  1-70782-820-2  \n",
            "1711   New Hampshire           Amychester               6383  0-9823523-5-2  \n",
            "960        Wisconsin        Pattersonbury              80276  1-4964-0233-2  \n",
            "1447            Ohio            Ballmouth               3668  1-69623-559-6  \n",
            "9585  North Carolina          West Jerome              75678  0-05-442073-3  \n",
            "\n",
            "[5000 rows x 13 columns]\n"
          ]
        }
      ],
      "source": [
        "# Include all the databases, but in a different order than before.\n",
        "a = df.sample(frac = 0.5)\n",
        "print(a)"
      ]
    },
    {
      "cell_type": "code",
      "execution_count": 49,
      "metadata": {
        "colab": {
          "base_uri": "https://localhost:8080/"
        },
        "id": "fY1QXtZ7_XAY",
        "outputId": "379e20d8-9432-4785-9f70-c54428c37cf7"
      },
      "outputs": [
        {
          "name": "stdout",
          "output_type": "stream",
          "text": [
            "Product\n",
            "Herbal Tea    1043\n",
            "Wine          1036\n",
            "Green Tea     1016\n",
            "Coffee        1014\n",
            "Name: count, dtype: int64\n"
          ]
        }
      ],
      "source": [
        "a = df.Product.value_counts()[:4]\n",
        "print(a)"
      ]
    },
    {
      "cell_type": "code",
      "execution_count": 51,
      "metadata": {
        "colab": {
          "base_uri": "https://localhost:8080/"
        },
        "id": "c_k7Nm9S_j0P",
        "outputId": "1d53639d-d0bb-4589-c7dc-9021205f6a00"
      },
      "outputs": [
        {
          "name": "stdout",
          "output_type": "stream",
          "text": [
            "0             Coffee\n",
            "1             Coffee\n",
            "2               Wine\n",
            "3          Green Tea\n",
            "4              Vodka\n",
            "            ...     \n",
            "9995            Wine\n",
            "9996       Green Tea\n",
            "9997    Energy Drink\n",
            "9998            Cola\n",
            "9999        Lemonade\n",
            "Name: Product, Length: 10000, dtype: object\n"
          ]
        }
      ],
      "source": [
        "a = df[df[\"Units Sold\"] >= 100][\"Product\"]\n",
        "print(a)"
      ]
    },
    {
      "cell_type": "code",
      "execution_count": 52,
      "metadata": {
        "colab": {
          "base_uri": "https://localhost:8080/"
        },
        "id": "prpyx1P2_1DF",
        "outputId": "06060026-f41b-4b91-c91a-0521690a34a0"
      },
      "outputs": [
        {
          "name": "stdout",
          "output_type": "stream",
          "text": [
            "Product               10000\n",
            "Company               10000\n",
            "Category              10000\n",
            "Units Sold            10000\n",
            "Revenue               10000\n",
            "Cost of Goods Sold    10000\n",
            "Profit                10000\n",
            "Purchase Date         10000\n",
            "Customer Name         10000\n",
            "Customer State        10000\n",
            "Customer City         10000\n",
            "Customer Zip Code     10000\n",
            "Order ID              10000\n",
            "dtype: int64\n"
          ]
        }
      ],
      "source": [
        "a = df[df[\"Units Sold\"] >= 100].count()\n",
        "print(a)"
      ]
    },
    {
      "cell_type": "code",
      "execution_count": 56,
      "metadata": {
        "colab": {
          "base_uri": "https://localhost:8080/"
        },
        "id": "uH7D87ctAxGL",
        "outputId": "0bfdff89-1bd5-48c6-bace-416ee3ca6f56"
      },
      "outputs": [
        {
          "name": "stdout",
          "output_type": "stream",
          "text": [
            "5507.8241\n"
          ]
        }
      ],
      "source": [
        "a = df[df[\"Units Sold\"] >= 1].Revenue.mean()\n",
        "print(a)"
      ]
    },
    {
      "cell_type": "code",
      "execution_count": 71,
      "metadata": {
        "colab": {
          "base_uri": "https://localhost:8080/"
        },
        "id": "dwHvAz7zA9mU",
        "outputId": "c0a7d479-8750-40ae-9274-0715bfec44b5"
      },
      "outputs": [
        {
          "name": "stdout",
          "output_type": "stream",
          "text": [
            "1\n"
          ]
        }
      ],
      "source": [
        "a = df[df[\"Revenue\"] == df[\"Revenue\"].max()][\"Units Sold\"].value_counts().max()\n",
        "print(a)"
      ]
    }
  ],
  "metadata": {
    "colab": {
      "provenance": []
    },
    "kernelspec": {
      "display_name": "Python 3",
      "name": "python3"
    },
    "language_info": {
      "name": "python"
    }
  },
  "nbformat": 4,
  "nbformat_minor": 0
}
