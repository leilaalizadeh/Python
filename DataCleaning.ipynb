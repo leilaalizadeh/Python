{
  "nbformat": 4,
  "nbformat_minor": 0,
  "metadata": {
    "colab": {
      "provenance": []
    },
    "kernelspec": {
      "name": "python3",
      "display_name": "Python 3"
    },
    "language_info": {
      "name": "python"
    }
  },
  "cells": [
    {
      "cell_type": "code",
      "execution_count": 1,
      "metadata": {
        "id": "ZN4RlEDHt5nk"
      },
      "outputs": [],
      "source": [
        "import pandas as pd\n",
        "import numpy as np"
      ]
    },
    {
      "cell_type": "code",
      "source": [
        "df = pd.read_csv('/content/COVID-19_Treatments_20240818.csv')"
      ],
      "metadata": {
        "colab": {
          "base_uri": "https://localhost:8080/"
        },
        "id": "VXmgysVvuOny",
        "outputId": "802656d0-fc6f-48a5-af90-5b93e610884a"
      },
      "execution_count": 46,
      "outputs": [
        {
          "output_type": "stream",
          "name": "stderr",
          "text": [
            "<ipython-input-46-3fe60bd63fbc>:1: DtypeWarning: Columns (5,14) have mixed types. Specify dtype option on import or set low_memory=False.\n",
            "  df = pd.read_csv('/content/COVID-19_Treatments_20240818.csv')\n"
          ]
        }
      ]
    },
    {
      "cell_type": "code",
      "source": [
        "a = df.info()\n",
        "print(a)"
      ],
      "metadata": {
        "colab": {
          "base_uri": "https://localhost:8080/"
        },
        "id": "rCUyycKHuUm0",
        "outputId": "7ffb36a4-92b8-4654-e533-5baa10774e6c"
      },
      "execution_count": 23,
      "outputs": [
        {
          "output_type": "stream",
          "name": "stdout",
          "text": [
            "<class 'pandas.core.frame.DataFrame'>\n",
            "RangeIndex: 65786 entries, 0 to 65785\n",
            "Data columns (total 31 columns):\n",
            " #   Column                   Non-Null Count  Dtype  \n",
            "---  ------                   --------------  -----  \n",
            " 0   Provider Name            65786 non-null  object \n",
            " 1   Address 1                65786 non-null  object \n",
            " 2   Address 2                7361 non-null   object \n",
            " 3   City                     65786 non-null  object \n",
            " 4   State                    65786 non-null  object \n",
            " 5   Zip                      65786 non-null  object \n",
            " 6   Public Phone Number      16532 non-null  object \n",
            " 7   Public Website           0 non-null      float64\n",
            " 8   Latitude                 65786 non-null  float64\n",
            " 9   Longitude                65786 non-null  float64\n",
            " 10  Geopoint                 65786 non-null  object \n",
            " 11  Last Report Date         65786 non-null  object \n",
            " 12  Is PAP Site              65786 non-null  bool   \n",
            " 13  Is Telehealth Site       65786 non-null  bool   \n",
            " 14  Telehealth Website       1276 non-null   object \n",
            " 15  Pharmacist Prescribing   65786 non-null  bool   \n",
            " 16  Home Delivery            65786 non-null  bool   \n",
            " 17  Home Delivery URL        0 non-null      float64\n",
            " 18  Is T2T Site              65786 non-null  bool   \n",
            " 19  Is ICATT Site            65786 non-null  bool   \n",
            " 20  Has USG Product          65786 non-null  bool   \n",
            " 21  Has Commercial Product   65786 non-null  bool   \n",
            " 22  Has Paxlovid             65786 non-null  bool   \n",
            " 23  Has Commercial Paxlovid  65786 non-null  bool   \n",
            " 24  Has USG Paxlovid         65786 non-null  bool   \n",
            " 25  Has Lagevrio             65786 non-null  bool   \n",
            " 26  Has Commercial Lagevrio  65786 non-null  bool   \n",
            " 27  Has USG Lagevrio         65786 non-null  bool   \n",
            " 28  Has Veklury              65786 non-null  bool   \n",
            " 29  Grantee Code             45485 non-null  object \n",
            " 30  Provider Note            5256 non-null   object \n",
            "dtypes: bool(15), float64(4), object(12)\n",
            "memory usage: 9.0+ MB\n",
            "None\n"
          ]
        }
      ]
    },
    {
      "cell_type": "code",
      "source": [
        "a = df.isna()\n",
        "print(a)"
      ],
      "metadata": {
        "colab": {
          "base_uri": "https://localhost:8080/"
        },
        "id": "ddLulXMMuY-J",
        "outputId": "1fe0fae9-797f-4cd9-d48b-e87039a542fb"
      },
      "execution_count": 24,
      "outputs": [
        {
          "output_type": "stream",
          "name": "stdout",
          "text": [
            "       Provider Name  Address 1  Address 2   City  State    Zip  \\\n",
            "0              False      False       True  False  False  False   \n",
            "1              False      False       True  False  False  False   \n",
            "2              False      False       True  False  False  False   \n",
            "3              False      False       True  False  False  False   \n",
            "4              False      False       True  False  False  False   \n",
            "...              ...        ...        ...    ...    ...    ...   \n",
            "65781          False      False       True  False  False  False   \n",
            "65782          False      False       True  False  False  False   \n",
            "65783          False      False       True  False  False  False   \n",
            "65784          False      False       True  False  False  False   \n",
            "65785          False      False      False  False  False  False   \n",
            "\n",
            "       Public Phone Number  Public Website  Latitude  Longitude  ...  \\\n",
            "0                     True            True     False      False  ...   \n",
            "1                     True            True     False      False  ...   \n",
            "2                     True            True     False      False  ...   \n",
            "3                     True            True     False      False  ...   \n",
            "4                     True            True     False      False  ...   \n",
            "...                    ...             ...       ...        ...  ...   \n",
            "65781                 True            True     False      False  ...   \n",
            "65782                False            True     False      False  ...   \n",
            "65783                False            True     False      False  ...   \n",
            "65784                 True            True     False      False  ...   \n",
            "65785                 True            True     False      False  ...   \n",
            "\n",
            "       Has Commercial Product  Has Paxlovid  Has Commercial Paxlovid  \\\n",
            "0                       False         False                    False   \n",
            "1                       False         False                    False   \n",
            "2                       False         False                    False   \n",
            "3                       False         False                    False   \n",
            "4                       False         False                    False   \n",
            "...                       ...           ...                      ...   \n",
            "65781                   False         False                    False   \n",
            "65782                   False         False                    False   \n",
            "65783                   False         False                    False   \n",
            "65784                   False         False                    False   \n",
            "65785                   False         False                    False   \n",
            "\n",
            "       Has USG Paxlovid  Has Lagevrio  Has Commercial Lagevrio  \\\n",
            "0                 False         False                    False   \n",
            "1                 False         False                    False   \n",
            "2                 False         False                    False   \n",
            "3                 False         False                    False   \n",
            "4                 False         False                    False   \n",
            "...                 ...           ...                      ...   \n",
            "65781             False         False                    False   \n",
            "65782             False         False                    False   \n",
            "65783             False         False                    False   \n",
            "65784             False         False                    False   \n",
            "65785             False         False                    False   \n",
            "\n",
            "       Has USG Lagevrio  Has Veklury  Grantee Code  Provider Note  \n",
            "0                 False        False         False           True  \n",
            "1                 False        False          True           True  \n",
            "2                 False        False          True           True  \n",
            "3                 False        False          True           True  \n",
            "4                 False        False          True           True  \n",
            "...                 ...          ...           ...            ...  \n",
            "65781             False        False         False           True  \n",
            "65782             False        False         False           True  \n",
            "65783             False        False         False           True  \n",
            "65784             False        False          True           True  \n",
            "65785             False        False          True           True  \n",
            "\n",
            "[65786 rows x 31 columns]\n"
          ]
        }
      ]
    },
    {
      "cell_type": "code",
      "source": [
        "a = df.isna().any()\n",
        "print(a)"
      ],
      "metadata": {
        "colab": {
          "base_uri": "https://localhost:8080/"
        },
        "id": "jkWHJ01xufJ5",
        "outputId": "1f7a0a06-2be8-4a83-c321-a08b2735601f"
      },
      "execution_count": 25,
      "outputs": [
        {
          "output_type": "stream",
          "name": "stdout",
          "text": [
            "Provider Name              False\n",
            "Address 1                  False\n",
            "Address 2                   True\n",
            "City                       False\n",
            "State                      False\n",
            "Zip                        False\n",
            "Public Phone Number         True\n",
            "Public Website              True\n",
            "Latitude                   False\n",
            "Longitude                  False\n",
            "Geopoint                   False\n",
            "Last Report Date           False\n",
            "Is PAP Site                False\n",
            "Is Telehealth Site         False\n",
            "Telehealth Website          True\n",
            "Pharmacist Prescribing     False\n",
            "Home Delivery              False\n",
            "Home Delivery URL           True\n",
            "Is T2T Site                False\n",
            "Is ICATT Site              False\n",
            "Has USG Product            False\n",
            "Has Commercial Product     False\n",
            "Has Paxlovid               False\n",
            "Has Commercial Paxlovid    False\n",
            "Has USG Paxlovid           False\n",
            "Has Lagevrio               False\n",
            "Has Commercial Lagevrio    False\n",
            "Has USG Lagevrio           False\n",
            "Has Veklury                False\n",
            "Grantee Code                True\n",
            "Provider Note               True\n",
            "dtype: bool\n"
          ]
        }
      ]
    },
    {
      "cell_type": "code",
      "source": [
        "print(df[df[\"Home Delivery URL\"].isna() == True])"
      ],
      "metadata": {
        "colab": {
          "base_uri": "https://localhost:8080/"
        },
        "id": "tNE0XLBwullI",
        "outputId": "1287fd70-94f2-453e-a4ee-a95bb1036b8b"
      },
      "execution_count": 26,
      "outputs": [
        {
          "output_type": "stream",
          "name": "stdout",
          "text": [
            "                         Provider Name                Address 1 Address 2  \\\n",
            "0                      WALGREENS #2777    2805 N ROOSEVELT BLVD       NaN   \n",
            "1                          HOMER DRUGS  1228 HISTORIC HOMER HWY       NaN   \n",
            "2                      DACULA PHARMACY           2555 2ND AVE N       NaN   \n",
            "3      ST. LUKE'S COSM RETAIL PHARMACY      2619 W FAIRVIEW AVE       NaN   \n",
            "4                   SOUTHSIDE PHARMACY     11964 ESCUE DR STE A       NaN   \n",
            "...                                ...                      ...       ...   \n",
            "65781             MY FRIEND'S PHARMACY             916 MAIN AVE       NaN   \n",
            "65782              CVS PHARMACY #16407          5401 W BROAD ST       NaN   \n",
            "65783              CVS PHARMACY #01396  11160 SOUTH LAKES DRIVE       NaN   \n",
            "65784                  KEEVER PHARMACY           1814 E MAIN ST       NaN   \n",
            "65785                        RARX, LLC         525 METROPLEX DR   STE 202   \n",
            "\n",
            "             City State        Zip Public Phone Number  Public Website  \\\n",
            "0        KEY WEST    FL  330404073                 NaN             NaN   \n",
            "1           HOMER    GA      30547                 NaN             NaN   \n",
            "2          DACULA    GA      30019                 NaN             NaN   \n",
            "3           BOISE    ID      83702                 NaN             NaN   \n",
            "4          TANNER    AL  356713665                 NaN             NaN   \n",
            "...           ...   ...        ...                 ...             ...   \n",
            "65781     PASSAIC    NJ       7055                 NaN             NaN   \n",
            "65782    RICHMOND    VA      23230        804-285-2975             NaN   \n",
            "65783      RESTON    VA      20191        703-620-6585             NaN   \n",
            "65784  LINCOLNTON    NC      28092                 NaN             NaN   \n",
            "65785   NASHVILLE    TN      37211                 NaN             NaN   \n",
            "\n",
            "        Latitude   Longitude  ... Has Commercial Product Has Paxlovid  \\\n",
            "0      24.566681  -81.772982  ...                  False        False   \n",
            "1      34.322458  -83.504101  ...                  False        False   \n",
            "2      33.989060  -83.896036  ...                  False        False   \n",
            "3      43.620220 -116.223180  ...                  False        False   \n",
            "4      34.730746  -86.962077  ...                  False        False   \n",
            "...          ...         ...  ...                    ...          ...   \n",
            "65781  40.868720  -74.133080  ...                  False        False   \n",
            "65782  37.586231  -77.500721  ...                   True         True   \n",
            "65783  38.938582  -77.330587  ...                   True         True   \n",
            "65784  35.477766  -81.227339  ...                  False        False   \n",
            "65785  36.091487  -86.703173  ...                  False        False   \n",
            "\n",
            "       Has Commercial Paxlovid  Has USG Paxlovid Has Lagevrio  \\\n",
            "0                        False             False        False   \n",
            "1                        False             False        False   \n",
            "2                        False             False        False   \n",
            "3                        False             False        False   \n",
            "4                        False             False        False   \n",
            "...                        ...               ...          ...   \n",
            "65781                    False             False        False   \n",
            "65782                     True             False        False   \n",
            "65783                     True             False         True   \n",
            "65784                    False             False        False   \n",
            "65785                    False             False        False   \n",
            "\n",
            "       Has Commercial Lagevrio  Has USG Lagevrio  Has Veklury  Grantee Code  \\\n",
            "0                        False             False        False           WG1   \n",
            "1                        False             False        False           NaN   \n",
            "2                        False             False        False           NaN   \n",
            "3                        False             False        False           NaN   \n",
            "4                        False             False        False           NaN   \n",
            "...                        ...               ...          ...           ...   \n",
            "65781                    False             False        False           NJA   \n",
            "65782                    False             False        False           CV1   \n",
            "65783                     True             False        False           CV1   \n",
            "65784                    False             False        False           NaN   \n",
            "65785                    False             False        False           NaN   \n",
            "\n",
            "       Provider Note  \n",
            "0                NaN  \n",
            "1                NaN  \n",
            "2                NaN  \n",
            "3                NaN  \n",
            "4                NaN  \n",
            "...              ...  \n",
            "65781            NaN  \n",
            "65782            NaN  \n",
            "65783            NaN  \n",
            "65784            NaN  \n",
            "65785            NaN  \n",
            "\n",
            "[65786 rows x 31 columns]\n"
          ]
        }
      ]
    },
    {
      "cell_type": "code",
      "source": [
        "df1 = df.dropna(inplace= False)\n",
        "print(df1)\n",
        "print()\n",
        "\n",
        "check = df1.isna().any()\n",
        "print(check)"
      ],
      "metadata": {
        "colab": {
          "base_uri": "https://localhost:8080/"
        },
        "id": "YXAv691kuw24",
        "outputId": "90f7915a-7c10-40e7-e77f-4b5b42b74d69"
      },
      "execution_count": 37,
      "outputs": [
        {
          "output_type": "stream",
          "name": "stdout",
          "text": [
            "Empty DataFrame\n",
            "Columns: [Provider Name, Address 1, Address 2, City, State, Zip, Public Phone Number, Public Website, Latitude, Longitude, Geopoint, Last Report Date, Is PAP Site, Is Telehealth Site, Telehealth Website, Pharmacist Prescribing, Home Delivery, Home Delivery URL, Is T2T Site, Is ICATT Site, Has USG Product, Has Commercial Product, Has Paxlovid, Has Commercial Paxlovid, Has USG Paxlovid, Has Lagevrio, Has Commercial Lagevrio, Has USG Lagevrio, Has Veklury, Grantee Code, Provider Note]\n",
            "Index: []\n",
            "\n",
            "[0 rows x 31 columns]\n",
            "\n",
            "Provider Name              False\n",
            "Address 1                  False\n",
            "Address 2                  False\n",
            "City                       False\n",
            "State                      False\n",
            "Zip                        False\n",
            "Public Phone Number        False\n",
            "Public Website             False\n",
            "Latitude                   False\n",
            "Longitude                  False\n",
            "Geopoint                   False\n",
            "Last Report Date           False\n",
            "Is PAP Site                False\n",
            "Is Telehealth Site         False\n",
            "Telehealth Website         False\n",
            "Pharmacist Prescribing     False\n",
            "Home Delivery              False\n",
            "Home Delivery URL          False\n",
            "Is T2T Site                False\n",
            "Is ICATT Site              False\n",
            "Has USG Product            False\n",
            "Has Commercial Product     False\n",
            "Has Paxlovid               False\n",
            "Has Commercial Paxlovid    False\n",
            "Has USG Paxlovid           False\n",
            "Has Lagevrio               False\n",
            "Has Commercial Lagevrio    False\n",
            "Has USG Lagevrio           False\n",
            "Has Veklury                False\n",
            "Grantee Code               False\n",
            "Provider Note              False\n",
            "dtype: bool\n"
          ]
        }
      ]
    },
    {
      "cell_type": "code",
      "source": [
        "# replace null parts with 2 if you want to do it on the main df set True\n",
        "\n",
        "check = df.isna().any()\n",
        "print(check)\n",
        "print()\n",
        "\n",
        "df1 = df.fillna(2, inplace =False)\n",
        "print(df1)\n",
        "print()\n",
        "\n",
        "check = df1.isna().any()\n",
        "print(check)"
      ],
      "metadata": {
        "colab": {
          "base_uri": "https://localhost:8080/"
        },
        "id": "Foq0p894u8x3",
        "outputId": "cba3d030-8b7f-4684-9198-1003f995855f"
      },
      "execution_count": 36,
      "outputs": [
        {
          "output_type": "stream",
          "name": "stdout",
          "text": [
            "Provider Name              False\n",
            "Address 1                  False\n",
            "Address 2                   True\n",
            "City                       False\n",
            "State                      False\n",
            "Zip                        False\n",
            "Public Phone Number         True\n",
            "Public Website              True\n",
            "Latitude                   False\n",
            "Longitude                  False\n",
            "Geopoint                   False\n",
            "Last Report Date           False\n",
            "Is PAP Site                False\n",
            "Is Telehealth Site         False\n",
            "Telehealth Website          True\n",
            "Pharmacist Prescribing     False\n",
            "Home Delivery              False\n",
            "Home Delivery URL           True\n",
            "Is T2T Site                False\n",
            "Is ICATT Site              False\n",
            "Has USG Product            False\n",
            "Has Commercial Product     False\n",
            "Has Paxlovid               False\n",
            "Has Commercial Paxlovid    False\n",
            "Has USG Paxlovid           False\n",
            "Has Lagevrio               False\n",
            "Has Commercial Lagevrio    False\n",
            "Has USG Lagevrio           False\n",
            "Has Veklury                False\n",
            "Grantee Code                True\n",
            "Provider Note               True\n",
            "dtype: bool\n",
            "\n",
            "                         Provider Name                Address 1 Address 2  \\\n",
            "0                      WALGREENS #2777    2805 N ROOSEVELT BLVD         2   \n",
            "1                          HOMER DRUGS  1228 HISTORIC HOMER HWY         2   \n",
            "2                      DACULA PHARMACY           2555 2ND AVE N         2   \n",
            "3      ST. LUKE'S COSM RETAIL PHARMACY      2619 W FAIRVIEW AVE         2   \n",
            "4                   SOUTHSIDE PHARMACY     11964 ESCUE DR STE A         2   \n",
            "...                                ...                      ...       ...   \n",
            "65781             MY FRIEND'S PHARMACY             916 MAIN AVE         2   \n",
            "65782              CVS PHARMACY #16407          5401 W BROAD ST         2   \n",
            "65783              CVS PHARMACY #01396  11160 SOUTH LAKES DRIVE         2   \n",
            "65784                  KEEVER PHARMACY           1814 E MAIN ST         2   \n",
            "65785                        RARX, LLC         525 METROPLEX DR   STE 202   \n",
            "\n",
            "             City State        Zip Public Phone Number  Public Website  \\\n",
            "0        KEY WEST    FL  330404073                   2             2.0   \n",
            "1           HOMER    GA      30547                   2             2.0   \n",
            "2          DACULA    GA      30019                   2             2.0   \n",
            "3           BOISE    ID      83702                   2             2.0   \n",
            "4          TANNER    AL  356713665                   2             2.0   \n",
            "...           ...   ...        ...                 ...             ...   \n",
            "65781     PASSAIC    NJ       7055                   2             2.0   \n",
            "65782    RICHMOND    VA      23230        804-285-2975             2.0   \n",
            "65783      RESTON    VA      20191        703-620-6585             2.0   \n",
            "65784  LINCOLNTON    NC      28092                   2             2.0   \n",
            "65785   NASHVILLE    TN      37211                   2             2.0   \n",
            "\n",
            "        Latitude   Longitude  ... Has Commercial Product Has Paxlovid  \\\n",
            "0      24.566681  -81.772982  ...                  False        False   \n",
            "1      34.322458  -83.504101  ...                  False        False   \n",
            "2      33.989060  -83.896036  ...                  False        False   \n",
            "3      43.620220 -116.223180  ...                  False        False   \n",
            "4      34.730746  -86.962077  ...                  False        False   \n",
            "...          ...         ...  ...                    ...          ...   \n",
            "65781  40.868720  -74.133080  ...                  False        False   \n",
            "65782  37.586231  -77.500721  ...                   True         True   \n",
            "65783  38.938582  -77.330587  ...                   True         True   \n",
            "65784  35.477766  -81.227339  ...                  False        False   \n",
            "65785  36.091487  -86.703173  ...                  False        False   \n",
            "\n",
            "       Has Commercial Paxlovid  Has USG Paxlovid Has Lagevrio  \\\n",
            "0                        False             False        False   \n",
            "1                        False             False        False   \n",
            "2                        False             False        False   \n",
            "3                        False             False        False   \n",
            "4                        False             False        False   \n",
            "...                        ...               ...          ...   \n",
            "65781                    False             False        False   \n",
            "65782                     True             False        False   \n",
            "65783                     True             False         True   \n",
            "65784                    False             False        False   \n",
            "65785                    False             False        False   \n",
            "\n",
            "       Has Commercial Lagevrio  Has USG Lagevrio  Has Veklury  Grantee Code  \\\n",
            "0                        False             False        False           WG1   \n",
            "1                        False             False        False             2   \n",
            "2                        False             False        False             2   \n",
            "3                        False             False        False             2   \n",
            "4                        False             False        False             2   \n",
            "...                        ...               ...          ...           ...   \n",
            "65781                    False             False        False           NJA   \n",
            "65782                    False             False        False           CV1   \n",
            "65783                     True             False        False           CV1   \n",
            "65784                    False             False        False             2   \n",
            "65785                    False             False        False             2   \n",
            "\n",
            "       Provider Note  \n",
            "0                  2  \n",
            "1                  2  \n",
            "2                  2  \n",
            "3                  2  \n",
            "4                  2  \n",
            "...              ...  \n",
            "65781              2  \n",
            "65782              2  \n",
            "65783              2  \n",
            "65784              2  \n",
            "65785              2  \n",
            "\n",
            "[65786 rows x 31 columns]\n",
            "\n",
            "Provider Name              False\n",
            "Address 1                  False\n",
            "Address 2                  False\n",
            "City                       False\n",
            "State                      False\n",
            "Zip                        False\n",
            "Public Phone Number        False\n",
            "Public Website             False\n",
            "Latitude                   False\n",
            "Longitude                  False\n",
            "Geopoint                   False\n",
            "Last Report Date           False\n",
            "Is PAP Site                False\n",
            "Is Telehealth Site         False\n",
            "Telehealth Website         False\n",
            "Pharmacist Prescribing     False\n",
            "Home Delivery              False\n",
            "Home Delivery URL          False\n",
            "Is T2T Site                False\n",
            "Is ICATT Site              False\n",
            "Has USG Product            False\n",
            "Has Commercial Product     False\n",
            "Has Paxlovid               False\n",
            "Has Commercial Paxlovid    False\n",
            "Has USG Paxlovid           False\n",
            "Has Lagevrio               False\n",
            "Has Commercial Lagevrio    False\n",
            "Has USG Lagevrio           False\n",
            "Has Veklury                False\n",
            "Grantee Code               False\n",
            "Provider Note              False\n",
            "dtype: bool\n"
          ]
        }
      ]
    },
    {
      "cell_type": "code",
      "source": [
        "\n",
        "df1 = df[\"Public Website\"].fillna(\"Www.google.com\", inplace =False)\n",
        "print(df1)\n",
        "print()\n",
        "\n",
        "print(df[df[\"Public Website\"] == \"Www.google.com\"])"
      ],
      "metadata": {
        "colab": {
          "base_uri": "https://localhost:8080/"
        },
        "id": "go9G-3ZLyCQG",
        "outputId": "3ee46f67-80bc-4dd9-adb1-eafa1e759142"
      },
      "execution_count": 39,
      "outputs": [
        {
          "output_type": "stream",
          "name": "stdout",
          "text": [
            "0        Www.google.com\n",
            "1        Www.google.com\n",
            "2        Www.google.com\n",
            "3        Www.google.com\n",
            "4        Www.google.com\n",
            "              ...      \n",
            "65781    Www.google.com\n",
            "65782    Www.google.com\n",
            "65783    Www.google.com\n",
            "65784    Www.google.com\n",
            "65785    Www.google.com\n",
            "Name: Public Website, Length: 65786, dtype: object\n",
            "\n",
            "Empty DataFrame\n",
            "Columns: [Provider Name, Address 1, Address 2, City, State, Zip, Public Phone Number, Public Website, Latitude, Longitude, Geopoint, Last Report Date, Is PAP Site, Is Telehealth Site, Telehealth Website, Pharmacist Prescribing, Home Delivery, Home Delivery URL, Is T2T Site, Is ICATT Site, Has USG Product, Has Commercial Product, Has Paxlovid, Has Commercial Paxlovid, Has USG Paxlovid, Has Lagevrio, Has Commercial Lagevrio, Has USG Lagevrio, Has Veklury, Grantee Code, Provider Note]\n",
            "Index: []\n",
            "\n",
            "[0 rows x 31 columns]\n"
          ]
        }
      ]
    },
    {
      "cell_type": "code",
      "source": [
        "# If your DataFrame (df) contains strings or non-numeric data,\n",
        "# pandas cannot compute the correlation, resulting in  error.\n",
        "\n",
        "df1 = pd.read_csv(\"/content/sales.csv\")\n",
        "numeric_df = df1.select_dtypes(include=[np.number])\n",
        "corr_matrix = numeric_df.corr()\n",
        "print(corr_matrix)\n",
        "\n",
        "# r = 1: Perfect positive correlation.\n",
        "# As one variable increases, the other variable also increases in a perfectly linear fashion.\n",
        "\n",
        "# r = -1: Perfect negative correlation.\n",
        "# As one variable increases, the other variable decreases in a perfectly linear fashion.\n",
        "\n",
        "# r = 0: No linear correlation.\n",
        "# There is no linear relationship between the two variables."
      ],
      "metadata": {
        "colab": {
          "base_uri": "https://localhost:8080/"
        },
        "id": "hrXkUnHdyiDk",
        "outputId": "b5905015-d6b3-426a-f3f8-41e7bab1e758"
      },
      "execution_count": 47,
      "outputs": [
        {
          "output_type": "stream",
          "name": "stdout",
          "text": [
            "                    Units Sold   Revenue  Cost of Goods Sold    Profit  \\\n",
            "Units Sold            1.000000 -0.002920           -0.001770 -0.001120   \n",
            "Revenue              -0.002920  1.000000            0.016884  0.763861   \n",
            "Cost of Goods Sold   -0.001770  0.016884            1.000000 -0.632392   \n",
            "Profit               -0.001120  0.763861           -0.632392  1.000000   \n",
            "Customer Zip Code     0.005088  0.007920            0.012922 -0.002205   \n",
            "\n",
            "                    Customer Zip Code  \n",
            "Units Sold                   0.005088  \n",
            "Revenue                      0.007920  \n",
            "Cost of Goods Sold           0.012922  \n",
            "Profit                      -0.002205  \n",
            "Customer Zip Code            1.000000  \n"
          ]
        }
      ]
    },
    {
      "cell_type": "code",
      "source": [
        "import seaborn as sns\n",
        "\n",
        "sns.heatmap(numeric_df.corr(), annot = True)"
      ],
      "metadata": {
        "colab": {
          "base_uri": "https://localhost:8080/",
          "height": 573
        },
        "id": "WtaHFHHr0pL1",
        "outputId": "15585e36-192b-4d41-ee6c-6a6d81421faf"
      },
      "execution_count": 48,
      "outputs": [
        {
          "output_type": "execute_result",
          "data": {
            "text/plain": [
              "<Axes: >"
            ]
          },
          "metadata": {},
          "execution_count": 48
        },
        {
          "output_type": "display_data",
          "data": {
            "text/plain": [
              "<Figure size 640x480 with 2 Axes>"
            ],
            "image/png": "[encoded data removed]"
          },
          "metadata": {}
        }
      ]
    },
    {
      "cell_type": "code",
      "source": [],
      "metadata": {
        "id": "ow9_CADj2B-N"
      },
      "execution_count": null,
      "outputs": []
    }
  ]
}